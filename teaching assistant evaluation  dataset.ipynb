{
 "cells": [
  {
   "cell_type": "markdown",
   "metadata": {},
   "source": [
    "<h1 id=\"Exploratory_Data_Analysis\">\n",
    "1. Exploratory Data Analysis\n",
    "<a class=\"anchor-link\" href=\"https://www.kaggle.com/johnmantios/travel-review-ratings-dataset/edit/run/47115230#Exploratory_Data_Analysis\">¶</a>\n",
    "</h1>"
   ]
  },
  {
   "cell_type": "code",
   "execution_count": 944,
   "metadata": {},
   "outputs": [],
   "source": [
    "import numpy as np\n",
    "import pandas as pd\n",
    "\n",
    "\n",
    "data = pd.read_csv('/Users/johnmantios1/Desktop/Διπλωματική/teaching assistant evaluation/tae.data', index_col=False, names = ['speaker', 'course_instructor', 'course', 'semester', 'class_size', 'class'], )  \n",
    " "
   ]
  },
  {
   "cell_type": "code",
   "execution_count": 945,
   "metadata": {},
   "outputs": [
    {
     "data": {
      "text/html": [
       "<div>\n",
       "<style scoped>\n",
       "    .dataframe tbody tr th:only-of-type {\n",
       "        vertical-align: middle;\n",
       "    }\n",
       "\n",
       "    .dataframe tbody tr th {\n",
       "        vertical-align: top;\n",
       "    }\n",
       "\n",
       "    .dataframe thead th {\n",
       "        text-align: right;\n",
       "    }\n",
       "</style>\n",
       "<table border=\"1\" class=\"dataframe\">\n",
       "  <thead>\n",
       "    <tr style=\"text-align: right;\">\n",
       "      <th></th>\n",
       "      <th>speaker</th>\n",
       "      <th>course_instructor</th>\n",
       "      <th>course</th>\n",
       "      <th>semester</th>\n",
       "      <th>class_size</th>\n",
       "      <th>class</th>\n",
       "    </tr>\n",
       "  </thead>\n",
       "  <tbody>\n",
       "    <tr>\n",
       "      <th>0</th>\n",
       "      <td>1</td>\n",
       "      <td>23</td>\n",
       "      <td>3</td>\n",
       "      <td>1</td>\n",
       "      <td>19</td>\n",
       "      <td>3</td>\n",
       "    </tr>\n",
       "    <tr>\n",
       "      <th>1</th>\n",
       "      <td>2</td>\n",
       "      <td>15</td>\n",
       "      <td>3</td>\n",
       "      <td>1</td>\n",
       "      <td>17</td>\n",
       "      <td>3</td>\n",
       "    </tr>\n",
       "    <tr>\n",
       "      <th>2</th>\n",
       "      <td>1</td>\n",
       "      <td>23</td>\n",
       "      <td>3</td>\n",
       "      <td>2</td>\n",
       "      <td>49</td>\n",
       "      <td>3</td>\n",
       "    </tr>\n",
       "    <tr>\n",
       "      <th>3</th>\n",
       "      <td>1</td>\n",
       "      <td>5</td>\n",
       "      <td>2</td>\n",
       "      <td>2</td>\n",
       "      <td>33</td>\n",
       "      <td>3</td>\n",
       "    </tr>\n",
       "    <tr>\n",
       "      <th>4</th>\n",
       "      <td>2</td>\n",
       "      <td>7</td>\n",
       "      <td>11</td>\n",
       "      <td>2</td>\n",
       "      <td>55</td>\n",
       "      <td>3</td>\n",
       "    </tr>\n",
       "    <tr>\n",
       "      <th>...</th>\n",
       "      <td>...</td>\n",
       "      <td>...</td>\n",
       "      <td>...</td>\n",
       "      <td>...</td>\n",
       "      <td>...</td>\n",
       "      <td>...</td>\n",
       "    </tr>\n",
       "    <tr>\n",
       "      <th>146</th>\n",
       "      <td>2</td>\n",
       "      <td>3</td>\n",
       "      <td>2</td>\n",
       "      <td>2</td>\n",
       "      <td>26</td>\n",
       "      <td>1</td>\n",
       "    </tr>\n",
       "    <tr>\n",
       "      <th>147</th>\n",
       "      <td>2</td>\n",
       "      <td>10</td>\n",
       "      <td>3</td>\n",
       "      <td>2</td>\n",
       "      <td>12</td>\n",
       "      <td>1</td>\n",
       "    </tr>\n",
       "    <tr>\n",
       "      <th>148</th>\n",
       "      <td>1</td>\n",
       "      <td>18</td>\n",
       "      <td>7</td>\n",
       "      <td>2</td>\n",
       "      <td>48</td>\n",
       "      <td>1</td>\n",
       "    </tr>\n",
       "    <tr>\n",
       "      <th>149</th>\n",
       "      <td>2</td>\n",
       "      <td>22</td>\n",
       "      <td>1</td>\n",
       "      <td>2</td>\n",
       "      <td>51</td>\n",
       "      <td>1</td>\n",
       "    </tr>\n",
       "    <tr>\n",
       "      <th>150</th>\n",
       "      <td>2</td>\n",
       "      <td>2</td>\n",
       "      <td>10</td>\n",
       "      <td>2</td>\n",
       "      <td>27</td>\n",
       "      <td>1</td>\n",
       "    </tr>\n",
       "  </tbody>\n",
       "</table>\n",
       "<p>151 rows × 6 columns</p>\n",
       "</div>"
      ],
      "text/plain": [
       "     speaker  course_instructor  course  semester  class_size  class\n",
       "0          1                 23       3         1          19      3\n",
       "1          2                 15       3         1          17      3\n",
       "2          1                 23       3         2          49      3\n",
       "3          1                  5       2         2          33      3\n",
       "4          2                  7      11         2          55      3\n",
       "..       ...                ...     ...       ...         ...    ...\n",
       "146        2                  3       2         2          26      1\n",
       "147        2                 10       3         2          12      1\n",
       "148        1                 18       7         2          48      1\n",
       "149        2                 22       1         2          51      1\n",
       "150        2                  2      10         2          27      1\n",
       "\n",
       "[151 rows x 6 columns]"
      ]
     },
     "execution_count": 945,
     "metadata": {},
     "output_type": "execute_result"
    }
   ],
   "source": [
    "data"
   ]
  },
  {
   "cell_type": "code",
   "execution_count": 946,
   "metadata": {},
   "outputs": [
    {
     "data": {
      "text/html": [
       "<div>\n",
       "<style scoped>\n",
       "    .dataframe tbody tr th:only-of-type {\n",
       "        vertical-align: middle;\n",
       "    }\n",
       "\n",
       "    .dataframe tbody tr th {\n",
       "        vertical-align: top;\n",
       "    }\n",
       "\n",
       "    .dataframe thead th {\n",
       "        text-align: right;\n",
       "    }\n",
       "</style>\n",
       "<table border=\"1\" class=\"dataframe\">\n",
       "  <thead>\n",
       "    <tr style=\"text-align: right;\">\n",
       "      <th></th>\n",
       "      <th>speaker</th>\n",
       "      <th>course_instructor</th>\n",
       "      <th>course</th>\n",
       "      <th>semester</th>\n",
       "      <th>class_size</th>\n",
       "      <th>class</th>\n",
       "    </tr>\n",
       "  </thead>\n",
       "  <tbody>\n",
       "    <tr>\n",
       "      <th>count</th>\n",
       "      <td>151.000000</td>\n",
       "      <td>151.000000</td>\n",
       "      <td>151.000000</td>\n",
       "      <td>151.000000</td>\n",
       "      <td>151.000000</td>\n",
       "      <td>151.000000</td>\n",
       "    </tr>\n",
       "    <tr>\n",
       "      <th>mean</th>\n",
       "      <td>1.807947</td>\n",
       "      <td>13.642384</td>\n",
       "      <td>8.105960</td>\n",
       "      <td>1.847682</td>\n",
       "      <td>27.867550</td>\n",
       "      <td>2.019868</td>\n",
       "    </tr>\n",
       "    <tr>\n",
       "      <th>std</th>\n",
       "      <td>0.395225</td>\n",
       "      <td>6.825779</td>\n",
       "      <td>7.023914</td>\n",
       "      <td>0.360525</td>\n",
       "      <td>12.893758</td>\n",
       "      <td>0.820327</td>\n",
       "    </tr>\n",
       "    <tr>\n",
       "      <th>min</th>\n",
       "      <td>1.000000</td>\n",
       "      <td>1.000000</td>\n",
       "      <td>1.000000</td>\n",
       "      <td>1.000000</td>\n",
       "      <td>3.000000</td>\n",
       "      <td>1.000000</td>\n",
       "    </tr>\n",
       "    <tr>\n",
       "      <th>25%</th>\n",
       "      <td>2.000000</td>\n",
       "      <td>8.000000</td>\n",
       "      <td>3.000000</td>\n",
       "      <td>2.000000</td>\n",
       "      <td>19.000000</td>\n",
       "      <td>1.000000</td>\n",
       "    </tr>\n",
       "    <tr>\n",
       "      <th>50%</th>\n",
       "      <td>2.000000</td>\n",
       "      <td>13.000000</td>\n",
       "      <td>4.000000</td>\n",
       "      <td>2.000000</td>\n",
       "      <td>27.000000</td>\n",
       "      <td>2.000000</td>\n",
       "    </tr>\n",
       "    <tr>\n",
       "      <th>75%</th>\n",
       "      <td>2.000000</td>\n",
       "      <td>20.000000</td>\n",
       "      <td>15.000000</td>\n",
       "      <td>2.000000</td>\n",
       "      <td>37.000000</td>\n",
       "      <td>3.000000</td>\n",
       "    </tr>\n",
       "    <tr>\n",
       "      <th>max</th>\n",
       "      <td>2.000000</td>\n",
       "      <td>25.000000</td>\n",
       "      <td>26.000000</td>\n",
       "      <td>2.000000</td>\n",
       "      <td>66.000000</td>\n",
       "      <td>3.000000</td>\n",
       "    </tr>\n",
       "  </tbody>\n",
       "</table>\n",
       "</div>"
      ],
      "text/plain": [
       "          speaker  course_instructor      course    semester  class_size  \\\n",
       "count  151.000000         151.000000  151.000000  151.000000  151.000000   \n",
       "mean     1.807947          13.642384    8.105960    1.847682   27.867550   \n",
       "std      0.395225           6.825779    7.023914    0.360525   12.893758   \n",
       "min      1.000000           1.000000    1.000000    1.000000    3.000000   \n",
       "25%      2.000000           8.000000    3.000000    2.000000   19.000000   \n",
       "50%      2.000000          13.000000    4.000000    2.000000   27.000000   \n",
       "75%      2.000000          20.000000   15.000000    2.000000   37.000000   \n",
       "max      2.000000          25.000000   26.000000    2.000000   66.000000   \n",
       "\n",
       "            class  \n",
       "count  151.000000  \n",
       "mean     2.019868  \n",
       "std      0.820327  \n",
       "min      1.000000  \n",
       "25%      1.000000  \n",
       "50%      2.000000  \n",
       "75%      3.000000  \n",
       "max      3.000000  "
      ]
     },
     "execution_count": 946,
     "metadata": {},
     "output_type": "execute_result"
    }
   ],
   "source": [
    "data.describe()"
   ]
  },
  {
   "cell_type": "code",
   "execution_count": 947,
   "metadata": {},
   "outputs": [
    {
     "data": {
      "text/plain": [
       "speaker              0\n",
       "course_instructor    0\n",
       "course               0\n",
       "semester             0\n",
       "class_size           0\n",
       "class                0\n",
       "dtype: int64"
      ]
     },
     "execution_count": 947,
     "metadata": {},
     "output_type": "execute_result"
    }
   ],
   "source": [
    "data.isna().sum()"
   ]
  },
  {
   "cell_type": "code",
   "execution_count": 948,
   "metadata": {},
   "outputs": [],
   "source": [
    "data = data.drop_duplicates()"
   ]
  },
  {
   "cell_type": "code",
   "execution_count": 949,
   "metadata": {},
   "outputs": [
    {
     "name": "stdout",
     "output_type": "stream",
     "text": [
      "<class 'pandas.core.frame.DataFrame'>\n",
      "Int64Index: 110 entries, 0 to 150\n",
      "Data columns (total 6 columns):\n",
      " #   Column             Non-Null Count  Dtype\n",
      "---  ------             --------------  -----\n",
      " 0   speaker            110 non-null    int64\n",
      " 1   course_instructor  110 non-null    int64\n",
      " 2   course             110 non-null    int64\n",
      " 3   semester           110 non-null    int64\n",
      " 4   class_size         110 non-null    int64\n",
      " 5   class              110 non-null    int64\n",
      "dtypes: int64(6)\n",
      "memory usage: 6.0 KB\n"
     ]
    }
   ],
   "source": [
    "data.info()"
   ]
  },
  {
   "cell_type": "code",
   "execution_count": 950,
   "metadata": {},
   "outputs": [
    {
     "name": "stdout",
     "output_type": "stream",
     "text": [
      "2    85\n",
      "1    25\n",
      "Name: speaker, dtype: int64\n",
      "23    13\n",
      "13    10\n",
      "22    10\n",
      "9      7\n",
      "18     6\n",
      "14     6\n",
      "7      6\n",
      "10     5\n",
      "20     5\n",
      "6      5\n",
      "15     5\n",
      "17     4\n",
      "8      4\n",
      "2      3\n",
      "5      3\n",
      "1      3\n",
      "16     3\n",
      "11     2\n",
      "12     2\n",
      "3      2\n",
      "25     2\n",
      "24     1\n",
      "19     1\n",
      "4      1\n",
      "21     1\n",
      "Name: course_instructor, dtype: int64\n",
      "3     32\n",
      "2     12\n",
      "1     11\n",
      "17     7\n",
      "15     7\n",
      "7      5\n",
      "11     5\n",
      "5      3\n",
      "8      3\n",
      "25     2\n",
      "6      2\n",
      "9      2\n",
      "13     2\n",
      "16     2\n",
      "18     2\n",
      "21     2\n",
      "22     2\n",
      "14     1\n",
      "12     1\n",
      "10     1\n",
      "19     1\n",
      "20     1\n",
      "4      1\n",
      "23     1\n",
      "24     1\n",
      "26     1\n",
      "Name: course, dtype: int64\n",
      "2    95\n",
      "1    15\n",
      "Name: semester, dtype: int64\n",
      "20    8\n",
      "19    7\n",
      "29    5\n",
      "27    5\n",
      "17    5\n",
      "31    4\n",
      "37    4\n",
      "38    4\n",
      "42    4\n",
      "11    4\n",
      "10    4\n",
      "24    4\n",
      "25    3\n",
      "21    3\n",
      "23    2\n",
      "22    2\n",
      "58    2\n",
      "30    2\n",
      "13    2\n",
      "15    2\n",
      "14    2\n",
      "18    2\n",
      "36    2\n",
      "39    2\n",
      "12    2\n",
      "45    2\n",
      "48    2\n",
      "51    2\n",
      "16    1\n",
      "9     1\n",
      "7     1\n",
      "5     1\n",
      "66    1\n",
      "28    1\n",
      "26    1\n",
      "32    1\n",
      "33    1\n",
      "34    1\n",
      "35    1\n",
      "43    1\n",
      "44    1\n",
      "46    1\n",
      "49    1\n",
      "54    1\n",
      "55    1\n",
      "3     1\n",
      "Name: class_size, dtype: int64\n",
      "3    38\n",
      "2    36\n",
      "1    36\n",
      "Name: class, dtype: int64\n"
     ]
    }
   ],
   "source": [
    "for col in data.columns:\n",
    "    print(data[col].value_counts())"
   ]
  },
  {
   "cell_type": "code",
   "execution_count": 951,
   "metadata": {},
   "outputs": [
    {
     "data": {
      "application/vnd.plotly.v1+json": {
       "config": {
        "plotlyServerURL": "https://plot.ly"
       },
       "data": [
        {
         "alignmentgroup": "True",
         "hovertemplate": "variable=%{x}<br>value=%{y}<extra></extra>",
         "legendgroup": "",
         "marker": {
          "color": "#636efa"
         },
         "name": "",
         "notched": false,
         "offsetgroup": "",
         "orientation": "v",
         "showlegend": false,
         "type": "box",
         "x": [
          "speaker",
          "speaker",
          "speaker",
          "speaker",
          "speaker",
          "speaker",
          "speaker",
          "speaker",
          "speaker",
          "speaker",
          "speaker",
          "speaker",
          "speaker",
          "speaker",
          "speaker",
          "speaker",
          "speaker",
          "speaker",
          "speaker",
          "speaker",
          "speaker",
          "speaker",
          "speaker",
          "speaker",
          "speaker",
          "speaker",
          "speaker",
          "speaker",
          "speaker",
          "speaker",
          "speaker",
          "speaker",
          "speaker",
          "speaker",
          "speaker",
          "speaker",
          "speaker",
          "speaker",
          "speaker",
          "speaker",
          "speaker",
          "speaker",
          "speaker",
          "speaker",
          "speaker",
          "speaker",
          "speaker",
          "speaker",
          "speaker",
          "speaker",
          "speaker",
          "speaker",
          "speaker",
          "speaker",
          "speaker",
          "speaker",
          "speaker",
          "speaker",
          "speaker",
          "speaker",
          "speaker",
          "speaker",
          "speaker",
          "speaker",
          "speaker",
          "speaker",
          "speaker",
          "speaker",
          "speaker",
          "speaker",
          "speaker",
          "speaker",
          "speaker",
          "speaker",
          "speaker",
          "speaker",
          "speaker",
          "speaker",
          "speaker",
          "speaker",
          "speaker",
          "speaker",
          "speaker",
          "speaker",
          "speaker",
          "speaker",
          "speaker",
          "speaker",
          "speaker",
          "speaker",
          "speaker",
          "speaker",
          "speaker",
          "speaker",
          "speaker",
          "speaker",
          "speaker",
          "speaker",
          "speaker",
          "speaker",
          "speaker",
          "speaker",
          "speaker",
          "speaker",
          "speaker",
          "speaker",
          "speaker",
          "speaker",
          "speaker",
          "speaker",
          "course_instructor",
          "course_instructor",
          "course_instructor",
          "course_instructor",
          "course_instructor",
          "course_instructor",
          "course_instructor",
          "course_instructor",
          "course_instructor",
          "course_instructor",
          "course_instructor",
          "course_instructor",
          "course_instructor",
          "course_instructor",
          "course_instructor",
          "course_instructor",
          "course_instructor",
          "course_instructor",
          "course_instructor",
          "course_instructor",
          "course_instructor",
          "course_instructor",
          "course_instructor",
          "course_instructor",
          "course_instructor",
          "course_instructor",
          "course_instructor",
          "course_instructor",
          "course_instructor",
          "course_instructor",
          "course_instructor",
          "course_instructor",
          "course_instructor",
          "course_instructor",
          "course_instructor",
          "course_instructor",
          "course_instructor",
          "course_instructor",
          "course_instructor",
          "course_instructor",
          "course_instructor",
          "course_instructor",
          "course_instructor",
          "course_instructor",
          "course_instructor",
          "course_instructor",
          "course_instructor",
          "course_instructor",
          "course_instructor",
          "course_instructor",
          "course_instructor",
          "course_instructor",
          "course_instructor",
          "course_instructor",
          "course_instructor",
          "course_instructor",
          "course_instructor",
          "course_instructor",
          "course_instructor",
          "course_instructor",
          "course_instructor",
          "course_instructor",
          "course_instructor",
          "course_instructor",
          "course_instructor",
          "course_instructor",
          "course_instructor",
          "course_instructor",
          "course_instructor",
          "course_instructor",
          "course_instructor",
          "course_instructor",
          "course_instructor",
          "course_instructor",
          "course_instructor",
          "course_instructor",
          "course_instructor",
          "course_instructor",
          "course_instructor",
          "course_instructor",
          "course_instructor",
          "course_instructor",
          "course_instructor",
          "course_instructor",
          "course_instructor",
          "course_instructor",
          "course_instructor",
          "course_instructor",
          "course_instructor",
          "course_instructor",
          "course_instructor",
          "course_instructor",
          "course_instructor",
          "course_instructor",
          "course_instructor",
          "course_instructor",
          "course_instructor",
          "course_instructor",
          "course_instructor",
          "course_instructor",
          "course_instructor",
          "course_instructor",
          "course_instructor",
          "course_instructor",
          "course_instructor",
          "course_instructor",
          "course_instructor",
          "course_instructor",
          "course_instructor",
          "course_instructor",
          "course",
          "course",
          "course",
          "course",
          "course",
          "course",
          "course",
          "course",
          "course",
          "course",
          "course",
          "course",
          "course",
          "course",
          "course",
          "course",
          "course",
          "course",
          "course",
          "course",
          "course",
          "course",
          "course",
          "course",
          "course",
          "course",
          "course",
          "course",
          "course",
          "course",
          "course",
          "course",
          "course",
          "course",
          "course",
          "course",
          "course",
          "course",
          "course",
          "course",
          "course",
          "course",
          "course",
          "course",
          "course",
          "course",
          "course",
          "course",
          "course",
          "course",
          "course",
          "course",
          "course",
          "course",
          "course",
          "course",
          "course",
          "course",
          "course",
          "course",
          "course",
          "course",
          "course",
          "course",
          "course",
          "course",
          "course",
          "course",
          "course",
          "course",
          "course",
          "course",
          "course",
          "course",
          "course",
          "course",
          "course",
          "course",
          "course",
          "course",
          "course",
          "course",
          "course",
          "course",
          "course",
          "course",
          "course",
          "course",
          "course",
          "course",
          "course",
          "course",
          "course",
          "course",
          "course",
          "course",
          "course",
          "course",
          "course",
          "course",
          "course",
          "course",
          "course",
          "course",
          "course",
          "course",
          "course",
          "course",
          "course",
          "course",
          "semester",
          "semester",
          "semester",
          "semester",
          "semester",
          "semester",
          "semester",
          "semester",
          "semester",
          "semester",
          "semester",
          "semester",
          "semester",
          "semester",
          "semester",
          "semester",
          "semester",
          "semester",
          "semester",
          "semester",
          "semester",
          "semester",
          "semester",
          "semester",
          "semester",
          "semester",
          "semester",
          "semester",
          "semester",
          "semester",
          "semester",
          "semester",
          "semester",
          "semester",
          "semester",
          "semester",
          "semester",
          "semester",
          "semester",
          "semester",
          "semester",
          "semester",
          "semester",
          "semester",
          "semester",
          "semester",
          "semester",
          "semester",
          "semester",
          "semester",
          "semester",
          "semester",
          "semester",
          "semester",
          "semester",
          "semester",
          "semester",
          "semester",
          "semester",
          "semester",
          "semester",
          "semester",
          "semester",
          "semester",
          "semester",
          "semester",
          "semester",
          "semester",
          "semester",
          "semester",
          "semester",
          "semester",
          "semester",
          "semester",
          "semester",
          "semester",
          "semester",
          "semester",
          "semester",
          "semester",
          "semester",
          "semester",
          "semester",
          "semester",
          "semester",
          "semester",
          "semester",
          "semester",
          "semester",
          "semester",
          "semester",
          "semester",
          "semester",
          "semester",
          "semester",
          "semester",
          "semester",
          "semester",
          "semester",
          "semester",
          "semester",
          "semester",
          "semester",
          "semester",
          "semester",
          "semester",
          "semester",
          "semester",
          "semester",
          "semester",
          "class_size",
          "class_size",
          "class_size",
          "class_size",
          "class_size",
          "class_size",
          "class_size",
          "class_size",
          "class_size",
          "class_size",
          "class_size",
          "class_size",
          "class_size",
          "class_size",
          "class_size",
          "class_size",
          "class_size",
          "class_size",
          "class_size",
          "class_size",
          "class_size",
          "class_size",
          "class_size",
          "class_size",
          "class_size",
          "class_size",
          "class_size",
          "class_size",
          "class_size",
          "class_size",
          "class_size",
          "class_size",
          "class_size",
          "class_size",
          "class_size",
          "class_size",
          "class_size",
          "class_size",
          "class_size",
          "class_size",
          "class_size",
          "class_size",
          "class_size",
          "class_size",
          "class_size",
          "class_size",
          "class_size",
          "class_size",
          "class_size",
          "class_size",
          "class_size",
          "class_size",
          "class_size",
          "class_size",
          "class_size",
          "class_size",
          "class_size",
          "class_size",
          "class_size",
          "class_size",
          "class_size",
          "class_size",
          "class_size",
          "class_size",
          "class_size",
          "class_size",
          "class_size",
          "class_size",
          "class_size",
          "class_size",
          "class_size",
          "class_size",
          "class_size",
          "class_size",
          "class_size",
          "class_size",
          "class_size",
          "class_size",
          "class_size",
          "class_size",
          "class_size",
          "class_size",
          "class_size",
          "class_size",
          "class_size",
          "class_size",
          "class_size",
          "class_size",
          "class_size",
          "class_size",
          "class_size",
          "class_size",
          "class_size",
          "class_size",
          "class_size",
          "class_size",
          "class_size",
          "class_size",
          "class_size",
          "class_size",
          "class_size",
          "class_size",
          "class_size",
          "class_size",
          "class_size",
          "class_size",
          "class_size",
          "class_size",
          "class_size",
          "class_size"
         ],
         "x0": " ",
         "xaxis": "x",
         "y": [
          1,
          2,
          1,
          1,
          2,
          2,
          2,
          2,
          1,
          2,
          2,
          2,
          2,
          2,
          2,
          2,
          2,
          2,
          2,
          2,
          2,
          2,
          2,
          2,
          2,
          2,
          2,
          2,
          2,
          2,
          2,
          2,
          2,
          1,
          2,
          2,
          2,
          2,
          2,
          1,
          1,
          1,
          2,
          2,
          2,
          2,
          1,
          2,
          1,
          1,
          2,
          1,
          2,
          2,
          1,
          2,
          2,
          1,
          1,
          2,
          2,
          1,
          2,
          1,
          2,
          1,
          2,
          2,
          2,
          1,
          2,
          2,
          2,
          1,
          2,
          2,
          2,
          2,
          2,
          2,
          2,
          2,
          2,
          2,
          1,
          2,
          1,
          1,
          2,
          2,
          2,
          2,
          1,
          2,
          2,
          2,
          2,
          2,
          2,
          2,
          2,
          2,
          2,
          2,
          2,
          2,
          2,
          1,
          2,
          2,
          23,
          15,
          23,
          5,
          7,
          23,
          9,
          10,
          22,
          15,
          10,
          13,
          18,
          6,
          6,
          6,
          7,
          22,
          13,
          7,
          25,
          25,
          2,
          1,
          15,
          7,
          8,
          14,
          21,
          22,
          11,
          18,
          13,
          13,
          5,
          16,
          4,
          5,
          14,
          22,
          23,
          13,
          16,
          9,
          13,
          18,
          22,
          7,
          23,
          23,
          14,
          17,
          9,
          18,
          17,
          1,
          1,
          11,
          22,
          9,
          13,
          6,
          23,
          23,
          6,
          22,
          20,
          23,
          20,
          23,
          13,
          10,
          7,
          14,
          8,
          12,
          8,
          15,
          23,
          2,
          15,
          20,
          13,
          9,
          10,
          14,
          13,
          8,
          20,
          22,
          18,
          20,
          17,
          14,
          24,
          9,
          12,
          9,
          22,
          23,
          17,
          16,
          3,
          19,
          23,
          3,
          10,
          18,
          22,
          2,
          3,
          3,
          3,
          2,
          11,
          3,
          5,
          3,
          3,
          3,
          22,
          1,
          21,
          17,
          17,
          17,
          11,
          3,
          3,
          25,
          7,
          7,
          9,
          15,
          13,
          11,
          3,
          15,
          2,
          3,
          1,
          5,
          1,
          3,
          2,
          8,
          16,
          2,
          15,
          3,
          3,
          3,
          19,
          2,
          3,
          21,
          3,
          11,
          3,
          3,
          22,
          17,
          5,
          25,
          17,
          15,
          8,
          16,
          13,
          2,
          1,
          17,
          3,
          3,
          17,
          3,
          2,
          3,
          2,
          3,
          1,
          3,
          11,
          15,
          3,
          7,
          7,
          1,
          3,
          9,
          1,
          2,
          14,
          6,
          3,
          15,
          1,
          3,
          2,
          1,
          12,
          15,
          18,
          23,
          26,
          24,
          8,
          6,
          1,
          3,
          18,
          20,
          2,
          4,
          3,
          2,
          3,
          7,
          1,
          10,
          1,
          1,
          2,
          2,
          2,
          1,
          2,
          2,
          1,
          1,
          2,
          2,
          2,
          2,
          2,
          2,
          2,
          2,
          1,
          2,
          2,
          2,
          2,
          1,
          2,
          2,
          2,
          2,
          2,
          2,
          2,
          2,
          2,
          1,
          2,
          2,
          2,
          2,
          2,
          2,
          1,
          1,
          2,
          2,
          1,
          2,
          2,
          1,
          1,
          2,
          2,
          2,
          2,
          2,
          2,
          2,
          2,
          2,
          2,
          2,
          2,
          2,
          1,
          1,
          2,
          2,
          2,
          2,
          2,
          2,
          2,
          2,
          2,
          2,
          2,
          2,
          2,
          2,
          2,
          2,
          2,
          2,
          2,
          2,
          2,
          2,
          2,
          2,
          2,
          2,
          2,
          2,
          2,
          2,
          2,
          2,
          2,
          2,
          2,
          2,
          2,
          2,
          2,
          2,
          2,
          2,
          2,
          2,
          2,
          2,
          19,
          17,
          49,
          33,
          55,
          20,
          19,
          27,
          58,
          20,
          9,
          30,
          29,
          39,
          42,
          43,
          10,
          46,
          10,
          42,
          27,
          23,
          31,
          22,
          37,
          13,
          24,
          38,
          42,
          28,
          51,
          19,
          31,
          13,
          37,
          36,
          21,
          48,
          38,
          58,
          25,
          17,
          11,
          39,
          11,
          19,
          45,
          20,
          20,
          38,
          17,
          19,
          24,
          25,
          31,
          31,
          18,
          22,
          27,
          14,
          20,
          35,
          20,
          20,
          37,
          15,
          25,
          10,
          14,
          38,
          29,
          19,
          30,
          32,
          27,
          34,
          23,
          66,
          12,
          29,
          19,
          3,
          17,
          7,
          21,
          36,
          54,
          29,
          45,
          11,
          16,
          18,
          44,
          17,
          21,
          20,
          24,
          5,
          42,
          11,
          29,
          15,
          37,
          10,
          24,
          26,
          12,
          48,
          51,
          27
         ],
         "y0": " ",
         "yaxis": "y"
        }
       ],
       "layout": {
        "boxmode": "group",
        "legend": {
         "tracegroupgap": 0
        },
        "margin": {
         "t": 60
        },
        "template": {
         "data": {
          "bar": [
           {
            "error_x": {
             "color": "#2a3f5f"
            },
            "error_y": {
             "color": "#2a3f5f"
            },
            "marker": {
             "line": {
              "color": "#E5ECF6",
              "width": 0.5
             }
            },
            "type": "bar"
           }
          ],
          "barpolar": [
           {
            "marker": {
             "line": {
              "color": "#E5ECF6",
              "width": 0.5
             }
            },
            "type": "barpolar"
           }
          ],
          "carpet": [
           {
            "aaxis": {
             "endlinecolor": "#2a3f5f",
             "gridcolor": "white",
             "linecolor": "white",
             "minorgridcolor": "white",
             "startlinecolor": "#2a3f5f"
            },
            "baxis": {
             "endlinecolor": "#2a3f5f",
             "gridcolor": "white",
             "linecolor": "white",
             "minorgridcolor": "white",
             "startlinecolor": "#2a3f5f"
            },
            "type": "carpet"
           }
          ],
          "choropleth": [
           {
            "colorbar": {
             "outlinewidth": 0,
             "ticks": ""
            },
            "type": "choropleth"
           }
          ],
          "contour": [
           {
            "colorbar": {
             "outlinewidth": 0,
             "ticks": ""
            },
            "colorscale": [
             [
              0,
              "#0d0887"
             ],
             [
              0.1111111111111111,
              "#46039f"
             ],
             [
              0.2222222222222222,
              "#7201a8"
             ],
             [
              0.3333333333333333,
              "#9c179e"
             ],
             [
              0.4444444444444444,
              "#bd3786"
             ],
             [
              0.5555555555555556,
              "#d8576b"
             ],
             [
              0.6666666666666666,
              "#ed7953"
             ],
             [
              0.7777777777777778,
              "#fb9f3a"
             ],
             [
              0.8888888888888888,
              "#fdca26"
             ],
             [
              1,
              "#f0f921"
             ]
            ],
            "type": "contour"
           }
          ],
          "contourcarpet": [
           {
            "colorbar": {
             "outlinewidth": 0,
             "ticks": ""
            },
            "type": "contourcarpet"
           }
          ],
          "heatmap": [
           {
            "colorbar": {
             "outlinewidth": 0,
             "ticks": ""
            },
            "colorscale": [
             [
              0,
              "#0d0887"
             ],
             [
              0.1111111111111111,
              "#46039f"
             ],
             [
              0.2222222222222222,
              "#7201a8"
             ],
             [
              0.3333333333333333,
              "#9c179e"
             ],
             [
              0.4444444444444444,
              "#bd3786"
             ],
             [
              0.5555555555555556,
              "#d8576b"
             ],
             [
              0.6666666666666666,
              "#ed7953"
             ],
             [
              0.7777777777777778,
              "#fb9f3a"
             ],
             [
              0.8888888888888888,
              "#fdca26"
             ],
             [
              1,
              "#f0f921"
             ]
            ],
            "type": "heatmap"
           }
          ],
          "heatmapgl": [
           {
            "colorbar": {
             "outlinewidth": 0,
             "ticks": ""
            },
            "colorscale": [
             [
              0,
              "#0d0887"
             ],
             [
              0.1111111111111111,
              "#46039f"
             ],
             [
              0.2222222222222222,
              "#7201a8"
             ],
             [
              0.3333333333333333,
              "#9c179e"
             ],
             [
              0.4444444444444444,
              "#bd3786"
             ],
             [
              0.5555555555555556,
              "#d8576b"
             ],
             [
              0.6666666666666666,
              "#ed7953"
             ],
             [
              0.7777777777777778,
              "#fb9f3a"
             ],
             [
              0.8888888888888888,
              "#fdca26"
             ],
             [
              1,
              "#f0f921"
             ]
            ],
            "type": "heatmapgl"
           }
          ],
          "histogram": [
           {
            "marker": {
             "colorbar": {
              "outlinewidth": 0,
              "ticks": ""
             }
            },
            "type": "histogram"
           }
          ],
          "histogram2d": [
           {
            "colorbar": {
             "outlinewidth": 0,
             "ticks": ""
            },
            "colorscale": [
             [
              0,
              "#0d0887"
             ],
             [
              0.1111111111111111,
              "#46039f"
             ],
             [
              0.2222222222222222,
              "#7201a8"
             ],
             [
              0.3333333333333333,
              "#9c179e"
             ],
             [
              0.4444444444444444,
              "#bd3786"
             ],
             [
              0.5555555555555556,
              "#d8576b"
             ],
             [
              0.6666666666666666,
              "#ed7953"
             ],
             [
              0.7777777777777778,
              "#fb9f3a"
             ],
             [
              0.8888888888888888,
              "#fdca26"
             ],
             [
              1,
              "#f0f921"
             ]
            ],
            "type": "histogram2d"
           }
          ],
          "histogram2dcontour": [
           {
            "colorbar": {
             "outlinewidth": 0,
             "ticks": ""
            },
            "colorscale": [
             [
              0,
              "#0d0887"
             ],
             [
              0.1111111111111111,
              "#46039f"
             ],
             [
              0.2222222222222222,
              "#7201a8"
             ],
             [
              0.3333333333333333,
              "#9c179e"
             ],
             [
              0.4444444444444444,
              "#bd3786"
             ],
             [
              0.5555555555555556,
              "#d8576b"
             ],
             [
              0.6666666666666666,
              "#ed7953"
             ],
             [
              0.7777777777777778,
              "#fb9f3a"
             ],
             [
              0.8888888888888888,
              "#fdca26"
             ],
             [
              1,
              "#f0f921"
             ]
            ],
            "type": "histogram2dcontour"
           }
          ],
          "mesh3d": [
           {
            "colorbar": {
             "outlinewidth": 0,
             "ticks": ""
            },
            "type": "mesh3d"
           }
          ],
          "parcoords": [
           {
            "line": {
             "colorbar": {
              "outlinewidth": 0,
              "ticks": ""
             }
            },
            "type": "parcoords"
           }
          ],
          "pie": [
           {
            "automargin": true,
            "type": "pie"
           }
          ],
          "scatter": [
           {
            "marker": {
             "colorbar": {
              "outlinewidth": 0,
              "ticks": ""
             }
            },
            "type": "scatter"
           }
          ],
          "scatter3d": [
           {
            "line": {
             "colorbar": {
              "outlinewidth": 0,
              "ticks": ""
             }
            },
            "marker": {
             "colorbar": {
              "outlinewidth": 0,
              "ticks": ""
             }
            },
            "type": "scatter3d"
           }
          ],
          "scattercarpet": [
           {
            "marker": {
             "colorbar": {
              "outlinewidth": 0,
              "ticks": ""
             }
            },
            "type": "scattercarpet"
           }
          ],
          "scattergeo": [
           {
            "marker": {
             "colorbar": {
              "outlinewidth": 0,
              "ticks": ""
             }
            },
            "type": "scattergeo"
           }
          ],
          "scattergl": [
           {
            "marker": {
             "colorbar": {
              "outlinewidth": 0,
              "ticks": ""
             }
            },
            "type": "scattergl"
           }
          ],
          "scattermapbox": [
           {
            "marker": {
             "colorbar": {
              "outlinewidth": 0,
              "ticks": ""
             }
            },
            "type": "scattermapbox"
           }
          ],
          "scatterpolar": [
           {
            "marker": {
             "colorbar": {
              "outlinewidth": 0,
              "ticks": ""
             }
            },
            "type": "scatterpolar"
           }
          ],
          "scatterpolargl": [
           {
            "marker": {
             "colorbar": {
              "outlinewidth": 0,
              "ticks": ""
             }
            },
            "type": "scatterpolargl"
           }
          ],
          "scatterternary": [
           {
            "marker": {
             "colorbar": {
              "outlinewidth": 0,
              "ticks": ""
             }
            },
            "type": "scatterternary"
           }
          ],
          "surface": [
           {
            "colorbar": {
             "outlinewidth": 0,
             "ticks": ""
            },
            "colorscale": [
             [
              0,
              "#0d0887"
             ],
             [
              0.1111111111111111,
              "#46039f"
             ],
             [
              0.2222222222222222,
              "#7201a8"
             ],
             [
              0.3333333333333333,
              "#9c179e"
             ],
             [
              0.4444444444444444,
              "#bd3786"
             ],
             [
              0.5555555555555556,
              "#d8576b"
             ],
             [
              0.6666666666666666,
              "#ed7953"
             ],
             [
              0.7777777777777778,
              "#fb9f3a"
             ],
             [
              0.8888888888888888,
              "#fdca26"
             ],
             [
              1,
              "#f0f921"
             ]
            ],
            "type": "surface"
           }
          ],
          "table": [
           {
            "cells": {
             "fill": {
              "color": "#EBF0F8"
             },
             "line": {
              "color": "white"
             }
            },
            "header": {
             "fill": {
              "color": "#C8D4E3"
             },
             "line": {
              "color": "white"
             }
            },
            "type": "table"
           }
          ]
         },
         "layout": {
          "annotationdefaults": {
           "arrowcolor": "#2a3f5f",
           "arrowhead": 0,
           "arrowwidth": 1
          },
          "coloraxis": {
           "colorbar": {
            "outlinewidth": 0,
            "ticks": ""
           }
          },
          "colorscale": {
           "diverging": [
            [
             0,
             "#8e0152"
            ],
            [
             0.1,
             "#c51b7d"
            ],
            [
             0.2,
             "#de77ae"
            ],
            [
             0.3,
             "#f1b6da"
            ],
            [
             0.4,
             "#fde0ef"
            ],
            [
             0.5,
             "#f7f7f7"
            ],
            [
             0.6,
             "#e6f5d0"
            ],
            [
             0.7,
             "#b8e186"
            ],
            [
             0.8,
             "#7fbc41"
            ],
            [
             0.9,
             "#4d9221"
            ],
            [
             1,
             "#276419"
            ]
           ],
           "sequential": [
            [
             0,
             "#0d0887"
            ],
            [
             0.1111111111111111,
             "#46039f"
            ],
            [
             0.2222222222222222,
             "#7201a8"
            ],
            [
             0.3333333333333333,
             "#9c179e"
            ],
            [
             0.4444444444444444,
             "#bd3786"
            ],
            [
             0.5555555555555556,
             "#d8576b"
            ],
            [
             0.6666666666666666,
             "#ed7953"
            ],
            [
             0.7777777777777778,
             "#fb9f3a"
            ],
            [
             0.8888888888888888,
             "#fdca26"
            ],
            [
             1,
             "#f0f921"
            ]
           ],
           "sequentialminus": [
            [
             0,
             "#0d0887"
            ],
            [
             0.1111111111111111,
             "#46039f"
            ],
            [
             0.2222222222222222,
             "#7201a8"
            ],
            [
             0.3333333333333333,
             "#9c179e"
            ],
            [
             0.4444444444444444,
             "#bd3786"
            ],
            [
             0.5555555555555556,
             "#d8576b"
            ],
            [
             0.6666666666666666,
             "#ed7953"
            ],
            [
             0.7777777777777778,
             "#fb9f3a"
            ],
            [
             0.8888888888888888,
             "#fdca26"
            ],
            [
             1,
             "#f0f921"
            ]
           ]
          },
          "colorway": [
           "#636efa",
           "#EF553B",
           "#00cc96",
           "#ab63fa",
           "#FFA15A",
           "#19d3f3",
           "#FF6692",
           "#B6E880",
           "#FF97FF",
           "#FECB52"
          ],
          "font": {
           "color": "#2a3f5f"
          },
          "geo": {
           "bgcolor": "white",
           "lakecolor": "white",
           "landcolor": "#E5ECF6",
           "showlakes": true,
           "showland": true,
           "subunitcolor": "white"
          },
          "hoverlabel": {
           "align": "left"
          },
          "hovermode": "closest",
          "mapbox": {
           "style": "light"
          },
          "paper_bgcolor": "white",
          "plot_bgcolor": "#E5ECF6",
          "polar": {
           "angularaxis": {
            "gridcolor": "white",
            "linecolor": "white",
            "ticks": ""
           },
           "bgcolor": "#E5ECF6",
           "radialaxis": {
            "gridcolor": "white",
            "linecolor": "white",
            "ticks": ""
           }
          },
          "scene": {
           "xaxis": {
            "backgroundcolor": "#E5ECF6",
            "gridcolor": "white",
            "gridwidth": 2,
            "linecolor": "white",
            "showbackground": true,
            "ticks": "",
            "zerolinecolor": "white"
           },
           "yaxis": {
            "backgroundcolor": "#E5ECF6",
            "gridcolor": "white",
            "gridwidth": 2,
            "linecolor": "white",
            "showbackground": true,
            "ticks": "",
            "zerolinecolor": "white"
           },
           "zaxis": {
            "backgroundcolor": "#E5ECF6",
            "gridcolor": "white",
            "gridwidth": 2,
            "linecolor": "white",
            "showbackground": true,
            "ticks": "",
            "zerolinecolor": "white"
           }
          },
          "shapedefaults": {
           "line": {
            "color": "#2a3f5f"
           }
          },
          "ternary": {
           "aaxis": {
            "gridcolor": "white",
            "linecolor": "white",
            "ticks": ""
           },
           "baxis": {
            "gridcolor": "white",
            "linecolor": "white",
            "ticks": ""
           },
           "bgcolor": "#E5ECF6",
           "caxis": {
            "gridcolor": "white",
            "linecolor": "white",
            "ticks": ""
           }
          },
          "title": {
           "x": 0.05
          },
          "xaxis": {
           "automargin": true,
           "gridcolor": "white",
           "linecolor": "white",
           "ticks": "",
           "title": {
            "standoff": 15
           },
           "zerolinecolor": "white",
           "zerolinewidth": 2
          },
          "yaxis": {
           "automargin": true,
           "gridcolor": "white",
           "linecolor": "white",
           "ticks": "",
           "title": {
            "standoff": 15
           },
           "zerolinecolor": "white",
           "zerolinewidth": 2
          }
         }
        },
        "xaxis": {
         "anchor": "y",
         "domain": [
          0,
          1
         ],
         "title": {
          "text": "variable"
         }
        },
        "yaxis": {
         "anchor": "x",
         "domain": [
          0,
          1
         ],
         "title": {
          "text": "value"
         }
        }
       }
      },
      "text/html": [
       "<div>                            <div id=\"a210af8b-3e95-4161-9e6f-928f5a4d92e9\" class=\"plotly-graph-div\" style=\"height:525px; width:100%;\"></div>            <script type=\"text/javascript\">                require([\"plotly\"], function(Plotly) {                    window.PLOTLYENV=window.PLOTLYENV || {};                                    if (document.getElementById(\"a210af8b-3e95-4161-9e6f-928f5a4d92e9\")) {                    Plotly.newPlot(                        \"a210af8b-3e95-4161-9e6f-928f5a4d92e9\",                        [{\"alignmentgroup\": \"True\", \"hovertemplate\": \"variable=%{x}<br>value=%{y}<extra></extra>\", \"legendgroup\": \"\", \"marker\": {\"color\": \"#636efa\"}, \"name\": \"\", \"notched\": false, \"offsetgroup\": \"\", \"orientation\": \"v\", \"showlegend\": false, \"type\": \"box\", \"x\": [\"speaker\", \"speaker\", \"speaker\", \"speaker\", \"speaker\", \"speaker\", \"speaker\", \"speaker\", \"speaker\", \"speaker\", \"speaker\", \"speaker\", \"speaker\", \"speaker\", \"speaker\", \"speaker\", \"speaker\", \"speaker\", \"speaker\", \"speaker\", \"speaker\", \"speaker\", \"speaker\", \"speaker\", \"speaker\", \"speaker\", \"speaker\", \"speaker\", \"speaker\", \"speaker\", \"speaker\", \"speaker\", \"speaker\", \"speaker\", \"speaker\", \"speaker\", \"speaker\", \"speaker\", \"speaker\", \"speaker\", \"speaker\", \"speaker\", \"speaker\", \"speaker\", \"speaker\", \"speaker\", \"speaker\", \"speaker\", \"speaker\", \"speaker\", \"speaker\", \"speaker\", \"speaker\", \"speaker\", \"speaker\", \"speaker\", \"speaker\", \"speaker\", \"speaker\", \"speaker\", \"speaker\", \"speaker\", \"speaker\", \"speaker\", \"speaker\", \"speaker\", \"speaker\", \"speaker\", \"speaker\", \"speaker\", \"speaker\", \"speaker\", \"speaker\", \"speaker\", \"speaker\", \"speaker\", \"speaker\", \"speaker\", \"speaker\", \"speaker\", \"speaker\", \"speaker\", \"speaker\", \"speaker\", \"speaker\", \"speaker\", \"speaker\", \"speaker\", \"speaker\", \"speaker\", \"speaker\", \"speaker\", \"speaker\", \"speaker\", \"speaker\", \"speaker\", \"speaker\", \"speaker\", \"speaker\", \"speaker\", \"speaker\", \"speaker\", \"speaker\", \"speaker\", \"speaker\", \"speaker\", \"speaker\", \"speaker\", \"speaker\", \"speaker\", \"course_instructor\", \"course_instructor\", \"course_instructor\", \"course_instructor\", \"course_instructor\", \"course_instructor\", \"course_instructor\", \"course_instructor\", \"course_instructor\", \"course_instructor\", \"course_instructor\", \"course_instructor\", \"course_instructor\", \"course_instructor\", \"course_instructor\", \"course_instructor\", \"course_instructor\", \"course_instructor\", \"course_instructor\", \"course_instructor\", \"course_instructor\", \"course_instructor\", \"course_instructor\", \"course_instructor\", \"course_instructor\", \"course_instructor\", \"course_instructor\", \"course_instructor\", \"course_instructor\", \"course_instructor\", \"course_instructor\", \"course_instructor\", \"course_instructor\", \"course_instructor\", \"course_instructor\", \"course_instructor\", \"course_instructor\", \"course_instructor\", \"course_instructor\", \"course_instructor\", \"course_instructor\", \"course_instructor\", \"course_instructor\", \"course_instructor\", \"course_instructor\", \"course_instructor\", \"course_instructor\", \"course_instructor\", \"course_instructor\", \"course_instructor\", \"course_instructor\", \"course_instructor\", \"course_instructor\", \"course_instructor\", \"course_instructor\", \"course_instructor\", \"course_instructor\", \"course_instructor\", \"course_instructor\", \"course_instructor\", \"course_instructor\", \"course_instructor\", \"course_instructor\", \"course_instructor\", \"course_instructor\", \"course_instructor\", \"course_instructor\", \"course_instructor\", \"course_instructor\", \"course_instructor\", \"course_instructor\", \"course_instructor\", \"course_instructor\", \"course_instructor\", \"course_instructor\", \"course_instructor\", \"course_instructor\", \"course_instructor\", \"course_instructor\", \"course_instructor\", \"course_instructor\", \"course_instructor\", \"course_instructor\", \"course_instructor\", \"course_instructor\", \"course_instructor\", \"course_instructor\", \"course_instructor\", \"course_instructor\", \"course_instructor\", \"course_instructor\", \"course_instructor\", \"course_instructor\", \"course_instructor\", \"course_instructor\", \"course_instructor\", \"course_instructor\", \"course_instructor\", \"course_instructor\", \"course_instructor\", \"course_instructor\", \"course_instructor\", \"course_instructor\", \"course_instructor\", \"course_instructor\", \"course_instructor\", \"course_instructor\", \"course_instructor\", \"course_instructor\", \"course_instructor\", \"course\", \"course\", \"course\", \"course\", \"course\", \"course\", \"course\", \"course\", \"course\", \"course\", \"course\", \"course\", \"course\", \"course\", \"course\", \"course\", \"course\", \"course\", \"course\", \"course\", \"course\", \"course\", \"course\", \"course\", \"course\", \"course\", \"course\", \"course\", \"course\", \"course\", \"course\", \"course\", \"course\", \"course\", \"course\", \"course\", \"course\", \"course\", \"course\", \"course\", \"course\", \"course\", \"course\", \"course\", \"course\", \"course\", \"course\", \"course\", \"course\", \"course\", \"course\", \"course\", \"course\", \"course\", \"course\", \"course\", \"course\", \"course\", \"course\", \"course\", \"course\", \"course\", \"course\", \"course\", \"course\", \"course\", \"course\", \"course\", \"course\", \"course\", \"course\", \"course\", \"course\", \"course\", \"course\", \"course\", \"course\", \"course\", \"course\", \"course\", \"course\", \"course\", \"course\", \"course\", \"course\", \"course\", \"course\", \"course\", \"course\", \"course\", \"course\", \"course\", \"course\", \"course\", \"course\", \"course\", \"course\", \"course\", \"course\", \"course\", \"course\", \"course\", \"course\", \"course\", \"course\", \"course\", \"course\", \"course\", \"course\", \"course\", \"semester\", \"semester\", \"semester\", \"semester\", \"semester\", \"semester\", \"semester\", \"semester\", \"semester\", \"semester\", \"semester\", \"semester\", \"semester\", \"semester\", \"semester\", \"semester\", \"semester\", \"semester\", \"semester\", \"semester\", \"semester\", \"semester\", \"semester\", \"semester\", \"semester\", \"semester\", \"semester\", \"semester\", \"semester\", \"semester\", \"semester\", \"semester\", \"semester\", \"semester\", \"semester\", \"semester\", \"semester\", \"semester\", \"semester\", \"semester\", \"semester\", \"semester\", \"semester\", \"semester\", \"semester\", \"semester\", \"semester\", \"semester\", \"semester\", \"semester\", \"semester\", \"semester\", \"semester\", \"semester\", \"semester\", \"semester\", \"semester\", \"semester\", \"semester\", \"semester\", \"semester\", \"semester\", \"semester\", \"semester\", \"semester\", \"semester\", \"semester\", \"semester\", \"semester\", \"semester\", \"semester\", \"semester\", \"semester\", \"semester\", \"semester\", \"semester\", \"semester\", \"semester\", \"semester\", \"semester\", \"semester\", \"semester\", \"semester\", \"semester\", \"semester\", \"semester\", \"semester\", \"semester\", \"semester\", \"semester\", \"semester\", \"semester\", \"semester\", \"semester\", \"semester\", \"semester\", \"semester\", \"semester\", \"semester\", \"semester\", \"semester\", \"semester\", \"semester\", \"semester\", \"semester\", \"semester\", \"semester\", \"semester\", \"semester\", \"semester\", \"class_size\", \"class_size\", \"class_size\", \"class_size\", \"class_size\", \"class_size\", \"class_size\", \"class_size\", \"class_size\", \"class_size\", \"class_size\", \"class_size\", \"class_size\", \"class_size\", \"class_size\", \"class_size\", \"class_size\", \"class_size\", \"class_size\", \"class_size\", \"class_size\", \"class_size\", \"class_size\", \"class_size\", \"class_size\", \"class_size\", \"class_size\", \"class_size\", \"class_size\", \"class_size\", \"class_size\", \"class_size\", \"class_size\", \"class_size\", \"class_size\", \"class_size\", \"class_size\", \"class_size\", \"class_size\", \"class_size\", \"class_size\", \"class_size\", \"class_size\", \"class_size\", \"class_size\", \"class_size\", \"class_size\", \"class_size\", \"class_size\", \"class_size\", \"class_size\", \"class_size\", \"class_size\", \"class_size\", \"class_size\", \"class_size\", \"class_size\", \"class_size\", \"class_size\", \"class_size\", \"class_size\", \"class_size\", \"class_size\", \"class_size\", \"class_size\", \"class_size\", \"class_size\", \"class_size\", \"class_size\", \"class_size\", \"class_size\", \"class_size\", \"class_size\", \"class_size\", \"class_size\", \"class_size\", \"class_size\", \"class_size\", \"class_size\", \"class_size\", \"class_size\", \"class_size\", \"class_size\", \"class_size\", \"class_size\", \"class_size\", \"class_size\", \"class_size\", \"class_size\", \"class_size\", \"class_size\", \"class_size\", \"class_size\", \"class_size\", \"class_size\", \"class_size\", \"class_size\", \"class_size\", \"class_size\", \"class_size\", \"class_size\", \"class_size\", \"class_size\", \"class_size\", \"class_size\", \"class_size\", \"class_size\", \"class_size\", \"class_size\", \"class_size\"], \"x0\": \" \", \"xaxis\": \"x\", \"y\": [1, 2, 1, 1, 2, 2, 2, 2, 1, 2, 2, 2, 2, 2, 2, 2, 2, 2, 2, 2, 2, 2, 2, 2, 2, 2, 2, 2, 2, 2, 2, 2, 2, 1, 2, 2, 2, 2, 2, 1, 1, 1, 2, 2, 2, 2, 1, 2, 1, 1, 2, 1, 2, 2, 1, 2, 2, 1, 1, 2, 2, 1, 2, 1, 2, 1, 2, 2, 2, 1, 2, 2, 2, 1, 2, 2, 2, 2, 2, 2, 2, 2, 2, 2, 1, 2, 1, 1, 2, 2, 2, 2, 1, 2, 2, 2, 2, 2, 2, 2, 2, 2, 2, 2, 2, 2, 2, 1, 2, 2, 23, 15, 23, 5, 7, 23, 9, 10, 22, 15, 10, 13, 18, 6, 6, 6, 7, 22, 13, 7, 25, 25, 2, 1, 15, 7, 8, 14, 21, 22, 11, 18, 13, 13, 5, 16, 4, 5, 14, 22, 23, 13, 16, 9, 13, 18, 22, 7, 23, 23, 14, 17, 9, 18, 17, 1, 1, 11, 22, 9, 13, 6, 23, 23, 6, 22, 20, 23, 20, 23, 13, 10, 7, 14, 8, 12, 8, 15, 23, 2, 15, 20, 13, 9, 10, 14, 13, 8, 20, 22, 18, 20, 17, 14, 24, 9, 12, 9, 22, 23, 17, 16, 3, 19, 23, 3, 10, 18, 22, 2, 3, 3, 3, 2, 11, 3, 5, 3, 3, 3, 22, 1, 21, 17, 17, 17, 11, 3, 3, 25, 7, 7, 9, 15, 13, 11, 3, 15, 2, 3, 1, 5, 1, 3, 2, 8, 16, 2, 15, 3, 3, 3, 19, 2, 3, 21, 3, 11, 3, 3, 22, 17, 5, 25, 17, 15, 8, 16, 13, 2, 1, 17, 3, 3, 17, 3, 2, 3, 2, 3, 1, 3, 11, 15, 3, 7, 7, 1, 3, 9, 1, 2, 14, 6, 3, 15, 1, 3, 2, 1, 12, 15, 18, 23, 26, 24, 8, 6, 1, 3, 18, 20, 2, 4, 3, 2, 3, 7, 1, 10, 1, 1, 2, 2, 2, 1, 2, 2, 1, 1, 2, 2, 2, 2, 2, 2, 2, 2, 1, 2, 2, 2, 2, 1, 2, 2, 2, 2, 2, 2, 2, 2, 2, 1, 2, 2, 2, 2, 2, 2, 1, 1, 2, 2, 1, 2, 2, 1, 1, 2, 2, 2, 2, 2, 2, 2, 2, 2, 2, 2, 2, 2, 1, 1, 2, 2, 2, 2, 2, 2, 2, 2, 2, 2, 2, 2, 2, 2, 2, 2, 2, 2, 2, 2, 2, 2, 2, 2, 2, 2, 2, 2, 2, 2, 2, 2, 2, 2, 2, 2, 2, 2, 2, 2, 2, 2, 2, 2, 2, 2, 19, 17, 49, 33, 55, 20, 19, 27, 58, 20, 9, 30, 29, 39, 42, 43, 10, 46, 10, 42, 27, 23, 31, 22, 37, 13, 24, 38, 42, 28, 51, 19, 31, 13, 37, 36, 21, 48, 38, 58, 25, 17, 11, 39, 11, 19, 45, 20, 20, 38, 17, 19, 24, 25, 31, 31, 18, 22, 27, 14, 20, 35, 20, 20, 37, 15, 25, 10, 14, 38, 29, 19, 30, 32, 27, 34, 23, 66, 12, 29, 19, 3, 17, 7, 21, 36, 54, 29, 45, 11, 16, 18, 44, 17, 21, 20, 24, 5, 42, 11, 29, 15, 37, 10, 24, 26, 12, 48, 51, 27], \"y0\": \" \", \"yaxis\": \"y\"}],                        {\"boxmode\": \"group\", \"legend\": {\"tracegroupgap\": 0}, \"margin\": {\"t\": 60}, \"template\": {\"data\": {\"bar\": [{\"error_x\": {\"color\": \"#2a3f5f\"}, \"error_y\": {\"color\": \"#2a3f5f\"}, \"marker\": {\"line\": {\"color\": \"#E5ECF6\", \"width\": 0.5}}, \"type\": \"bar\"}], \"barpolar\": [{\"marker\": {\"line\": {\"color\": \"#E5ECF6\", \"width\": 0.5}}, \"type\": \"barpolar\"}], \"carpet\": [{\"aaxis\": {\"endlinecolor\": \"#2a3f5f\", \"gridcolor\": \"white\", \"linecolor\": \"white\", \"minorgridcolor\": \"white\", \"startlinecolor\": \"#2a3f5f\"}, \"baxis\": {\"endlinecolor\": \"#2a3f5f\", \"gridcolor\": \"white\", \"linecolor\": \"white\", \"minorgridcolor\": \"white\", \"startlinecolor\": \"#2a3f5f\"}, \"type\": \"carpet\"}], \"choropleth\": [{\"colorbar\": {\"outlinewidth\": 0, \"ticks\": \"\"}, \"type\": \"choropleth\"}], \"contour\": [{\"colorbar\": {\"outlinewidth\": 0, \"ticks\": \"\"}, \"colorscale\": [[0.0, \"#0d0887\"], [0.1111111111111111, \"#46039f\"], [0.2222222222222222, \"#7201a8\"], [0.3333333333333333, \"#9c179e\"], [0.4444444444444444, \"#bd3786\"], [0.5555555555555556, \"#d8576b\"], [0.6666666666666666, \"#ed7953\"], [0.7777777777777778, \"#fb9f3a\"], [0.8888888888888888, \"#fdca26\"], [1.0, \"#f0f921\"]], \"type\": \"contour\"}], \"contourcarpet\": [{\"colorbar\": {\"outlinewidth\": 0, \"ticks\": \"\"}, \"type\": \"contourcarpet\"}], \"heatmap\": [{\"colorbar\": {\"outlinewidth\": 0, \"ticks\": \"\"}, \"colorscale\": [[0.0, \"#0d0887\"], [0.1111111111111111, \"#46039f\"], [0.2222222222222222, \"#7201a8\"], [0.3333333333333333, \"#9c179e\"], [0.4444444444444444, \"#bd3786\"], [0.5555555555555556, \"#d8576b\"], [0.6666666666666666, \"#ed7953\"], [0.7777777777777778, \"#fb9f3a\"], [0.8888888888888888, \"#fdca26\"], [1.0, \"#f0f921\"]], \"type\": \"heatmap\"}], \"heatmapgl\": [{\"colorbar\": {\"outlinewidth\": 0, \"ticks\": \"\"}, \"colorscale\": [[0.0, \"#0d0887\"], [0.1111111111111111, \"#46039f\"], [0.2222222222222222, \"#7201a8\"], [0.3333333333333333, \"#9c179e\"], [0.4444444444444444, \"#bd3786\"], [0.5555555555555556, \"#d8576b\"], [0.6666666666666666, \"#ed7953\"], [0.7777777777777778, \"#fb9f3a\"], [0.8888888888888888, \"#fdca26\"], [1.0, \"#f0f921\"]], \"type\": \"heatmapgl\"}], \"histogram\": [{\"marker\": {\"colorbar\": {\"outlinewidth\": 0, \"ticks\": \"\"}}, \"type\": \"histogram\"}], \"histogram2d\": [{\"colorbar\": {\"outlinewidth\": 0, \"ticks\": \"\"}, \"colorscale\": [[0.0, \"#0d0887\"], [0.1111111111111111, \"#46039f\"], [0.2222222222222222, \"#7201a8\"], [0.3333333333333333, \"#9c179e\"], [0.4444444444444444, \"#bd3786\"], [0.5555555555555556, \"#d8576b\"], [0.6666666666666666, \"#ed7953\"], [0.7777777777777778, \"#fb9f3a\"], [0.8888888888888888, \"#fdca26\"], [1.0, \"#f0f921\"]], \"type\": \"histogram2d\"}], \"histogram2dcontour\": [{\"colorbar\": {\"outlinewidth\": 0, \"ticks\": \"\"}, \"colorscale\": [[0.0, \"#0d0887\"], [0.1111111111111111, \"#46039f\"], [0.2222222222222222, \"#7201a8\"], [0.3333333333333333, \"#9c179e\"], [0.4444444444444444, \"#bd3786\"], [0.5555555555555556, \"#d8576b\"], [0.6666666666666666, \"#ed7953\"], [0.7777777777777778, \"#fb9f3a\"], [0.8888888888888888, \"#fdca26\"], [1.0, \"#f0f921\"]], \"type\": \"histogram2dcontour\"}], \"mesh3d\": [{\"colorbar\": {\"outlinewidth\": 0, \"ticks\": \"\"}, \"type\": \"mesh3d\"}], \"parcoords\": [{\"line\": {\"colorbar\": {\"outlinewidth\": 0, \"ticks\": \"\"}}, \"type\": \"parcoords\"}], \"pie\": [{\"automargin\": true, \"type\": \"pie\"}], \"scatter\": [{\"marker\": {\"colorbar\": {\"outlinewidth\": 0, \"ticks\": \"\"}}, \"type\": \"scatter\"}], \"scatter3d\": [{\"line\": {\"colorbar\": {\"outlinewidth\": 0, \"ticks\": \"\"}}, \"marker\": {\"colorbar\": {\"outlinewidth\": 0, \"ticks\": \"\"}}, \"type\": \"scatter3d\"}], \"scattercarpet\": [{\"marker\": {\"colorbar\": {\"outlinewidth\": 0, \"ticks\": \"\"}}, \"type\": \"scattercarpet\"}], \"scattergeo\": [{\"marker\": {\"colorbar\": {\"outlinewidth\": 0, \"ticks\": \"\"}}, \"type\": \"scattergeo\"}], \"scattergl\": [{\"marker\": {\"colorbar\": {\"outlinewidth\": 0, \"ticks\": \"\"}}, \"type\": \"scattergl\"}], \"scattermapbox\": [{\"marker\": {\"colorbar\": {\"outlinewidth\": 0, \"ticks\": \"\"}}, \"type\": \"scattermapbox\"}], \"scatterpolar\": [{\"marker\": {\"colorbar\": {\"outlinewidth\": 0, \"ticks\": \"\"}}, \"type\": \"scatterpolar\"}], \"scatterpolargl\": [{\"marker\": {\"colorbar\": {\"outlinewidth\": 0, \"ticks\": \"\"}}, \"type\": \"scatterpolargl\"}], \"scatterternary\": [{\"marker\": {\"colorbar\": {\"outlinewidth\": 0, \"ticks\": \"\"}}, \"type\": \"scatterternary\"}], \"surface\": [{\"colorbar\": {\"outlinewidth\": 0, \"ticks\": \"\"}, \"colorscale\": [[0.0, \"#0d0887\"], [0.1111111111111111, \"#46039f\"], [0.2222222222222222, \"#7201a8\"], [0.3333333333333333, \"#9c179e\"], [0.4444444444444444, \"#bd3786\"], [0.5555555555555556, \"#d8576b\"], [0.6666666666666666, \"#ed7953\"], [0.7777777777777778, \"#fb9f3a\"], [0.8888888888888888, \"#fdca26\"], [1.0, \"#f0f921\"]], \"type\": \"surface\"}], \"table\": [{\"cells\": {\"fill\": {\"color\": \"#EBF0F8\"}, \"line\": {\"color\": \"white\"}}, \"header\": {\"fill\": {\"color\": \"#C8D4E3\"}, \"line\": {\"color\": \"white\"}}, \"type\": \"table\"}]}, \"layout\": {\"annotationdefaults\": {\"arrowcolor\": \"#2a3f5f\", \"arrowhead\": 0, \"arrowwidth\": 1}, \"coloraxis\": {\"colorbar\": {\"outlinewidth\": 0, \"ticks\": \"\"}}, \"colorscale\": {\"diverging\": [[0, \"#8e0152\"], [0.1, \"#c51b7d\"], [0.2, \"#de77ae\"], [0.3, \"#f1b6da\"], [0.4, \"#fde0ef\"], [0.5, \"#f7f7f7\"], [0.6, \"#e6f5d0\"], [0.7, \"#b8e186\"], [0.8, \"#7fbc41\"], [0.9, \"#4d9221\"], [1, \"#276419\"]], \"sequential\": [[0.0, \"#0d0887\"], [0.1111111111111111, \"#46039f\"], [0.2222222222222222, \"#7201a8\"], [0.3333333333333333, \"#9c179e\"], [0.4444444444444444, \"#bd3786\"], [0.5555555555555556, \"#d8576b\"], [0.6666666666666666, \"#ed7953\"], [0.7777777777777778, \"#fb9f3a\"], [0.8888888888888888, \"#fdca26\"], [1.0, \"#f0f921\"]], \"sequentialminus\": [[0.0, \"#0d0887\"], [0.1111111111111111, \"#46039f\"], [0.2222222222222222, \"#7201a8\"], [0.3333333333333333, \"#9c179e\"], [0.4444444444444444, \"#bd3786\"], [0.5555555555555556, \"#d8576b\"], [0.6666666666666666, \"#ed7953\"], [0.7777777777777778, \"#fb9f3a\"], [0.8888888888888888, \"#fdca26\"], [1.0, \"#f0f921\"]]}, \"colorway\": [\"#636efa\", \"#EF553B\", \"#00cc96\", \"#ab63fa\", \"#FFA15A\", \"#19d3f3\", \"#FF6692\", \"#B6E880\", \"#FF97FF\", \"#FECB52\"], \"font\": {\"color\": \"#2a3f5f\"}, \"geo\": {\"bgcolor\": \"white\", \"lakecolor\": \"white\", \"landcolor\": \"#E5ECF6\", \"showlakes\": true, \"showland\": true, \"subunitcolor\": \"white\"}, \"hoverlabel\": {\"align\": \"left\"}, \"hovermode\": \"closest\", \"mapbox\": {\"style\": \"light\"}, \"paper_bgcolor\": \"white\", \"plot_bgcolor\": \"#E5ECF6\", \"polar\": {\"angularaxis\": {\"gridcolor\": \"white\", \"linecolor\": \"white\", \"ticks\": \"\"}, \"bgcolor\": \"#E5ECF6\", \"radialaxis\": {\"gridcolor\": \"white\", \"linecolor\": \"white\", \"ticks\": \"\"}}, \"scene\": {\"xaxis\": {\"backgroundcolor\": \"#E5ECF6\", \"gridcolor\": \"white\", \"gridwidth\": 2, \"linecolor\": \"white\", \"showbackground\": true, \"ticks\": \"\", \"zerolinecolor\": \"white\"}, \"yaxis\": {\"backgroundcolor\": \"#E5ECF6\", \"gridcolor\": \"white\", \"gridwidth\": 2, \"linecolor\": \"white\", \"showbackground\": true, \"ticks\": \"\", \"zerolinecolor\": \"white\"}, \"zaxis\": {\"backgroundcolor\": \"#E5ECF6\", \"gridcolor\": \"white\", \"gridwidth\": 2, \"linecolor\": \"white\", \"showbackground\": true, \"ticks\": \"\", \"zerolinecolor\": \"white\"}}, \"shapedefaults\": {\"line\": {\"color\": \"#2a3f5f\"}}, \"ternary\": {\"aaxis\": {\"gridcolor\": \"white\", \"linecolor\": \"white\", \"ticks\": \"\"}, \"baxis\": {\"gridcolor\": \"white\", \"linecolor\": \"white\", \"ticks\": \"\"}, \"bgcolor\": \"#E5ECF6\", \"caxis\": {\"gridcolor\": \"white\", \"linecolor\": \"white\", \"ticks\": \"\"}}, \"title\": {\"x\": 0.05}, \"xaxis\": {\"automargin\": true, \"gridcolor\": \"white\", \"linecolor\": \"white\", \"ticks\": \"\", \"title\": {\"standoff\": 15}, \"zerolinecolor\": \"white\", \"zerolinewidth\": 2}, \"yaxis\": {\"automargin\": true, \"gridcolor\": \"white\", \"linecolor\": \"white\", \"ticks\": \"\", \"title\": {\"standoff\": 15}, \"zerolinecolor\": \"white\", \"zerolinewidth\": 2}}}, \"xaxis\": {\"anchor\": \"y\", \"domain\": [0.0, 1.0], \"title\": {\"text\": \"variable\"}}, \"yaxis\": {\"anchor\": \"x\", \"domain\": [0.0, 1.0], \"title\": {\"text\": \"value\"}}},                        {\"responsive\": true}                    ).then(function(){\n",
       "                            \n",
       "var gd = document.getElementById('a210af8b-3e95-4161-9e6f-928f5a4d92e9');\n",
       "var x = new MutationObserver(function (mutations, observer) {{\n",
       "        var display = window.getComputedStyle(gd).display;\n",
       "        if (!display || display === 'none') {{\n",
       "            console.log([gd, 'removed!']);\n",
       "            Plotly.purge(gd);\n",
       "            observer.disconnect();\n",
       "        }}\n",
       "}});\n",
       "\n",
       "// Listen for the removal of the full notebook cells\n",
       "var notebookContainer = gd.closest('#notebook-container');\n",
       "if (notebookContainer) {{\n",
       "    x.observe(notebookContainer, {childList: true});\n",
       "}}\n",
       "\n",
       "// Listen for the clearing of the current output cell\n",
       "var outputEl = gd.closest('.output');\n",
       "if (outputEl) {{\n",
       "    x.observe(outputEl, {childList: true});\n",
       "}}\n",
       "\n",
       "                        })                };                });            </script>        </div>"
      ]
     },
     "metadata": {},
     "output_type": "display_data"
    }
   ],
   "source": [
    "import plotly.express as px\n",
    "\n",
    "fig = px.box(data, y = ['speaker', 'course_instructor', 'course', 'semester', 'class_size'] )\n",
    "fig.show()"
   ]
  },
  {
   "cell_type": "code",
   "execution_count": 952,
   "metadata": {},
   "outputs": [
    {
     "data": {
      "text/plain": [
       "speaker              25\n",
       "course_instructor     0\n",
       "course                0\n",
       "semester             15\n",
       "class_size            0\n",
       "class                 0\n",
       "dtype: int64"
      ]
     },
     "execution_count": 952,
     "metadata": {},
     "output_type": "execute_result"
    }
   ],
   "source": [
    "#outliers calculation\n",
    "\n",
    "Q1 = data.quantile(0.25)\n",
    "Q3 = data.quantile(0.75)\n",
    "IQR = Q3 - Q1\n",
    "((data < (Q1 - 5 * IQR)) | (data > (Q3 + 5 * IQR))).sum()"
   ]
  },
  {
   "cell_type": "code",
   "execution_count": 1009,
   "metadata": {},
   "outputs": [
    {
     "data": {
      "text/plain": [
       "<AxesSubplot:>"
      ]
     },
     "execution_count": 1009,
     "metadata": {},
     "output_type": "execute_result"
    },
    {
     "data": {
      "image/png": "[encoded data removed]",
      "text/plain": [
       "<Figure size 1080x720 with 2 Axes>"
      ]
     },
     "metadata": {
      "needs_background": "light"
     },
     "output_type": "display_data"
    }
   ],
   "source": [
    "import seaborn as sns\n",
    "\n",
    "plt.figure(figsize=(15,10))\n",
    "cor = data.corr() #Calculate the correlation of the above variables\n",
    "sns.heatmap(cor, square = True) #Plot the correlation as heat map"
   ]
  },
  {
   "cell_type": "code",
   "execution_count": 953,
   "metadata": {},
   "outputs": [],
   "source": [
    "#uncomment if you want to delete outliers\n",
    "\n",
    "#data = data[(data >= (Q1 - 1.5*IQR)) & (data <= (Q1 + 1.5*IQR))]\n",
    "\n",
    "#data = data.dropna()\n",
    "\n",
    "#data.describe()"
   ]
  },
  {
   "cell_type": "code",
   "execution_count": 954,
   "metadata": {},
   "outputs": [],
   "source": [
    "X = data.drop(['class'], axis=1)\n",
    "y = data['class']"
   ]
  },
  {
   "cell_type": "code",
   "execution_count": 955,
   "metadata": {},
   "outputs": [
    {
     "name": "stdout",
     "output_type": "stream",
     "text": [
      "Top features:\n",
      "0. feature 2 (0.306767)\n",
      "1. feature 4 (0.205362)\n",
      "2. feature 0 (0.169281)\n",
      "3. feature 1 (0.167393)\n",
      "4. feature 3 (0.151198)\n"
     ]
    }
   ],
   "source": [
    "#feature importance with ExtraTreesClassifier\n",
    "\n",
    "from sklearn.ensemble import ExtraTreesClassifier\n",
    "\n",
    "\n",
    "forest = ExtraTreesClassifier(n_estimators=250, max_depth=5, random_state=1)\n",
    "forest.fit(X , y)\n",
    "\n",
    "importances = forest.feature_importances_\n",
    "std = np.std(\n",
    "    [tree.feature_importances_ for tree in forest.estimators_],\n",
    "    axis=0\n",
    ")\n",
    "indices = np.argsort(importances)[::-1]\n",
    "indices = indices[:]\n",
    "\n",
    "print('Top features:')\n",
    "for f in range(0,5):\n",
    "    print('%d. feature %d (%f)' % (f , indices[f], importances[indices[f]]))"
   ]
  },
  {
   "cell_type": "code",
   "execution_count": 956,
   "metadata": {},
   "outputs": [
    {
     "data": {
      "text/plain": [
       "array([1, 4, 1, 3, 2])"
      ]
     },
     "execution_count": 956,
     "metadata": {},
     "output_type": "execute_result"
    }
   ],
   "source": [
    "#feature importance with RFECV\n",
    "\n",
    "from sklearn.feature_selection import RFECV\n",
    "from sklearn.tree import DecisionTreeClassifier\n",
    "\n",
    "estimator = DecisionTreeClassifier(criterion='gini', max_depth=2, random_state = 42)\n",
    "selector = RFECV(estimator, cv=10, step=1)\n",
    "selector = selector.fit(X, y)\n",
    "selector.support_\n",
    "\n",
    "\n",
    "selector.ranking_"
   ]
  },
  {
   "cell_type": "code",
   "execution_count": 957,
   "metadata": {},
   "outputs": [],
   "source": [
    "#X = X.drop(['semester'], axis=1)"
   ]
  },
  {
   "cell_type": "code",
   "execution_count": 958,
   "metadata": {},
   "outputs": [
    {
     "data": {
      "text/html": [
       "<div>\n",
       "<style scoped>\n",
       "    .dataframe tbody tr th:only-of-type {\n",
       "        vertical-align: middle;\n",
       "    }\n",
       "\n",
       "    .dataframe tbody tr th {\n",
       "        vertical-align: top;\n",
       "    }\n",
       "\n",
       "    .dataframe thead th {\n",
       "        text-align: right;\n",
       "    }\n",
       "</style>\n",
       "<table border=\"1\" class=\"dataframe\">\n",
       "  <thead>\n",
       "    <tr style=\"text-align: right;\">\n",
       "      <th></th>\n",
       "      <th>speaker</th>\n",
       "      <th>course_instructor</th>\n",
       "      <th>course</th>\n",
       "      <th>semester</th>\n",
       "      <th>class_size</th>\n",
       "    </tr>\n",
       "  </thead>\n",
       "  <tbody>\n",
       "    <tr>\n",
       "      <th>count</th>\n",
       "      <td>110.000000</td>\n",
       "      <td>110.000000</td>\n",
       "      <td>110.000000</td>\n",
       "      <td>110.000000</td>\n",
       "      <td>110.000000</td>\n",
       "    </tr>\n",
       "    <tr>\n",
       "      <th>mean</th>\n",
       "      <td>1.772727</td>\n",
       "      <td>14.027273</td>\n",
       "      <td>8.145455</td>\n",
       "      <td>1.863636</td>\n",
       "      <td>27.281818</td>\n",
       "    </tr>\n",
       "    <tr>\n",
       "      <th>std</th>\n",
       "      <td>0.420988</td>\n",
       "      <td>6.780245</td>\n",
       "      <td>7.163665</td>\n",
       "      <td>0.344745</td>\n",
       "      <td>13.141525</td>\n",
       "    </tr>\n",
       "    <tr>\n",
       "      <th>min</th>\n",
       "      <td>1.000000</td>\n",
       "      <td>1.000000</td>\n",
       "      <td>1.000000</td>\n",
       "      <td>1.000000</td>\n",
       "      <td>3.000000</td>\n",
       "    </tr>\n",
       "    <tr>\n",
       "      <th>25%</th>\n",
       "      <td>2.000000</td>\n",
       "      <td>9.000000</td>\n",
       "      <td>3.000000</td>\n",
       "      <td>2.000000</td>\n",
       "      <td>18.250000</td>\n",
       "    </tr>\n",
       "    <tr>\n",
       "      <th>50%</th>\n",
       "      <td>2.000000</td>\n",
       "      <td>14.000000</td>\n",
       "      <td>3.500000</td>\n",
       "      <td>2.000000</td>\n",
       "      <td>25.000000</td>\n",
       "    </tr>\n",
       "    <tr>\n",
       "      <th>75%</th>\n",
       "      <td>2.000000</td>\n",
       "      <td>20.000000</td>\n",
       "      <td>15.000000</td>\n",
       "      <td>2.000000</td>\n",
       "      <td>37.000000</td>\n",
       "    </tr>\n",
       "    <tr>\n",
       "      <th>max</th>\n",
       "      <td>2.000000</td>\n",
       "      <td>25.000000</td>\n",
       "      <td>26.000000</td>\n",
       "      <td>2.000000</td>\n",
       "      <td>66.000000</td>\n",
       "    </tr>\n",
       "  </tbody>\n",
       "</table>\n",
       "</div>"
      ],
      "text/plain": [
       "          speaker  course_instructor      course    semester  class_size\n",
       "count  110.000000         110.000000  110.000000  110.000000  110.000000\n",
       "mean     1.772727          14.027273    8.145455    1.863636   27.281818\n",
       "std      0.420988           6.780245    7.163665    0.344745   13.141525\n",
       "min      1.000000           1.000000    1.000000    1.000000    3.000000\n",
       "25%      2.000000           9.000000    3.000000    2.000000   18.250000\n",
       "50%      2.000000          14.000000    3.500000    2.000000   25.000000\n",
       "75%      2.000000          20.000000   15.000000    2.000000   37.000000\n",
       "max      2.000000          25.000000   26.000000    2.000000   66.000000"
      ]
     },
     "execution_count": 958,
     "metadata": {},
     "output_type": "execute_result"
    }
   ],
   "source": [
    "X = pd.DataFrame(X)\n",
    "X.describe()"
   ]
  },
  {
   "cell_type": "code",
   "execution_count": 959,
   "metadata": {},
   "outputs": [],
   "source": [
    "from sklearn.model_selection import train_test_split\n",
    "\n",
    "X_train, X_test, y_train, y_test = train_test_split(X, y, test_size = 0.2, random_state = 42, stratify = y)"
   ]
  },
  {
   "cell_type": "code",
   "execution_count": 960,
   "metadata": {
    "scrolled": true
   },
   "outputs": [
    {
     "name": "stdout",
     "output_type": "stream",
     "text": [
      "3    30\n",
      "2    29\n",
      "1    29\n",
      "Name: class, dtype: int64\n"
     ]
    }
   ],
   "source": [
    "print(y_train.value_counts())"
   ]
  },
  {
   "cell_type": "code",
   "execution_count": 961,
   "metadata": {},
   "outputs": [
    {
     "name": "stdout",
     "output_type": "stream",
     "text": [
      "[-0.5281556  -0.51162644 -0.40292474 -0.49469621 -0.4774662  -0.59909033\n",
      " -0.43865208 -0.42373851 -0.41269168 -0.39656776 -0.46851392 -0.41608766\n",
      " -0.41491091 -0.44763415 -0.51530923 -0.55347864 -0.49207938 -0.50873962\n",
      " -0.56062503 -0.52788617 -0.43874745 -0.57861929 -0.49970453 -0.51163995\n",
      " -0.52598147 -0.44473349 -0.44825432 -0.47642046 -0.52928313 -0.51743116\n",
      " -0.60582518 -0.4108061  -0.42261998 -0.46455619 -0.4207645  -0.47510838\n",
      " -0.413054   -0.49207938 -0.50503946 -0.5117662  -0.42793895 -0.56127913\n",
      " -0.46026216 -0.47457713 -0.47793414 -0.54709612 -0.4751507  -0.44199145\n",
      " -0.65861288 -0.54970315 -0.54743162 -0.42134994 -0.44989542 -0.4858914\n",
      " -0.58066768 -0.39560472 -0.5585621  -0.57438502 -0.46347903 -0.53742726\n",
      " -0.56776123 -0.42586307 -0.5802075  -0.44940986 -0.48265951 -0.48847066\n",
      " -0.41858972 -0.59019792 -0.47167088 -0.46540008 -0.50033719 -0.52446217\n",
      " -0.52598147 -0.46713121 -0.5557101  -0.5712208  -0.56954017 -0.48185214\n",
      " -0.40196    -0.45767116 -0.50681189 -0.40403425 -0.44966615 -0.4414738\n",
      " -0.44199145 -0.47180663 -0.52678647 -0.65137026]\n"
     ]
    }
   ],
   "source": [
    "from sklearn.ensemble import IsolationForest\n",
    "\n",
    "isf = IsolationForest(n_jobs=-1, random_state=1)\n",
    "isf.fit(X_train, y_train)\n",
    "\n",
    "print(isf.score_samples(X_train))"
   ]
  },
  {
   "cell_type": "code",
   "execution_count": 962,
   "metadata": {},
   "outputs": [
    {
     "data": {
      "text/plain": [
       "14"
      ]
     },
     "execution_count": 962,
     "metadata": {},
     "output_type": "execute_result"
    }
   ],
   "source": [
    "isf.predict(X_train).sum()"
   ]
  },
  {
   "cell_type": "code",
   "execution_count": 963,
   "metadata": {},
   "outputs": [
    {
     "name": "stderr",
     "output_type": "stream",
     "text": [
      "/Library/Frameworks/Python.framework/Versions/3.8/lib/python3.8/site-packages/pandas/core/frame.py:4162: SettingWithCopyWarning:\n",
      "\n",
      "\n",
      "A value is trying to be set on a copy of a slice from a DataFrame\n",
      "\n",
      "See the caveats in the documentation: https://pandas.pydata.org/pandas-docs/stable/user_guide/indexing.html#returning-a-view-versus-a-copy\n",
      "\n"
     ]
    }
   ],
   "source": [
    "# Get names of indexes for which score samples have value -1\n",
    "indexNames = X_train[ isf.score_samples(X_train) == -1 ].index\n",
    "# Delete these row indexes from dataFrame\n",
    "X_train.drop(indexNames , inplace=True)\n",
    "\n"
   ]
  },
  {
   "cell_type": "code",
   "execution_count": 964,
   "metadata": {},
   "outputs": [],
   "source": [
    "#uncomment if you want to oversample using SMOTE\n",
    "\n",
    "#from imblearn.over_sampling import SMOTE\n",
    "\n",
    "#sm = SMOTE(random_state = 42)\n",
    "           \n",
    "#X_train, y_train = sm.fit_sample(X_train, y_train) "
   ]
  },
  {
   "cell_type": "code",
   "execution_count": 965,
   "metadata": {},
   "outputs": [
    {
     "name": "stdout",
     "output_type": "stream",
     "text": [
      "3    30\n",
      "2    29\n",
      "1    29\n",
      "Name: class, dtype: int64\n"
     ]
    }
   ],
   "source": [
    "print(y_train.value_counts())"
   ]
  },
  {
   "cell_type": "code",
   "execution_count": 966,
   "metadata": {},
   "outputs": [],
   "source": [
    "#scaling\n",
    "\n",
    "from sklearn.preprocessing import StandardScaler\n",
    "\n",
    "scaler = StandardScaler()\n",
    "\n",
    "standardized_X_train = pd.DataFrame(scaler.fit_transform(X_train), columns = X_train.columns)\n",
    "standardized_X_test = pd.DataFrame(scaler.transform(X_test), columns = X_test.columns)"
   ]
  },
  {
   "cell_type": "code",
   "execution_count": 967,
   "metadata": {},
   "outputs": [
    {
     "data": {
      "text/plain": [
       "array([1, 2, 3])"
      ]
     },
     "execution_count": 967,
     "metadata": {},
     "output_type": "execute_result"
    }
   ],
   "source": [
    "np.unique(y_test)"
   ]
  },
  {
   "cell_type": "markdown",
   "metadata": {},
   "source": [
    "<h1 id=\"Decision_Tree:_Gini_Criterion\">\n",
    "2. Decision Tree: Gini Criterion\n",
    "<a class=\"anchor-link\" href=\"https://www.kaggle.com/johnmantios/travel-review-ratings-dataset/edit/run/47115230#Decision_Tree:_Gini_Criterion\">¶</a>\n",
    "</h1>"
   ]
  },
  {
   "cell_type": "code",
   "execution_count": 968,
   "metadata": {},
   "outputs": [],
   "source": [
    "from sklearn.metrics import log_loss\n",
    "\n",
    "\n",
    "training_loss = []\n",
    "test_loss = []\n",
    "\n",
    "def tree_scores(i):\n",
    "    clf_gini = DecisionTreeClassifier(criterion='gini', max_depth=i, random_state = 42)\n",
    "    \n",
    "    \n",
    "    clf_gini.fit(standardized_X_train, y_train)\n",
    "    y_pred_gini = clf_gini.predict_proba(standardized_X_test)\n",
    "    y_pred_train_gini = clf_gini.predict_proba(standardized_X_train)\n",
    "     \n",
    "    #print('Max Depth:' ,i)    \n",
    "    #print('Training set score: {:.4f}'.format(clf_gini.score(standardized_X_train, y_train)))\n",
    "    training_loss.append(log_loss(y_train, y_pred_train_gini))\n",
    "\n",
    "    #print('Test set score: {:.4f}'.format(clf_gini.score(standardized_X_test, y_test)))\n",
    "    test_loss.append(log_loss(y_test, y_pred_gini))\n",
    "     \n",
    "        \n",
    "for i in range(1,11):\n",
    "    tree_scores(i)"
   ]
  },
  {
   "cell_type": "code",
   "execution_count": 969,
   "metadata": {},
   "outputs": [
    {
     "data": {
      "image/png": "[encoded data removed]",
      "text/plain": [
       "<Figure size 432x288 with 1 Axes>"
      ]
     },
     "metadata": {
      "needs_background": "light"
     },
     "output_type": "display_data"
    }
   ],
   "source": [
    "import matplotlib.pyplot as plt\n",
    "\n",
    "y = [1,2,3,4,5,6,7,8,9,10]\n",
    "\n",
    "# plotting the line 1 points \n",
    "plt.plot(y, training_loss, label = \"training loss \")\n",
    "\n",
    "# plotting the line 2 points \n",
    "plt.plot(y, test_loss, label = \"test loss \")\n",
    "plt.xlabel('max depth')\n",
    "# Set the y axis label of the current axis.\n",
    "plt.ylabel('log-loss')\n",
    "# Set a title of the current axes.\n",
    "plt.title('Overfitting check ')\n",
    "# show a legend on the plot\n",
    "plt.legend()\n",
    "# Display a figure.\n",
    "plt.show()"
   ]
  },
  {
   "cell_type": "code",
   "execution_count": 970,
   "metadata": {},
   "outputs": [
    {
     "name": "stdout",
     "output_type": "stream",
     "text": [
      "0.3516339869281046 {'max_depth': 2}\n"
     ]
    }
   ],
   "source": [
    "from sklearn.model_selection import GridSearchCV\n",
    "\n",
    "parameters = {'max_depth':range(1,20)}\n",
    "clf = GridSearchCV(DecisionTreeClassifier(criterion='gini', random_state = 42),  parameters, n_jobs=4)\n",
    "clf.fit(X=standardized_X_train, y=y_train)\n",
    "tree_model = clf.best_estimator_\n",
    "print (clf.best_score_, clf.best_params_) "
   ]
  },
  {
   "cell_type": "code",
   "execution_count": 971,
   "metadata": {},
   "outputs": [
    {
     "name": "stdout",
     "output_type": "stream",
     "text": [
      "Cross-Validation Score: 0.43888888888888894\n"
     ]
    }
   ],
   "source": [
    "## from sklearn.model_selection import cross_val_score\n",
    "from sklearn.model_selection import StratifiedKFold\n",
    "\n",
    "kfold = StratifiedKFold(n_splits = 10, random_state = 42, shuffle = True)\n",
    "\n",
    "clf_gini = DecisionTreeClassifier(criterion='gini', max_depth=2, random_state = 42, min_samples_split=20, min_samples_leaf=9)\n",
    "\n",
    "print('Cross-Validation Score:',np.mean(cross_val_score(clf_gini, standardized_X_train, y_train, cv=kfold)))"
   ]
  },
  {
   "cell_type": "code",
   "execution_count": 972,
   "metadata": {},
   "outputs": [
    {
     "data": {
      "text/plain": [
       "DecisionTreeClassifier(max_depth=2, min_samples_leaf=9, random_state=42)"
      ]
     },
     "execution_count": 972,
     "metadata": {},
     "output_type": "execute_result"
    }
   ],
   "source": [
    "clf_gini = DecisionTreeClassifier(criterion='gini', max_depth=2, random_state = 42,  min_samples_leaf=9)\n",
    "\n",
    "clf_gini.fit(standardized_X_train, y_train)"
   ]
  },
  {
   "cell_type": "code",
   "execution_count": 973,
   "metadata": {},
   "outputs": [],
   "source": [
    "y_pred_gini = clf_gini.predict(standardized_X_test)"
   ]
  },
  {
   "cell_type": "code",
   "execution_count": 974,
   "metadata": {},
   "outputs": [
    {
     "name": "stdout",
     "output_type": "stream",
     "text": [
      "Accuracy: 0.4090909090909091\n"
     ]
    }
   ],
   "source": [
    "from sklearn.metrics import accuracy_score\n",
    "\n",
    "print(\"Accuracy:\",accuracy_score(y_test, y_pred_gini))"
   ]
  },
  {
   "cell_type": "code",
   "execution_count": 975,
   "metadata": {},
   "outputs": [
    {
     "data": {
      "image/svg+xml": [
       "<?xml version=\"1.0\" encoding=\"UTF-8\" standalone=\"no\"?>\n",
       "<!DOCTYPE svg PUBLIC \"-//W3C//DTD SVG 1.1//EN\"\n",
       " \"http://www.w3.org/Graphics/SVG/1.1/DTD/svg11.dtd\">\n",
       "<!-- Generated by graphviz version 2.44.1 (20200629.0846)\n",
       " -->\n",
       "<!-- Title: Tree Pages: 1 -->\n",
       "<svg width=\"528pt\" height=\"314pt\"\n",
       " viewBox=\"0.00 0.00 528.00 314.00\" xmlns=\"http://www.w3.org/2000/svg\" xmlns:xlink=\"http://www.w3.org/1999/xlink\">\n",
       "<g id=\"graph0\" class=\"graph\" transform=\"scale(1 1) rotate(0) translate(4 310)\">\n",
       "<title>Tree</title>\n",
       "<polygon fill=\"white\" stroke=\"transparent\" points=\"-4,4 -4,-310 524,-310 524,4 -4,4\"/>\n",
       "<!-- 0 -->\n",
       "<g id=\"node1\" class=\"node\">\n",
       "<title>0</title>\n",
       "<path fill=\"#fdfcff\" stroke=\"black\" d=\"M319,-306C319,-306 211,-306 211,-306 205,-306 199,-300 199,-294 199,-294 199,-235 199,-235 199,-229 205,-223 211,-223 211,-223 319,-223 319,-223 325,-223 331,-229 331,-235 331,-235 331,-294 331,-294 331,-300 325,-306 319,-306\"/>\n",
       "<text text-anchor=\"start\" x=\"220\" y=\"-290.8\" font-family=\"Helvetica,sans-Serif\" font-size=\"14.00\">course ≤ 0.414</text>\n",
       "<text text-anchor=\"start\" x=\"229.5\" y=\"-275.8\" font-family=\"Helvetica,sans-Serif\" font-size=\"14.00\">gini = 0.667</text>\n",
       "<text text-anchor=\"start\" x=\"224\" y=\"-260.8\" font-family=\"Helvetica,sans-Serif\" font-size=\"14.00\">samples = 88</text>\n",
       "<text text-anchor=\"start\" x=\"207\" y=\"-245.8\" font-family=\"Helvetica,sans-Serif\" font-size=\"14.00\">value = [29, 29, 30]</text>\n",
       "<text text-anchor=\"start\" x=\"237.5\" y=\"-230.8\" font-family=\"Helvetica,sans-Serif\" font-size=\"14.00\">class = 3</text>\n",
       "</g>\n",
       "<!-- 1 -->\n",
       "<g id=\"node2\" class=\"node\">\n",
       "<title>1</title>\n",
       "<path fill=\"#fef8f4\" stroke=\"black\" d=\"M245,-187C245,-187 137,-187 137,-187 131,-187 125,-181 125,-175 125,-175 125,-116 125,-116 125,-110 131,-104 137,-104 137,-104 245,-104 245,-104 251,-104 257,-110 257,-116 257,-116 257,-175 257,-175 257,-181 251,-187 245,-187\"/>\n",
       "<text text-anchor=\"start\" x=\"139.5\" y=\"-171.8\" font-family=\"Helvetica,sans-Serif\" font-size=\"14.00\">semester ≤ &#45;1.06</text>\n",
       "<text text-anchor=\"start\" x=\"155.5\" y=\"-156.8\" font-family=\"Helvetica,sans-Serif\" font-size=\"14.00\">gini = 0.647</text>\n",
       "<text text-anchor=\"start\" x=\"150\" y=\"-141.8\" font-family=\"Helvetica,sans-Serif\" font-size=\"14.00\">samples = 59</text>\n",
       "<text text-anchor=\"start\" x=\"133\" y=\"-126.8\" font-family=\"Helvetica,sans-Serif\" font-size=\"14.00\">value = [24, 13, 22]</text>\n",
       "<text text-anchor=\"start\" x=\"163.5\" y=\"-111.8\" font-family=\"Helvetica,sans-Serif\" font-size=\"14.00\">class = 3</text>\n",
       "</g>\n",
       "<!-- 0&#45;&gt;1 -->\n",
       "<g id=\"edge1\" class=\"edge\">\n",
       "<title>0&#45;&gt;1</title>\n",
       "<path fill=\"none\" stroke=\"black\" d=\"M239.33,-222.91C233.76,-214.1 227.81,-204.7 222.06,-195.61\"/>\n",
       "<polygon fill=\"black\" stroke=\"black\" points=\"224.93,-193.6 216.63,-187.02 219.02,-197.34 224.93,-193.6\"/>\n",
       "<text text-anchor=\"middle\" x=\"211.14\" y=\"-207.71\" font-family=\"Helvetica,sans-Serif\" font-size=\"14.00\">True</text>\n",
       "</g>\n",
       "<!-- 4 -->\n",
       "<g id=\"node5\" class=\"node\">\n",
       "<title>4</title>\n",
       "<path fill=\"#b4f5cf\" stroke=\"black\" d=\"M391,-187C391,-187 287,-187 287,-187 281,-187 275,-181 275,-175 275,-175 275,-116 275,-116 275,-110 281,-104 287,-104 287,-104 391,-104 391,-104 397,-104 403,-110 403,-116 403,-116 403,-175 403,-175 403,-181 397,-187 391,-187\"/>\n",
       "<text text-anchor=\"start\" x=\"283\" y=\"-171.8\" font-family=\"Helvetica,sans-Serif\" font-size=\"14.00\">class_size ≤ 0.511</text>\n",
       "<text text-anchor=\"start\" x=\"307\" y=\"-156.8\" font-family=\"Helvetica,sans-Serif\" font-size=\"14.00\">gini = 0.59</text>\n",
       "<text text-anchor=\"start\" x=\"298\" y=\"-141.8\" font-family=\"Helvetica,sans-Serif\" font-size=\"14.00\">samples = 29</text>\n",
       "<text text-anchor=\"start\" x=\"288.5\" y=\"-126.8\" font-family=\"Helvetica,sans-Serif\" font-size=\"14.00\">value = [5, 16, 8]</text>\n",
       "<text text-anchor=\"start\" x=\"311.5\" y=\"-111.8\" font-family=\"Helvetica,sans-Serif\" font-size=\"14.00\">class = 3</text>\n",
       "</g>\n",
       "<!-- 0&#45;&gt;4 -->\n",
       "<g id=\"edge4\" class=\"edge\">\n",
       "<title>0&#45;&gt;4</title>\n",
       "<path fill=\"none\" stroke=\"black\" d=\"M290.67,-222.91C296.24,-214.1 302.19,-204.7 307.94,-195.61\"/>\n",
       "<polygon fill=\"black\" stroke=\"black\" points=\"310.98,-197.34 313.37,-187.02 305.07,-193.6 310.98,-197.34\"/>\n",
       "<text text-anchor=\"middle\" x=\"318.86\" y=\"-207.71\" font-family=\"Helvetica,sans-Serif\" font-size=\"14.00\">False</text>\n",
       "</g>\n",
       "<!-- 2 -->\n",
       "<g id=\"node3\" class=\"node\">\n",
       "<title>2</title>\n",
       "<path fill=\"#ab7bee\" stroke=\"black\" d=\"M98,-68C98,-68 12,-68 12,-68 6,-68 0,-62 0,-56 0,-56 0,-12 0,-12 0,-6 6,0 12,0 12,0 98,0 98,0 104,0 110,-6 110,-12 110,-12 110,-56 110,-56 110,-62 104,-68 98,-68\"/>\n",
       "<text text-anchor=\"start\" x=\"23\" y=\"-52.8\" font-family=\"Helvetica,sans-Serif\" font-size=\"14.00\">gini = 0.43</text>\n",
       "<text text-anchor=\"start\" x=\"14\" y=\"-37.8\" font-family=\"Helvetica,sans-Serif\" font-size=\"14.00\">samples = 11</text>\n",
       "<text text-anchor=\"start\" x=\"8\" y=\"-22.8\" font-family=\"Helvetica,sans-Serif\" font-size=\"14.00\">value = [1, 2, 8]</text>\n",
       "<text text-anchor=\"start\" x=\"27.5\" y=\"-7.8\" font-family=\"Helvetica,sans-Serif\" font-size=\"14.00\">class = 3</text>\n",
       "</g>\n",
       "<!-- 1&#45;&gt;2 -->\n",
       "<g id=\"edge2\" class=\"edge\">\n",
       "<title>1&#45;&gt;2</title>\n",
       "<path fill=\"none\" stroke=\"black\" d=\"M140.36,-103.73C128.58,-94.24 116.05,-84.16 104.33,-74.72\"/>\n",
       "<polygon fill=\"black\" stroke=\"black\" points=\"106.34,-71.84 96.36,-68.3 101.95,-77.3 106.34,-71.84\"/>\n",
       "</g>\n",
       "<!-- 3 -->\n",
       "<g id=\"node4\" class=\"node\">\n",
       "<title>3</title>\n",
       "<path fill=\"#f8decb\" stroke=\"black\" d=\"M248,-68C248,-68 140,-68 140,-68 134,-68 128,-62 128,-56 128,-56 128,-12 128,-12 128,-6 134,0 140,0 140,0 248,0 248,0 254,0 260,-6 260,-12 260,-12 260,-56 260,-56 260,-62 254,-68 248,-68\"/>\n",
       "<text text-anchor=\"start\" x=\"158.5\" y=\"-52.8\" font-family=\"Helvetica,sans-Serif\" font-size=\"14.00\">gini = 0.633</text>\n",
       "<text text-anchor=\"start\" x=\"153\" y=\"-37.8\" font-family=\"Helvetica,sans-Serif\" font-size=\"14.00\">samples = 48</text>\n",
       "<text text-anchor=\"start\" x=\"136\" y=\"-22.8\" font-family=\"Helvetica,sans-Serif\" font-size=\"14.00\">value = [23, 11, 14]</text>\n",
       "<text text-anchor=\"start\" x=\"166.5\" y=\"-7.8\" font-family=\"Helvetica,sans-Serif\" font-size=\"14.00\">class = 3</text>\n",
       "</g>\n",
       "<!-- 1&#45;&gt;3 -->\n",
       "<g id=\"edge3\" class=\"edge\">\n",
       "<title>1&#45;&gt;3</title>\n",
       "<path fill=\"none\" stroke=\"black\" d=\"M192.12,-103.73C192.34,-95.52 192.58,-86.86 192.81,-78.56\"/>\n",
       "<polygon fill=\"black\" stroke=\"black\" points=\"196.31,-78.39 193.09,-68.3 189.32,-78.2 196.31,-78.39\"/>\n",
       "</g>\n",
       "<!-- 5 -->\n",
       "<g id=\"node6\" class=\"node\">\n",
       "<title>5</title>\n",
       "<path fill=\"#eefdf4\" stroke=\"black\" d=\"M380,-68C380,-68 294,-68 294,-68 288,-68 282,-62 282,-56 282,-56 282,-12 282,-12 282,-6 288,0 294,0 294,0 380,0 380,0 386,0 392,-6 392,-12 392,-12 392,-56 392,-56 392,-62 386,-68 380,-68\"/>\n",
       "<text text-anchor=\"start\" x=\"301.5\" y=\"-52.8\" font-family=\"Helvetica,sans-Serif\" font-size=\"14.00\">gini = 0.643</text>\n",
       "<text text-anchor=\"start\" x=\"296\" y=\"-37.8\" font-family=\"Helvetica,sans-Serif\" font-size=\"14.00\">samples = 19</text>\n",
       "<text text-anchor=\"start\" x=\"290\" y=\"-22.8\" font-family=\"Helvetica,sans-Serif\" font-size=\"14.00\">value = [4, 8, 7]</text>\n",
       "<text text-anchor=\"start\" x=\"309.5\" y=\"-7.8\" font-family=\"Helvetica,sans-Serif\" font-size=\"14.00\">class = 3</text>\n",
       "</g>\n",
       "<!-- 4&#45;&gt;5 -->\n",
       "<g id=\"edge5\" class=\"edge\">\n",
       "<title>4&#45;&gt;5</title>\n",
       "<path fill=\"none\" stroke=\"black\" d=\"M338.26,-103.73C338.11,-95.52 337.95,-86.86 337.8,-78.56\"/>\n",
       "<polygon fill=\"black\" stroke=\"black\" points=\"341.29,-78.23 337.61,-68.3 334.29,-78.36 341.29,-78.23\"/>\n",
       "</g>\n",
       "<!-- 6 -->\n",
       "<g id=\"node7\" class=\"node\">\n",
       "<title>6</title>\n",
       "<path fill=\"#65eb9d\" stroke=\"black\" d=\"M508,-68C508,-68 422,-68 422,-68 416,-68 410,-62 410,-56 410,-56 410,-12 410,-12 410,-6 416,0 422,0 422,0 508,0 508,0 514,0 520,-6 520,-12 520,-12 520,-56 520,-56 520,-62 514,-68 508,-68\"/>\n",
       "<text text-anchor=\"start\" x=\"433\" y=\"-52.8\" font-family=\"Helvetica,sans-Serif\" font-size=\"14.00\">gini = 0.34</text>\n",
       "<text text-anchor=\"start\" x=\"424\" y=\"-37.8\" font-family=\"Helvetica,sans-Serif\" font-size=\"14.00\">samples = 10</text>\n",
       "<text text-anchor=\"start\" x=\"418\" y=\"-22.8\" font-family=\"Helvetica,sans-Serif\" font-size=\"14.00\">value = [1, 8, 1]</text>\n",
       "<text text-anchor=\"start\" x=\"437.5\" y=\"-7.8\" font-family=\"Helvetica,sans-Serif\" font-size=\"14.00\">class = 3</text>\n",
       "</g>\n",
       "<!-- 4&#45;&gt;6 -->\n",
       "<g id=\"edge6\" class=\"edge\">\n",
       "<title>4&#45;&gt;6</title>\n",
       "<path fill=\"none\" stroke=\"black\" d=\"M385.92,-103.73C396.73,-94.33 408.21,-84.35 418.99,-74.99\"/>\n",
       "<polygon fill=\"black\" stroke=\"black\" points=\"421.43,-77.5 426.68,-68.3 416.84,-72.22 421.43,-77.5\"/>\n",
       "</g>\n",
       "</g>\n",
       "</svg>\n"
      ],
      "text/plain": [
       "<graphviz.files.Source at 0x1247d39a0>"
      ]
     },
     "execution_count": 975,
     "metadata": {},
     "output_type": "execute_result"
    }
   ],
   "source": [
    "import seaborn as sns\n",
    "%matplotlib inline\n",
    "import graphviz\n",
    "from sklearn import tree\n",
    "\n",
    "\n",
    "\n",
    "dot_data = tree.export_graphviz(clf_gini, out_file=None, \n",
    "                              feature_names=standardized_X_train.columns,  \n",
    "                              class_names=y_train.apply(str),  \n",
    "                              filled=True, rounded=True,  \n",
    "                              special_characters=True)\n",
    "\n",
    "graph = graphviz.Source(dot_data) \n",
    "\n",
    "graph "
   ]
  },
  {
   "cell_type": "code",
   "execution_count": 976,
   "metadata": {},
   "outputs": [
    {
     "name": "stdout",
     "output_type": "stream",
     "text": [
      "Confusion matrix\n",
      "\n",
      " [[7 0 0]\n",
      " [6 0 1]\n",
      " [2 4 2]]\n"
     ]
    },
    {
     "data": {
      "text/plain": [
       "[Text(0, 0.5, '1'), Text(0, 1.5, '2'), Text(0, 2.5, '3')]"
      ]
     },
     "execution_count": 976,
     "metadata": {},
     "output_type": "execute_result"
    },
    {
     "data": {
      "image/png": "[encoded data removed]",
      "text/plain": [
       "<Figure size 1440x720 with 2 Axes>"
      ]
     },
     "metadata": {
      "needs_background": "light"
     },
     "output_type": "display_data"
    }
   ],
   "source": [
    "from sklearn.metrics import confusion_matrix\n",
    "from sklearn.metrics import plot_confusion_matrix\n",
    "\n",
    "cm = confusion_matrix(y_test, y_pred_gini)\n",
    "\n",
    "print('Confusion matrix\\n\\n', cm)\n",
    "\n",
    "plt.figure(figsize=(20,10))\n",
    "ax= plt.subplot()\n",
    "sns.heatmap(cm, annot=True, ax = ax)  #annot=True to annotate cells\n",
    "\n",
    "# labels, title and ticks\n",
    "ax.set_xlabel('Predicted labels')\n",
    "ax.set_ylabel('True labels')\n",
    "ax.set_title('Confusion Matrix')\n",
    "ax.xaxis.set_ticklabels(np.unique(y_test))\n",
    "ax.yaxis.set_ticklabels(np.unique(y_test))"
   ]
  },
  {
   "cell_type": "code",
   "execution_count": 977,
   "metadata": {},
   "outputs": [
    {
     "name": "stdout",
     "output_type": "stream",
     "text": [
      "              precision    recall  f1-score   support\n",
      "\n",
      "           1       0.47      1.00      0.64         7\n",
      "           2       0.00      0.00      0.00         7\n",
      "           3       0.67      0.25      0.36         8\n",
      "\n",
      "    accuracy                           0.41        22\n",
      "   macro avg       0.38      0.42      0.33        22\n",
      "weighted avg       0.39      0.41      0.33        22\n",
      "\n"
     ]
    }
   ],
   "source": [
    "from sklearn.metrics import classification_report\n",
    "\n",
    "print(classification_report(y_test, y_pred_gini))"
   ]
  },
  {
   "cell_type": "markdown",
   "metadata": {},
   "source": [
    "<h1 id=\"Decision_Tree:_Entropy_Criterion\">\n",
    "3. Decision Tree: Entropy Criterion\n",
    "<a class=\"anchor-link\" href=\"https://www.kaggle.com/johnmantios/travel-review-ratings-dataset/edit/run/47115230#Decision_Tree:_Entropy_Criterion\">¶</a>\n",
    "</h1>"
   ]
  },
  {
   "cell_type": "code",
   "execution_count": 978,
   "metadata": {},
   "outputs": [],
   "source": [
    "training_loss = []\n",
    "test_loss = []\n",
    "\n",
    "def tree_scores(i):\n",
    "    clf_en = DecisionTreeClassifier(criterion='entropy', max_depth=i, random_state = 42)\n",
    "    \n",
    "    \n",
    "    clf_en.fit(standardized_X_train, y_train)\n",
    "    y_pred_en = clf_en.predict_proba(standardized_X_test)\n",
    "    y_pred_train_en = clf_en.predict_proba(standardized_X_train)\n",
    "    \n",
    "     \n",
    "    #print('Max Depth:' ,i)    \n",
    "    #print('Training set score: {:.4f}'.format(clf_en.score(standardized_X_train, y_train)))\n",
    "    training_loss.append(log_loss(y_train, y_pred_train_en))\n",
    "\n",
    "    #print('Test set score: {:.4f}'.format(clf_en.score(standardized_X_test, y_test)))\n",
    "    test_loss.append(log_loss(y_test, y_pred_en))\n",
    "     \n",
    "        \n",
    "for i in range(1,11):\n",
    "    tree_scores(i)"
   ]
  },
  {
   "cell_type": "code",
   "execution_count": 979,
   "metadata": {},
   "outputs": [
    {
     "data": {
      "image/png": "[encoded data removed]",
      "text/plain": [
       "<Figure size 432x288 with 1 Axes>"
      ]
     },
     "metadata": {
      "needs_background": "light"
     },
     "output_type": "display_data"
    }
   ],
   "source": [
    "y = [1,2,3,4,5,6,7,8,9,10]\n",
    "\n",
    "# plotting the line 1 points \n",
    "plt.plot(y, training_loss, label = \"training loss \")\n",
    "\n",
    "# plotting the line 2 points \n",
    "plt.plot(y, test_loss, label = \"test loss \")\n",
    "plt.xlabel('Max Depth')\n",
    "# Set the y axis label of the current axis.\n",
    "plt.ylabel('Log-Loss')\n",
    "# Set a title of the current axes.\n",
    "plt.title('Log-Loss plot ')\n",
    "# show a legend on the plot\n",
    "plt.legend()\n",
    "# Display a figure.\n",
    "plt.show()"
   ]
  },
  {
   "cell_type": "code",
   "execution_count": 980,
   "metadata": {},
   "outputs": [
    {
     "name": "stdout",
     "output_type": "stream",
     "text": [
      "0.4196078431372549 {'max_depth': 4}\n"
     ]
    }
   ],
   "source": [
    "parameters = {'max_depth':range(1,10)}\n",
    "clf = GridSearchCV(DecisionTreeClassifier(criterion='entropy', random_state = 42),  parameters, n_jobs=4)\n",
    "clf.fit(X=standardized_X_train, y=y_train)\n",
    "tree_model = clf.best_estimator_\n",
    "print (clf.best_score_, clf.best_params_) "
   ]
  },
  {
   "cell_type": "code",
   "execution_count": 981,
   "metadata": {},
   "outputs": [
    {
     "name": "stdout",
     "output_type": "stream",
     "text": [
      "Cross-Validation Score: 0.37222222222222223\n"
     ]
    }
   ],
   "source": [
    "clf_en = DecisionTreeClassifier(criterion='entropy', max_depth=2, random_state = 42, min_samples_leaf = 5, max_leaf_nodes = 9)\n",
    "\n",
    "print('Cross-Validation Score:',np.mean(cross_val_score(clf_en, standardized_X_train, y_train, cv=kfold)))"
   ]
  },
  {
   "cell_type": "code",
   "execution_count": 989,
   "metadata": {},
   "outputs": [],
   "source": [
    "path=DecisionTreeClassifier(random_state=1).\\\n",
    "cost_complexity_pruning_path(standardized_X_train, y_train)\n",
    "ccp_alphas, impurities = path.ccp_alphas, path.impurities"
   ]
  },
  {
   "cell_type": "code",
   "execution_count": 990,
   "metadata": {},
   "outputs": [
    {
     "data": {
      "text/plain": [
       "Text(0.5, 1.0, 'Total Impurity vs effective alpha for training set')"
      ]
     },
     "execution_count": 990,
     "metadata": {},
     "output_type": "execute_result"
    },
    {
     "data": {
      "image/png": "[encoded data removed]",
      "text/plain": [
       "<Figure size 432x288 with 1 Axes>"
      ]
     },
     "metadata": {
      "needs_background": "light"
     },
     "output_type": "display_data"
    }
   ],
   "source": [
    "fig, ax = plt.subplots()\n",
    "ax.plot(ccp_alphas[:-1], impurities[:-1], marker='o', drawstyle=\"steps-post\")\n",
    "ax.set_xlabel(\"effective alpha\")\n",
    "ax.set_ylabel(\"total impurity of leaves\")\n",
    "ax.set_title(\"Total Impurity vs effective alpha for training set\")"
   ]
  },
  {
   "cell_type": "code",
   "execution_count": 991,
   "metadata": {},
   "outputs": [],
   "source": [
    "clfs = []\n",
    "for ccp_alpha in ccp_alphas:\n",
    "    clf = DecisionTreeClassifier(random_state=1,ccp_alpha=ccp_alpha)\n",
    "    clf.fit(X_train, y_train)\n",
    "    clfs.append(clf)"
   ]
  },
  {
   "cell_type": "code",
   "execution_count": 992,
   "metadata": {},
   "outputs": [
    {
     "name": "stdout",
     "output_type": "stream",
     "text": [
      "Number of nodes in the last tree is: 1 with ccp_alpha: 0.03847898986142184 and a depth of: 0\n"
     ]
    }
   ],
   "source": [
    "print(\"Number of nodes in the last tree is: {} with ccp_alpha: {} and a depth of: {}\".format(\n",
    "clfs[-1].tree_.node_count, ccp_alphas[-1],clfs[-1].tree_.max_depth))"
   ]
  },
  {
   "cell_type": "code",
   "execution_count": 993,
   "metadata": {},
   "outputs": [],
   "source": [
    "clfs = clfs[:-1]\n",
    "ccp_alphas = ccp_alphas[:-1]"
   ]
  },
  {
   "cell_type": "code",
   "execution_count": 994,
   "metadata": {},
   "outputs": [
    {
     "data": {
      "image/png": "[encoded data removed]",
      "text/plain": [
       "<Figure size 432x288 with 2 Axes>"
      ]
     },
     "metadata": {
      "needs_background": "light"
     },
     "output_type": "display_data"
    }
   ],
   "source": [
    "node_counts = [clf.tree_.node_count for clf in clfs]\n",
    "depth = [clf.tree_.max_depth for clf in clfs]\n",
    "fig, ax = plt.subplots(2, 1)\n",
    "ax[0].plot(ccp_alphas, node_counts, marker='o', drawstyle=\"steps-post\")\n",
    "ax[0].set_xlabel(\"alpha\")\n",
    "ax[0].set_ylabel(\"number of nodes\")\n",
    "ax[0].set_title(\"Number of nodes vs alpha\")\n",
    "ax[1].plot(ccp_alphas, depth, marker='o', drawstyle=\"steps-post\")\n",
    "ax[1].set_xlabel(\"alpha\")\n",
    "ax[1].set_ylabel(\"depth of tree\")\n",
    "ax[1].set_title(\"Depth vs alpha\")\n",
    "fig.tight_layout()"
   ]
  },
  {
   "cell_type": "code",
   "execution_count": 1000,
   "metadata": {},
   "outputs": [
    {
     "data": {
      "image/png": "[encoded data removed]",
      "text/plain": [
       "<Figure size 432x288 with 1 Axes>"
      ]
     },
     "metadata": {
      "needs_background": "light"
     },
     "output_type": "display_data"
    }
   ],
   "source": [
    "train_scores = [clf.score(standardized_X_train, y_train) for clf in clfs]\n",
    "test_scores = [clf.score(standardized_X_test, y_test) for clf in clfs]\n",
    "fig, ax = plt.subplots()\n",
    "ax.set_xlabel(\"alpha\")\n",
    "ax.set_ylabel(\"accuracy\")\n",
    "ax.set_title(\"Accuracy vs alpha for training and testing sets\")\n",
    "ax.plot(ccp_alphas, train_scores, marker='o', label=\"train\",\n",
    "        drawstyle=\"steps-post\")\n",
    "ax.plot(ccp_alphas, test_scores, marker='o', label=\"test\",\n",
    "        drawstyle=\"steps-post\")\n",
    "ax.legend()\n",
    "plt.show()"
   ]
  },
  {
   "cell_type": "code",
   "execution_count": 1001,
   "metadata": {},
   "outputs": [
    {
     "name": "stdout",
     "output_type": "stream",
     "text": [
      "Training accuracy of best model:  0.3409090909090909\n",
      "Test accuracy of best model:  0.36363636363636365\n"
     ]
    }
   ],
   "source": [
    "index_best_model = np.argmax(test_scores)\n",
    "best_model = clfs[index_best_model]\n",
    "print('Training accuracy of best model: ',best_model.score(standardized_X_train, y_train))\n",
    "print('Test accuracy of best model: ',best_model.score(standardized_X_test, y_test))"
   ]
  },
  {
   "cell_type": "code",
   "execution_count": 1002,
   "metadata": {},
   "outputs": [
    {
     "data": {
      "text/plain": [
       "DecisionTreeClassifier(criterion='entropy', max_depth=3, random_state=42)"
      ]
     },
     "execution_count": 1002,
     "metadata": {},
     "output_type": "execute_result"
    }
   ],
   "source": [
    "clf_en = DecisionTreeClassifier(criterion='entropy', max_depth=3, random_state = 42)\n",
    "\n",
    "clf_en.fit(standardized_X_train, y_train)"
   ]
  },
  {
   "cell_type": "code",
   "execution_count": 1003,
   "metadata": {},
   "outputs": [],
   "source": [
    "y_pred_en = clf_en.predict(standardized_X_test)"
   ]
  },
  {
   "cell_type": "code",
   "execution_count": 1004,
   "metadata": {},
   "outputs": [
    {
     "name": "stdout",
     "output_type": "stream",
     "text": [
      "Accuracy: 0.6363636363636364\n"
     ]
    }
   ],
   "source": [
    "from sklearn.metrics import accuracy_score\n",
    "\n",
    "print(\"Accuracy:\",accuracy_score(y_test, y_pred_en))"
   ]
  },
  {
   "cell_type": "code",
   "execution_count": 1005,
   "metadata": {},
   "outputs": [
    {
     "data": {
      "image/svg+xml": [
       "<?xml version=\"1.0\" encoding=\"UTF-8\" standalone=\"no\"?>\n",
       "<!DOCTYPE svg PUBLIC \"-//W3C//DTD SVG 1.1//EN\"\n",
       " \"http://www.w3.org/Graphics/SVG/1.1/DTD/svg11.dtd\">\n",
       "<!-- Generated by graphviz version 2.44.1 (20200629.0846)\n",
       " -->\n",
       "<!-- Title: Tree Pages: 1 -->\n",
       "<svg width=\"1033pt\" height=\"433pt\"\n",
       " viewBox=\"0.00 0.00 1032.50 433.00\" xmlns=\"http://www.w3.org/2000/svg\" xmlns:xlink=\"http://www.w3.org/1999/xlink\">\n",
       "<g id=\"graph0\" class=\"graph\" transform=\"scale(1 1) rotate(0) translate(4 429)\">\n",
       "<title>Tree</title>\n",
       "<polygon fill=\"white\" stroke=\"transparent\" points=\"-4,4 -4,-429 1028.5,-429 1028.5,4 -4,4\"/>\n",
       "<!-- 0 -->\n",
       "<g id=\"node1\" class=\"node\">\n",
       "<title>0</title>\n",
       "<path fill=\"#fdfcff\" stroke=\"black\" d=\"M549.5,-425C549.5,-425 441.5,-425 441.5,-425 435.5,-425 429.5,-419 429.5,-413 429.5,-413 429.5,-354 429.5,-354 429.5,-348 435.5,-342 441.5,-342 441.5,-342 549.5,-342 549.5,-342 555.5,-342 561.5,-348 561.5,-354 561.5,-354 561.5,-413 561.5,-413 561.5,-419 555.5,-425 549.5,-425\"/>\n",
       "<text text-anchor=\"start\" x=\"450.5\" y=\"-409.8\" font-family=\"Helvetica,sans-Serif\" font-size=\"14.00\">course ≤ 0.414</text>\n",
       "<text text-anchor=\"start\" x=\"448\" y=\"-394.8\" font-family=\"Helvetica,sans-Serif\" font-size=\"14.00\">entropy = 1.585</text>\n",
       "<text text-anchor=\"start\" x=\"454.5\" y=\"-379.8\" font-family=\"Helvetica,sans-Serif\" font-size=\"14.00\">samples = 88</text>\n",
       "<text text-anchor=\"start\" x=\"437.5\" y=\"-364.8\" font-family=\"Helvetica,sans-Serif\" font-size=\"14.00\">value = [29, 29, 30]</text>\n",
       "<text text-anchor=\"start\" x=\"468\" y=\"-349.8\" font-family=\"Helvetica,sans-Serif\" font-size=\"14.00\">class = 3</text>\n",
       "</g>\n",
       "<!-- 1 -->\n",
       "<g id=\"node2\" class=\"node\">\n",
       "<title>1</title>\n",
       "<path fill=\"#fef8f4\" stroke=\"black\" d=\"M467.5,-306C467.5,-306 359.5,-306 359.5,-306 353.5,-306 347.5,-300 347.5,-294 347.5,-294 347.5,-235 347.5,-235 347.5,-229 353.5,-223 359.5,-223 359.5,-223 467.5,-223 467.5,-223 473.5,-223 479.5,-229 479.5,-235 479.5,-235 479.5,-294 479.5,-294 479.5,-300 473.5,-306 467.5,-306\"/>\n",
       "<text text-anchor=\"start\" x=\"355.5\" y=\"-290.8\" font-family=\"Helvetica,sans-Serif\" font-size=\"14.00\">class_size ≤ &#45;0.129</text>\n",
       "<text text-anchor=\"start\" x=\"366\" y=\"-275.8\" font-family=\"Helvetica,sans-Serif\" font-size=\"14.00\">entropy = 1.539</text>\n",
       "<text text-anchor=\"start\" x=\"372.5\" y=\"-260.8\" font-family=\"Helvetica,sans-Serif\" font-size=\"14.00\">samples = 59</text>\n",
       "<text text-anchor=\"start\" x=\"355.5\" y=\"-245.8\" font-family=\"Helvetica,sans-Serif\" font-size=\"14.00\">value = [24, 13, 22]</text>\n",
       "<text text-anchor=\"start\" x=\"386\" y=\"-230.8\" font-family=\"Helvetica,sans-Serif\" font-size=\"14.00\">class = 3</text>\n",
       "</g>\n",
       "<!-- 0&#45;&gt;1 -->\n",
       "<g id=\"edge1\" class=\"edge\">\n",
       "<title>0&#45;&gt;1</title>\n",
       "<path fill=\"none\" stroke=\"black\" d=\"M467.05,-341.91C460.82,-333.01 454.16,-323.51 447.72,-314.33\"/>\n",
       "<polygon fill=\"black\" stroke=\"black\" points=\"450.5,-312.2 441.9,-306.02 444.77,-316.22 450.5,-312.2\"/>\n",
       "<text text-anchor=\"middle\" x=\"437.57\" y=\"-326.94\" font-family=\"Helvetica,sans-Serif\" font-size=\"14.00\">True</text>\n",
       "</g>\n",
       "<!-- 8 -->\n",
       "<g id=\"node9\" class=\"node\">\n",
       "<title>8</title>\n",
       "<path fill=\"#b4f5cf\" stroke=\"black\" d=\"M672.5,-306C672.5,-306 568.5,-306 568.5,-306 562.5,-306 556.5,-300 556.5,-294 556.5,-294 556.5,-235 556.5,-235 556.5,-229 562.5,-223 568.5,-223 568.5,-223 672.5,-223 672.5,-223 678.5,-223 684.5,-229 684.5,-235 684.5,-235 684.5,-294 684.5,-294 684.5,-300 678.5,-306 672.5,-306\"/>\n",
       "<text text-anchor=\"start\" x=\"564.5\" y=\"-290.8\" font-family=\"Helvetica,sans-Serif\" font-size=\"14.00\">class_size ≤ 0.752</text>\n",
       "<text text-anchor=\"start\" x=\"573\" y=\"-275.8\" font-family=\"Helvetica,sans-Serif\" font-size=\"14.00\">entropy = 1.423</text>\n",
       "<text text-anchor=\"start\" x=\"579.5\" y=\"-260.8\" font-family=\"Helvetica,sans-Serif\" font-size=\"14.00\">samples = 29</text>\n",
       "<text text-anchor=\"start\" x=\"570\" y=\"-245.8\" font-family=\"Helvetica,sans-Serif\" font-size=\"14.00\">value = [5, 16, 8]</text>\n",
       "<text text-anchor=\"start\" x=\"593\" y=\"-230.8\" font-family=\"Helvetica,sans-Serif\" font-size=\"14.00\">class = 3</text>\n",
       "</g>\n",
       "<!-- 0&#45;&gt;8 -->\n",
       "<g id=\"edge8\" class=\"edge\">\n",
       "<title>0&#45;&gt;8</title>\n",
       "<path fill=\"none\" stroke=\"black\" d=\"M538.87,-341.91C548.85,-332.56 559.56,-322.54 569.83,-312.93\"/>\n",
       "<polygon fill=\"black\" stroke=\"black\" points=\"572.3,-315.41 577.21,-306.02 567.52,-310.3 572.3,-315.41\"/>\n",
       "<text text-anchor=\"middle\" x=\"576.38\" y=\"-327.31\" font-family=\"Helvetica,sans-Serif\" font-size=\"14.00\">False</text>\n",
       "</g>\n",
       "<!-- 2 -->\n",
       "<g id=\"node3\" class=\"node\">\n",
       "<title>2</title>\n",
       "<path fill=\"#edfdf4\" stroke=\"black\" d=\"M241.5,-187C241.5,-187 133.5,-187 133.5,-187 127.5,-187 121.5,-181 121.5,-175 121.5,-175 121.5,-116 121.5,-116 121.5,-110 127.5,-104 133.5,-104 133.5,-104 241.5,-104 241.5,-104 247.5,-104 253.5,-110 253.5,-116 253.5,-116 253.5,-175 253.5,-175 253.5,-181 247.5,-187 241.5,-187\"/>\n",
       "<text text-anchor=\"start\" x=\"136\" y=\"-171.8\" font-family=\"Helvetica,sans-Serif\" font-size=\"14.00\">semester ≤ &#45;1.06</text>\n",
       "<text text-anchor=\"start\" x=\"140\" y=\"-156.8\" font-family=\"Helvetica,sans-Serif\" font-size=\"14.00\">entropy = 1.579</text>\n",
       "<text text-anchor=\"start\" x=\"146.5\" y=\"-141.8\" font-family=\"Helvetica,sans-Serif\" font-size=\"14.00\">samples = 32</text>\n",
       "<text text-anchor=\"start\" x=\"129.5\" y=\"-126.8\" font-family=\"Helvetica,sans-Serif\" font-size=\"14.00\">value = [10, 12, 10]</text>\n",
       "<text text-anchor=\"start\" x=\"160\" y=\"-111.8\" font-family=\"Helvetica,sans-Serif\" font-size=\"14.00\">class = 3</text>\n",
       "</g>\n",
       "<!-- 1&#45;&gt;2 -->\n",
       "<g id=\"edge2\" class=\"edge\">\n",
       "<title>1&#45;&gt;2</title>\n",
       "<path fill=\"none\" stroke=\"black\" d=\"M347.22,-229.19C320.77,-215.5 290.18,-199.66 262.9,-185.53\"/>\n",
       "<polygon fill=\"black\" stroke=\"black\" points=\"264.27,-182.3 253.78,-180.81 261.05,-188.52 264.27,-182.3\"/>\n",
       "</g>\n",
       "<!-- 5 -->\n",
       "<g id=\"node6\" class=\"node\">\n",
       "<title>5</title>\n",
       "<path fill=\"#fceee5\" stroke=\"black\" d=\"M464,-187C464,-187 363,-187 363,-187 357,-187 351,-181 351,-175 351,-175 351,-116 351,-116 351,-110 357,-104 363,-104 363,-104 464,-104 464,-104 470,-104 476,-110 476,-116 476,-116 476,-175 476,-175 476,-181 470,-187 464,-187\"/>\n",
       "<text text-anchor=\"start\" x=\"362.5\" y=\"-171.8\" font-family=\"Helvetica,sans-Serif\" font-size=\"14.00\">speaker ≤ &#45;0.577</text>\n",
       "<text text-anchor=\"start\" x=\"366\" y=\"-156.8\" font-family=\"Helvetica,sans-Serif\" font-size=\"14.00\">entropy = 1.187</text>\n",
       "<text text-anchor=\"start\" x=\"372.5\" y=\"-141.8\" font-family=\"Helvetica,sans-Serif\" font-size=\"14.00\">samples = 27</text>\n",
       "<text text-anchor=\"start\" x=\"359\" y=\"-126.8\" font-family=\"Helvetica,sans-Serif\" font-size=\"14.00\">value = [14, 1, 12]</text>\n",
       "<text text-anchor=\"start\" x=\"386\" y=\"-111.8\" font-family=\"Helvetica,sans-Serif\" font-size=\"14.00\">class = 3</text>\n",
       "</g>\n",
       "<!-- 1&#45;&gt;5 -->\n",
       "<g id=\"edge5\" class=\"edge\">\n",
       "<title>1&#45;&gt;5</title>\n",
       "<path fill=\"none\" stroke=\"black\" d=\"M413.5,-222.91C413.5,-214.65 413.5,-205.86 413.5,-197.3\"/>\n",
       "<polygon fill=\"black\" stroke=\"black\" points=\"417,-197.02 413.5,-187.02 410,-197.02 417,-197.02\"/>\n",
       "</g>\n",
       "<!-- 3 -->\n",
       "<g id=\"node4\" class=\"node\">\n",
       "<title>3</title>\n",
       "<path fill=\"#b083ef\" stroke=\"black\" d=\"M99,-68C99,-68 12,-68 12,-68 6,-68 0,-62 0,-56 0,-56 0,-12 0,-12 0,-6 6,0 12,0 12,0 99,0 99,0 105,0 111,-6 111,-12 111,-12 111,-56 111,-56 111,-62 105,-68 99,-68\"/>\n",
       "<text text-anchor=\"start\" x=\"8\" y=\"-52.8\" font-family=\"Helvetica,sans-Serif\" font-size=\"14.00\">entropy = 1.157</text>\n",
       "<text text-anchor=\"start\" x=\"14.5\" y=\"-37.8\" font-family=\"Helvetica,sans-Serif\" font-size=\"14.00\">samples = 10</text>\n",
       "<text text-anchor=\"start\" x=\"8.5\" y=\"-22.8\" font-family=\"Helvetica,sans-Serif\" font-size=\"14.00\">value = [1, 2, 7]</text>\n",
       "<text text-anchor=\"start\" x=\"28\" y=\"-7.8\" font-family=\"Helvetica,sans-Serif\" font-size=\"14.00\">class = 3</text>\n",
       "</g>\n",
       "<!-- 2&#45;&gt;3 -->\n",
       "<g id=\"edge3\" class=\"edge\">\n",
       "<title>2&#45;&gt;3</title>\n",
       "<path fill=\"none\" stroke=\"black\" d=\"M138.35,-103.73C126.91,-94.24 114.76,-84.16 103.38,-74.72\"/>\n",
       "<polygon fill=\"black\" stroke=\"black\" points=\"105.57,-71.99 95.64,-68.3 101.1,-77.38 105.57,-71.99\"/>\n",
       "</g>\n",
       "<!-- 4 -->\n",
       "<g id=\"node5\" class=\"node\">\n",
       "<title>4</title>\n",
       "<path fill=\"#f0fdf5\" stroke=\"black\" d=\"M234,-68C234,-68 141,-68 141,-68 135,-68 129,-62 129,-56 129,-56 129,-12 129,-12 129,-6 135,0 141,0 141,0 234,0 234,0 240,0 246,-6 246,-12 246,-12 246,-56 246,-56 246,-62 240,-68 234,-68\"/>\n",
       "<text text-anchor=\"start\" x=\"140\" y=\"-52.8\" font-family=\"Helvetica,sans-Serif\" font-size=\"14.00\">entropy = 1.437</text>\n",
       "<text text-anchor=\"start\" x=\"146.5\" y=\"-37.8\" font-family=\"Helvetica,sans-Serif\" font-size=\"14.00\">samples = 22</text>\n",
       "<text text-anchor=\"start\" x=\"137\" y=\"-22.8\" font-family=\"Helvetica,sans-Serif\" font-size=\"14.00\">value = [9, 10, 3]</text>\n",
       "<text text-anchor=\"start\" x=\"160\" y=\"-7.8\" font-family=\"Helvetica,sans-Serif\" font-size=\"14.00\">class = 3</text>\n",
       "</g>\n",
       "<!-- 2&#45;&gt;4 -->\n",
       "<g id=\"edge4\" class=\"edge\">\n",
       "<title>2&#45;&gt;4</title>\n",
       "<path fill=\"none\" stroke=\"black\" d=\"M187.5,-103.73C187.5,-95.52 187.5,-86.86 187.5,-78.56\"/>\n",
       "<polygon fill=\"black\" stroke=\"black\" points=\"191,-78.3 187.5,-68.3 184,-78.3 191,-78.3\"/>\n",
       "</g>\n",
       "<!-- 6 -->\n",
       "<g id=\"node7\" class=\"node\">\n",
       "<title>6</title>\n",
       "<path fill=\"#a572ec\" stroke=\"black\" d=\"M363,-68C363,-68 276,-68 276,-68 270,-68 264,-62 264,-56 264,-56 264,-12 264,-12 264,-6 270,0 276,0 276,0 363,0 363,0 369,0 375,-6 375,-12 375,-12 375,-56 375,-56 375,-62 369,-68 363,-68\"/>\n",
       "<text text-anchor=\"start\" x=\"272\" y=\"-52.8\" font-family=\"Helvetica,sans-Serif\" font-size=\"14.00\">entropy = 0.764</text>\n",
       "<text text-anchor=\"start\" x=\"282\" y=\"-37.8\" font-family=\"Helvetica,sans-Serif\" font-size=\"14.00\">samples = 9</text>\n",
       "<text text-anchor=\"start\" x=\"272.5\" y=\"-22.8\" font-family=\"Helvetica,sans-Serif\" font-size=\"14.00\">value = [2, 0, 7]</text>\n",
       "<text text-anchor=\"start\" x=\"292\" y=\"-7.8\" font-family=\"Helvetica,sans-Serif\" font-size=\"14.00\">class = 3</text>\n",
       "</g>\n",
       "<!-- 5&#45;&gt;6 -->\n",
       "<g id=\"edge6\" class=\"edge\">\n",
       "<title>5&#45;&gt;6</title>\n",
       "<path fill=\"none\" stroke=\"black\" d=\"M378.5,-103.73C370.75,-94.7 362.53,-85.12 354.77,-76.08\"/>\n",
       "<polygon fill=\"black\" stroke=\"black\" points=\"357.26,-73.61 348.09,-68.3 351.94,-78.17 357.26,-73.61\"/>\n",
       "</g>\n",
       "<!-- 7 -->\n",
       "<g id=\"node8\" class=\"node\">\n",
       "<title>7</title>\n",
       "<path fill=\"#f1bb94\" stroke=\"black\" d=\"M498,-68C498,-68 405,-68 405,-68 399,-68 393,-62 393,-56 393,-56 393,-12 393,-12 393,-6 399,0 405,0 405,0 498,0 498,0 504,0 510,-6 510,-12 510,-12 510,-56 510,-56 510,-62 504,-68 498,-68\"/>\n",
       "<text text-anchor=\"start\" x=\"404\" y=\"-52.8\" font-family=\"Helvetica,sans-Serif\" font-size=\"14.00\">entropy = 1.135</text>\n",
       "<text text-anchor=\"start\" x=\"410.5\" y=\"-37.8\" font-family=\"Helvetica,sans-Serif\" font-size=\"14.00\">samples = 18</text>\n",
       "<text text-anchor=\"start\" x=\"401\" y=\"-22.8\" font-family=\"Helvetica,sans-Serif\" font-size=\"14.00\">value = [12, 1, 5]</text>\n",
       "<text text-anchor=\"start\" x=\"424\" y=\"-7.8\" font-family=\"Helvetica,sans-Serif\" font-size=\"14.00\">class = 3</text>\n",
       "</g>\n",
       "<!-- 5&#45;&gt;7 -->\n",
       "<g id=\"edge7\" class=\"edge\">\n",
       "<title>5&#45;&gt;7</title>\n",
       "<path fill=\"none\" stroke=\"black\" d=\"M427.65,-103.73C430.56,-95.34 433.64,-86.47 436.58,-78.01\"/>\n",
       "<polygon fill=\"black\" stroke=\"black\" points=\"439.97,-78.89 439.94,-68.3 433.36,-76.6 439.97,-78.89\"/>\n",
       "</g>\n",
       "<!-- 9 -->\n",
       "<g id=\"node10\" class=\"node\">\n",
       "<title>9</title>\n",
       "<path fill=\"#f0fdf5\" stroke=\"black\" d=\"M693,-187C693,-187 548,-187 548,-187 542,-187 536,-181 536,-175 536,-175 536,-116 536,-116 536,-110 542,-104 548,-104 548,-104 693,-104 693,-104 699,-104 705,-110 705,-116 705,-116 705,-175 705,-175 705,-181 699,-187 693,-187\"/>\n",
       "<text text-anchor=\"start\" x=\"544\" y=\"-171.8\" font-family=\"Helvetica,sans-Serif\" font-size=\"14.00\">course_instructor ≤ 0.722</text>\n",
       "<text text-anchor=\"start\" x=\"576.5\" y=\"-156.8\" font-family=\"Helvetica,sans-Serif\" font-size=\"14.00\">entropy = 1.51</text>\n",
       "<text text-anchor=\"start\" x=\"579.5\" y=\"-141.8\" font-family=\"Helvetica,sans-Serif\" font-size=\"14.00\">samples = 21</text>\n",
       "<text text-anchor=\"start\" x=\"573.5\" y=\"-126.8\" font-family=\"Helvetica,sans-Serif\" font-size=\"14.00\">value = [4, 9, 8]</text>\n",
       "<text text-anchor=\"start\" x=\"593\" y=\"-111.8\" font-family=\"Helvetica,sans-Serif\" font-size=\"14.00\">class = 3</text>\n",
       "</g>\n",
       "<!-- 8&#45;&gt;9 -->\n",
       "<g id=\"edge9\" class=\"edge\">\n",
       "<title>8&#45;&gt;9</title>\n",
       "<path fill=\"none\" stroke=\"black\" d=\"M620.5,-222.91C620.5,-214.65 620.5,-205.86 620.5,-197.3\"/>\n",
       "<polygon fill=\"black\" stroke=\"black\" points=\"624,-197.02 620.5,-187.02 617,-197.02 624,-197.02\"/>\n",
       "</g>\n",
       "<!-- 12 -->\n",
       "<g id=\"node13\" class=\"node\">\n",
       "<title>12</title>\n",
       "<path fill=\"#55e993\" stroke=\"black\" d=\"M884,-187C884,-187 797,-187 797,-187 791,-187 785,-181 785,-175 785,-175 785,-116 785,-116 785,-110 791,-104 797,-104 797,-104 884,-104 884,-104 890,-104 896,-110 896,-116 896,-116 896,-175 896,-175 896,-181 890,-187 884,-187\"/>\n",
       "<text text-anchor=\"start\" x=\"795.5\" y=\"-171.8\" font-family=\"Helvetica,sans-Serif\" font-size=\"14.00\">course ≤ 1.026</text>\n",
       "<text text-anchor=\"start\" x=\"793\" y=\"-156.8\" font-family=\"Helvetica,sans-Serif\" font-size=\"14.00\">entropy = 0.544</text>\n",
       "<text text-anchor=\"start\" x=\"803\" y=\"-141.8\" font-family=\"Helvetica,sans-Serif\" font-size=\"14.00\">samples = 8</text>\n",
       "<text text-anchor=\"start\" x=\"793.5\" y=\"-126.8\" font-family=\"Helvetica,sans-Serif\" font-size=\"14.00\">value = [1, 7, 0]</text>\n",
       "<text text-anchor=\"start\" x=\"813\" y=\"-111.8\" font-family=\"Helvetica,sans-Serif\" font-size=\"14.00\">class = 3</text>\n",
       "</g>\n",
       "<!-- 8&#45;&gt;12 -->\n",
       "<g id=\"edge12\" class=\"edge\">\n",
       "<title>8&#45;&gt;12</title>\n",
       "<path fill=\"none\" stroke=\"black\" d=\"M684.72,-229.34C713.34,-214.13 746.97,-196.24 775.66,-180.98\"/>\n",
       "<polygon fill=\"black\" stroke=\"black\" points=\"777.6,-183.92 784.78,-176.13 774.31,-177.74 777.6,-183.92\"/>\n",
       "</g>\n",
       "<!-- 10 -->\n",
       "<g id=\"node11\" class=\"node\">\n",
       "<title>10</title>\n",
       "<path fill=\"#eadefb\" stroke=\"black\" d=\"M626.5,-68C626.5,-68 540.5,-68 540.5,-68 534.5,-68 528.5,-62 528.5,-56 528.5,-56 528.5,-12 528.5,-12 528.5,-6 534.5,0 540.5,0 540.5,0 626.5,0 626.5,0 632.5,0 638.5,-6 638.5,-12 638.5,-12 638.5,-56 638.5,-56 638.5,-62 632.5,-68 626.5,-68\"/>\n",
       "<text text-anchor=\"start\" x=\"539.5\" y=\"-52.8\" font-family=\"Helvetica,sans-Serif\" font-size=\"14.00\">entropy = 1.53</text>\n",
       "<text text-anchor=\"start\" x=\"542.5\" y=\"-37.8\" font-family=\"Helvetica,sans-Serif\" font-size=\"14.00\">samples = 18</text>\n",
       "<text text-anchor=\"start\" x=\"536.5\" y=\"-22.8\" font-family=\"Helvetica,sans-Serif\" font-size=\"14.00\">value = [4, 6, 8]</text>\n",
       "<text text-anchor=\"start\" x=\"556\" y=\"-7.8\" font-family=\"Helvetica,sans-Serif\" font-size=\"14.00\">class = 3</text>\n",
       "</g>\n",
       "<!-- 9&#45;&gt;10 -->\n",
       "<g id=\"edge10\" class=\"edge\">\n",
       "<title>9&#45;&gt;10</title>\n",
       "<path fill=\"none\" stroke=\"black\" d=\"M606.72,-103.73C603.89,-95.34 600.89,-86.47 598.03,-78.01\"/>\n",
       "<polygon fill=\"black\" stroke=\"black\" points=\"601.27,-76.65 594.75,-68.3 594.64,-78.89 601.27,-76.65\"/>\n",
       "</g>\n",
       "<!-- 11 -->\n",
       "<g id=\"node12\" class=\"node\">\n",
       "<title>11</title>\n",
       "<path fill=\"#39e581\" stroke=\"black\" d=\"M754.5,-68C754.5,-68 668.5,-68 668.5,-68 662.5,-68 656.5,-62 656.5,-56 656.5,-56 656.5,-12 656.5,-12 656.5,-6 662.5,0 668.5,0 668.5,0 754.5,0 754.5,0 760.5,0 766.5,-6 766.5,-12 766.5,-12 766.5,-56 766.5,-56 766.5,-62 760.5,-68 754.5,-68\"/>\n",
       "<text text-anchor=\"start\" x=\"671.5\" y=\"-52.8\" font-family=\"Helvetica,sans-Serif\" font-size=\"14.00\">entropy = 0.0</text>\n",
       "<text text-anchor=\"start\" x=\"674\" y=\"-37.8\" font-family=\"Helvetica,sans-Serif\" font-size=\"14.00\">samples = 3</text>\n",
       "<text text-anchor=\"start\" x=\"664.5\" y=\"-22.8\" font-family=\"Helvetica,sans-Serif\" font-size=\"14.00\">value = [0, 3, 0]</text>\n",
       "<text text-anchor=\"start\" x=\"684\" y=\"-7.8\" font-family=\"Helvetica,sans-Serif\" font-size=\"14.00\">class = 3</text>\n",
       "</g>\n",
       "<!-- 9&#45;&gt;11 -->\n",
       "<g id=\"edge11\" class=\"edge\">\n",
       "<title>9&#45;&gt;11</title>\n",
       "<path fill=\"none\" stroke=\"black\" d=\"M654.39,-103.73C661.89,-94.7 669.84,-85.12 677.36,-76.08\"/>\n",
       "<polygon fill=\"black\" stroke=\"black\" points=\"680.13,-78.23 683.83,-68.3 674.74,-73.75 680.13,-78.23\"/>\n",
       "</g>\n",
       "<!-- 13 -->\n",
       "<g id=\"node14\" class=\"node\">\n",
       "<title>13</title>\n",
       "<path fill=\"#9cf2c0\" stroke=\"black\" d=\"M884,-68C884,-68 797,-68 797,-68 791,-68 785,-62 785,-56 785,-56 785,-12 785,-12 785,-6 791,0 797,0 797,0 884,0 884,0 890,0 896,-6 896,-12 896,-12 896,-56 896,-56 896,-62 890,-68 884,-68\"/>\n",
       "<text text-anchor=\"start\" x=\"793\" y=\"-52.8\" font-family=\"Helvetica,sans-Serif\" font-size=\"14.00\">entropy = 0.918</text>\n",
       "<text text-anchor=\"start\" x=\"803\" y=\"-37.8\" font-family=\"Helvetica,sans-Serif\" font-size=\"14.00\">samples = 3</text>\n",
       "<text text-anchor=\"start\" x=\"793.5\" y=\"-22.8\" font-family=\"Helvetica,sans-Serif\" font-size=\"14.00\">value = [1, 2, 0]</text>\n",
       "<text text-anchor=\"start\" x=\"813\" y=\"-7.8\" font-family=\"Helvetica,sans-Serif\" font-size=\"14.00\">class = 3</text>\n",
       "</g>\n",
       "<!-- 12&#45;&gt;13 -->\n",
       "<g id=\"edge13\" class=\"edge\">\n",
       "<title>12&#45;&gt;13</title>\n",
       "<path fill=\"none\" stroke=\"black\" d=\"M840.5,-103.73C840.5,-95.52 840.5,-86.86 840.5,-78.56\"/>\n",
       "<polygon fill=\"black\" stroke=\"black\" points=\"844,-78.3 840.5,-68.3 837,-78.3 844,-78.3\"/>\n",
       "</g>\n",
       "<!-- 14 -->\n",
       "<g id=\"node15\" class=\"node\">\n",
       "<title>14</title>\n",
       "<path fill=\"#39e581\" stroke=\"black\" d=\"M1012.5,-68C1012.5,-68 926.5,-68 926.5,-68 920.5,-68 914.5,-62 914.5,-56 914.5,-56 914.5,-12 914.5,-12 914.5,-6 920.5,0 926.5,0 926.5,0 1012.5,0 1012.5,0 1018.5,0 1024.5,-6 1024.5,-12 1024.5,-12 1024.5,-56 1024.5,-56 1024.5,-62 1018.5,-68 1012.5,-68\"/>\n",
       "<text text-anchor=\"start\" x=\"929.5\" y=\"-52.8\" font-family=\"Helvetica,sans-Serif\" font-size=\"14.00\">entropy = 0.0</text>\n",
       "<text text-anchor=\"start\" x=\"932\" y=\"-37.8\" font-family=\"Helvetica,sans-Serif\" font-size=\"14.00\">samples = 5</text>\n",
       "<text text-anchor=\"start\" x=\"922.5\" y=\"-22.8\" font-family=\"Helvetica,sans-Serif\" font-size=\"14.00\">value = [0, 5, 0]</text>\n",
       "<text text-anchor=\"start\" x=\"942\" y=\"-7.8\" font-family=\"Helvetica,sans-Serif\" font-size=\"14.00\">class = 3</text>\n",
       "</g>\n",
       "<!-- 12&#45;&gt;14 -->\n",
       "<g id=\"edge14\" class=\"edge\">\n",
       "<title>12&#45;&gt;14</title>\n",
       "<path fill=\"none\" stroke=\"black\" d=\"M888.53,-103.73C899.6,-94.33 911.36,-84.35 922.39,-74.99\"/>\n",
       "<polygon fill=\"black\" stroke=\"black\" points=\"924.91,-77.44 930.27,-68.3 920.38,-72.1 924.91,-77.44\"/>\n",
       "</g>\n",
       "</g>\n",
       "</svg>\n"
      ],
      "text/plain": [
       "<graphviz.files.Source at 0x12baecf10>"
      ]
     },
     "execution_count": 1005,
     "metadata": {},
     "output_type": "execute_result"
    }
   ],
   "source": [
    "\n",
    "\n",
    "dot_data = tree.export_graphviz(clf_en, out_file=None, \n",
    "                              feature_names=standardized_X_train.columns,  \n",
    "                              class_names=y_train.apply(str),  \n",
    "                              filled=True, rounded=True,  \n",
    "                              special_characters=True)\n",
    "\n",
    "graph = graphviz.Source(dot_data) \n",
    "\n",
    "graph "
   ]
  },
  {
   "cell_type": "code",
   "execution_count": 1006,
   "metadata": {},
   "outputs": [
    {
     "name": "stdout",
     "output_type": "stream",
     "text": [
      "Confusion matrix\n",
      "\n",
      " [[5 2 0]\n",
      " [3 3 1]\n",
      " [0 2 6]]\n"
     ]
    }
   ],
   "source": [
    "cm = confusion_matrix(y_test, y_pred_en)\n",
    "\n",
    "print('Confusion matrix\\n\\n', cm)"
   ]
  },
  {
   "cell_type": "code",
   "execution_count": 1007,
   "metadata": {},
   "outputs": [
    {
     "data": {
      "text/plain": [
       "[Text(0, 0.5, '1'), Text(0, 1.5, '2'), Text(0, 2.5, '3')]"
      ]
     },
     "execution_count": 1007,
     "metadata": {},
     "output_type": "execute_result"
    },
    {
     "data": {
      "image/png": "[encoded data removed]",
      "text/plain": [
       "<Figure size 1440x720 with 2 Axes>"
      ]
     },
     "metadata": {
      "needs_background": "light"
     },
     "output_type": "display_data"
    }
   ],
   "source": [
    "plt.figure(figsize=(20,10))\n",
    "ax= plt.subplot()\n",
    "sns.heatmap(cm, annot=True, ax = ax)  #annot=True to annotate cells\n",
    "\n",
    "# labels, title and ticks\n",
    "ax.set_xlabel('Predicted labels')\n",
    "ax.set_ylabel('True labels')\n",
    "ax.set_title('Confusion Matrix')\n",
    "ax.xaxis.set_ticklabels(np.unique(y_test))\n",
    "ax.yaxis.set_ticklabels(np.unique(y_test))"
   ]
  },
  {
   "cell_type": "code",
   "execution_count": 1008,
   "metadata": {},
   "outputs": [
    {
     "name": "stdout",
     "output_type": "stream",
     "text": [
      "              precision    recall  f1-score   support\n",
      "\n",
      "           1       0.62      0.71      0.67         7\n",
      "           2       0.43      0.43      0.43         7\n",
      "           3       0.86      0.75      0.80         8\n",
      "\n",
      "    accuracy                           0.64        22\n",
      "   macro avg       0.64      0.63      0.63        22\n",
      "weighted avg       0.65      0.64      0.64        22\n",
      "\n"
     ]
    }
   ],
   "source": [
    "print(classification_report(y_test, y_pred_en))"
   ]
  },
  {
   "cell_type": "markdown",
   "metadata": {},
   "source": [
    "<h1 id=\"Gradient_Boosting\">\n",
    "4. Gradient Boosting\n",
    "<a class=\"anchor-link\" href=\"https://www.kaggle.com/johnmantios/travel-review-ratings-dataset/edit/run/47115230#Gradient_Boosting\">¶</a>\n",
    "</h1>"
   ]
  },
  {
   "cell_type": "code",
   "execution_count": 826,
   "metadata": {},
   "outputs": [],
   "source": [
    "from sklearn.ensemble import GradientBoostingClassifier\n",
    "\n",
    "training_loss = []\n",
    "test_loss = []\n",
    "\n",
    "def tree_scores(i):\n",
    "    clf_gb = GradientBoostingClassifier( max_depth=i, random_state = 42)\n",
    "    \n",
    "    \n",
    "    clf_gb.fit(standardized_X_train, y_train.values.ravel())\n",
    "    y_pred_gb = clf_gb.predict_proba(standardized_X_test)\n",
    "    y_pred_train_gb = clf_gb.predict_proba(standardized_X_train)\n",
    "    \n",
    "     \n",
    "    #print('Max Depth:' ,i)    \n",
    "    #print('Training set score: {:.4f}'.format(clf_gb.score(standardized_X_train, y_train)))\n",
    "    training_loss.append(log_loss(y_train, y_pred_train_gb))\n",
    "\n",
    "    #print('Test set score: {:.4f}'.format(clf_gb.score(standardized_X_test, y_test)))\n",
    "    test_loss.append(log_loss(y_test, y_pred_gb))\n",
    "     \n",
    "        \n",
    "for i in range(1,11):\n",
    "    tree_scores(i)"
   ]
  },
  {
   "cell_type": "code",
   "execution_count": 827,
   "metadata": {},
   "outputs": [
    {
     "data": {
      "image/png": "[encoded data removed]",
      "text/plain": [
       "<Figure size 432x288 with 1 Axes>"
      ]
     },
     "metadata": {
      "needs_background": "light"
     },
     "output_type": "display_data"
    }
   ],
   "source": [
    "y = [1,2,3,4,5,6,7,8,9,10]\n",
    "\n",
    "# plotting the line 1 points \n",
    "plt.plot(y, training_loss, label = \"training loss \")\n",
    "\n",
    "# plotting the line 2 points \n",
    "plt.plot(y, test_loss, label = \"test loss \")\n",
    "plt.xlabel('Max Depth')\n",
    "# Set the y axis label of the current axis.\n",
    "plt.ylabel('Log-Loss')\n",
    "# Set a title of the current axes.\n",
    "plt.title('Log-Loss plot ')\n",
    "# show a legend on the plot\n",
    "plt.legend()\n",
    "# Display a figure.\n",
    "plt.show()"
   ]
  },
  {
   "cell_type": "code",
   "execution_count": 828,
   "metadata": {},
   "outputs": [
    {
     "name": "stdout",
     "output_type": "stream",
     "text": [
      "0.39803921568627443 {'max_depth': 1}\n"
     ]
    }
   ],
   "source": [
    "parameters = {'max_depth':range(1,11)}\n",
    "clf = GridSearchCV(GradientBoostingClassifier( max_depth=i, random_state = 42),  parameters, n_jobs=4)\n",
    "clf.fit(X=standardized_X_train, y=y_train.values.ravel())\n",
    "tree_model = clf.best_estimator_\n",
    "print (clf.best_score_, clf.best_params_) "
   ]
  },
  {
   "cell_type": "code",
   "execution_count": 831,
   "metadata": {},
   "outputs": [
    {
     "name": "stdout",
     "output_type": "stream",
     "text": [
      "Cross-Validation Score: 0.3847222222222222\n"
     ]
    }
   ],
   "source": [
    "clf_gb = GradientBoostingClassifier( max_depth=2, random_state = 42)\n",
    "\n",
    "print('Cross-Validation Score:',np.mean(cross_val_score(clf_gb, standardized_X_train, y_train.values.ravel(), cv=kfold)))"
   ]
  },
  {
   "cell_type": "code",
   "execution_count": 832,
   "metadata": {},
   "outputs": [
    {
     "data": {
      "text/plain": [
       "GradientBoostingClassifier(max_depth=2, random_state=42)"
      ]
     },
     "execution_count": 832,
     "metadata": {},
     "output_type": "execute_result"
    }
   ],
   "source": [
    "clf_gb = GradientBoostingClassifier( max_depth=2, random_state = 42)\n",
    "\n",
    "clf_gb.fit(standardized_X_train, y_train.values.ravel())"
   ]
  },
  {
   "cell_type": "code",
   "execution_count": 833,
   "metadata": {},
   "outputs": [],
   "source": [
    "y_pred_gb = clf_gb.predict(standardized_X_test)"
   ]
  },
  {
   "cell_type": "code",
   "execution_count": 834,
   "metadata": {},
   "outputs": [
    {
     "name": "stdout",
     "output_type": "stream",
     "text": [
      "Training set score: 0.9205\n",
      "Test set score: 0.4545\n"
     ]
    }
   ],
   "source": [
    "# print the scores on training and test set\n",
    "\n",
    "print('Training set score: {:.4f}'.format(clf_gb.score(standardized_X_train, y_train)))\n",
    "\n",
    "print('Test set score: {:.4f}'.format(clf_gb.score(standardized_X_test, y_test)))"
   ]
  },
  {
   "cell_type": "code",
   "execution_count": 835,
   "metadata": {},
   "outputs": [
    {
     "data": {
      "image/svg+xml": [
       "<?xml version=\"1.0\" encoding=\"UTF-8\" standalone=\"no\"?>\n",
       "<!DOCTYPE svg PUBLIC \"-//W3C//DTD SVG 1.1//EN\"\n",
       " \"http://www.w3.org/Graphics/SVG/1.1/DTD/svg11.dtd\">\n",
       "<!-- Generated by graphviz version 2.44.1 (20200629.0846)\n",
       " -->\n",
       "<!-- Title: Tree Pages: 1 -->\n",
       "<svg width=\"647pt\" height=\"269pt\"\n",
       " viewBox=\"0.00 0.00 647.00 269.00\" xmlns=\"http://www.w3.org/2000/svg\" xmlns:xlink=\"http://www.w3.org/1999/xlink\">\n",
       "<g id=\"graph0\" class=\"graph\" transform=\"scale(1 1) rotate(0) translate(4 265)\">\n",
       "<title>Tree</title>\n",
       "<polygon fill=\"white\" stroke=\"transparent\" points=\"-4,4 -4,-265 643,-265 643,4 -4,4\"/>\n",
       "<!-- 0 -->\n",
       "<g id=\"node1\" class=\"node\">\n",
       "<title>0</title>\n",
       "<path fill=\"#edaa7a\" stroke=\"black\" d=\"M385.5,-261C385.5,-261 256.5,-261 256.5,-261 250.5,-261 244.5,-255 244.5,-249 244.5,-249 244.5,-205 244.5,-205 244.5,-199 250.5,-193 256.5,-193 256.5,-193 385.5,-193 385.5,-193 391.5,-193 397.5,-199 397.5,-205 397.5,-205 397.5,-249 397.5,-249 397.5,-255 391.5,-261 385.5,-261\"/>\n",
       "<text text-anchor=\"start\" x=\"276\" y=\"-245.8\" font-family=\"Helvetica,sans-Serif\" font-size=\"14.00\">course ≤ 0.278</text>\n",
       "<text text-anchor=\"start\" x=\"252.5\" y=\"-230.8\" font-family=\"Helvetica,sans-Serif\" font-size=\"14.00\">friedman_mse = 0.221</text>\n",
       "<text text-anchor=\"start\" x=\"280\" y=\"-215.8\" font-family=\"Helvetica,sans-Serif\" font-size=\"14.00\">samples = 88</text>\n",
       "<text text-anchor=\"start\" x=\"285\" y=\"-200.8\" font-family=\"Helvetica,sans-Serif\" font-size=\"14.00\">value = &#45;0.0</text>\n",
       "</g>\n",
       "<!-- 1 -->\n",
       "<g id=\"node2\" class=\"node\">\n",
       "<title>1</title>\n",
       "<path fill=\"#eca26e\" stroke=\"black\" d=\"M300.5,-157C300.5,-157 171.5,-157 171.5,-157 165.5,-157 159.5,-151 159.5,-145 159.5,-145 159.5,-101 159.5,-101 159.5,-95 165.5,-89 171.5,-89 171.5,-89 300.5,-89 300.5,-89 306.5,-89 312.5,-95 312.5,-101 312.5,-101 312.5,-145 312.5,-145 312.5,-151 306.5,-157 300.5,-157\"/>\n",
       "<text text-anchor=\"start\" x=\"184.5\" y=\"-141.8\" font-family=\"Helvetica,sans-Serif\" font-size=\"14.00\">semester ≤ &#45;1.06</text>\n",
       "<text text-anchor=\"start\" x=\"167.5\" y=\"-126.8\" font-family=\"Helvetica,sans-Serif\" font-size=\"14.00\">friedman_mse = 0.243</text>\n",
       "<text text-anchor=\"start\" x=\"195\" y=\"-111.8\" font-family=\"Helvetica,sans-Serif\" font-size=\"14.00\">samples = 55</text>\n",
       "<text text-anchor=\"start\" x=\"195\" y=\"-96.8\" font-family=\"Helvetica,sans-Serif\" font-size=\"14.00\">value = 0.089</text>\n",
       "</g>\n",
       "<!-- 0&#45;&gt;1 -->\n",
       "<g id=\"edge1\" class=\"edge\">\n",
       "<title>0&#45;&gt;1</title>\n",
       "<path fill=\"none\" stroke=\"black\" d=\"M293.4,-192.88C286.05,-184.07 278.03,-174.43 270.36,-165.24\"/>\n",
       "<polygon fill=\"black\" stroke=\"black\" points=\"272.84,-162.74 263.75,-157.3 267.46,-167.22 272.84,-162.74\"/>\n",
       "<text text-anchor=\"middle\" x=\"261.49\" y=\"-178.5\" font-family=\"Helvetica,sans-Serif\" font-size=\"14.00\">True</text>\n",
       "</g>\n",
       "<!-- 4 -->\n",
       "<g id=\"node5\" class=\"node\">\n",
       "<title>4</title>\n",
       "<path fill=\"#f0b78d\" stroke=\"black\" d=\"M471.5,-157C471.5,-157 342.5,-157 342.5,-157 336.5,-157 330.5,-151 330.5,-145 330.5,-145 330.5,-101 330.5,-101 330.5,-95 336.5,-89 342.5,-89 342.5,-89 471.5,-89 471.5,-89 477.5,-89 483.5,-95 483.5,-101 483.5,-101 483.5,-145 483.5,-145 483.5,-151 477.5,-157 471.5,-157\"/>\n",
       "<text text-anchor=\"start\" x=\"362\" y=\"-141.8\" font-family=\"Helvetica,sans-Serif\" font-size=\"14.00\">course ≤ 1.638</text>\n",
       "<text text-anchor=\"start\" x=\"338.5\" y=\"-126.8\" font-family=\"Helvetica,sans-Serif\" font-size=\"14.00\">friedman_mse = 0.149</text>\n",
       "<text text-anchor=\"start\" x=\"366\" y=\"-111.8\" font-family=\"Helvetica,sans-Serif\" font-size=\"14.00\">samples = 33</text>\n",
       "<text text-anchor=\"start\" x=\"363.5\" y=\"-96.8\" font-family=\"Helvetica,sans-Serif\" font-size=\"14.00\">value = &#45;0.148</text>\n",
       "</g>\n",
       "<!-- 0&#45;&gt;4 -->\n",
       "<g id=\"edge4\" class=\"edge\">\n",
       "<title>0&#45;&gt;4</title>\n",
       "<path fill=\"none\" stroke=\"black\" d=\"M348.92,-192.88C356.43,-183.98 364.64,-174.24 372.47,-164.96\"/>\n",
       "<polygon fill=\"black\" stroke=\"black\" points=\"375.15,-167.2 378.92,-157.3 369.8,-162.69 375.15,-167.2\"/>\n",
       "<text text-anchor=\"middle\" x=\"381.04\" y=\"-178.51\" font-family=\"Helvetica,sans-Serif\" font-size=\"14.00\">False</text>\n",
       "</g>\n",
       "<!-- 2 -->\n",
       "<g id=\"node3\" class=\"node\">\n",
       "<title>2</title>\n",
       "<path fill=\"#fae5d6\" stroke=\"black\" d=\"M134,-53C134,-53 12,-53 12,-53 6,-53 0,-47 0,-41 0,-41 0,-12 0,-12 0,-6 6,0 12,0 12,0 134,0 134,0 140,0 146,-6 146,-12 146,-12 146,-41 146,-41 146,-47 140,-53 134,-53\"/>\n",
       "<text text-anchor=\"start\" x=\"8\" y=\"-37.8\" font-family=\"Helvetica,sans-Serif\" font-size=\"14.00\">friedman_mse = 0.09</text>\n",
       "<text text-anchor=\"start\" x=\"32\" y=\"-22.8\" font-family=\"Helvetica,sans-Serif\" font-size=\"14.00\">samples = 10</text>\n",
       "<text text-anchor=\"start\" x=\"29.5\" y=\"-7.8\" font-family=\"Helvetica,sans-Serif\" font-size=\"14.00\">value = &#45;0.693</text>\n",
       "</g>\n",
       "<!-- 1&#45;&gt;2 -->\n",
       "<g id=\"edge2\" class=\"edge\">\n",
       "<title>1&#45;&gt;2</title>\n",
       "<path fill=\"none\" stroke=\"black\" d=\"M178.99,-88.95C161.71,-78.93 142.82,-67.98 125.83,-58.13\"/>\n",
       "<polygon fill=\"black\" stroke=\"black\" points=\"127.54,-55.07 117.13,-53.09 124.03,-61.13 127.54,-55.07\"/>\n",
       "</g>\n",
       "<!-- 3 -->\n",
       "<g id=\"node4\" class=\"node\">\n",
       "<title>3</title>\n",
       "<path fill=\"#e58139\" stroke=\"black\" d=\"M298,-53C298,-53 176,-53 176,-53 170,-53 164,-47 164,-41 164,-41 164,-12 164,-12 164,-6 170,0 176,0 176,0 298,0 298,0 304,0 310,-6 310,-12 310,-12 310,-41 310,-41 310,-47 304,-53 298,-53\"/>\n",
       "<text text-anchor=\"start\" x=\"172\" y=\"-37.8\" font-family=\"Helvetica,sans-Serif\" font-size=\"14.00\">friedman_mse = 0.25</text>\n",
       "<text text-anchor=\"start\" x=\"196\" y=\"-22.8\" font-family=\"Helvetica,sans-Serif\" font-size=\"14.00\">samples = 45</text>\n",
       "<text text-anchor=\"start\" x=\"196\" y=\"-7.8\" font-family=\"Helvetica,sans-Serif\" font-size=\"14.00\">value = 0.481</text>\n",
       "</g>\n",
       "<!-- 1&#45;&gt;3 -->\n",
       "<g id=\"edge3\" class=\"edge\">\n",
       "<title>1&#45;&gt;3</title>\n",
       "<path fill=\"none\" stroke=\"black\" d=\"M236.35,-88.95C236.44,-80.72 236.53,-71.85 236.62,-63.48\"/>\n",
       "<polygon fill=\"black\" stroke=\"black\" points=\"240.12,-63.27 236.73,-53.24 233.12,-63.2 240.12,-63.27\"/>\n",
       "</g>\n",
       "<!-- 5 -->\n",
       "<g id=\"node6\" class=\"node\">\n",
       "<title>5</title>\n",
       "<path fill=\"#f2c19e\" stroke=\"black\" d=\"M470.5,-53C470.5,-53 341.5,-53 341.5,-53 335.5,-53 329.5,-47 329.5,-41 329.5,-41 329.5,-12 329.5,-12 329.5,-6 335.5,0 341.5,0 341.5,0 470.5,0 470.5,0 476.5,0 482.5,-6 482.5,-12 482.5,-12 482.5,-41 482.5,-41 482.5,-47 476.5,-53 470.5,-53\"/>\n",
       "<text text-anchor=\"start\" x=\"337.5\" y=\"-37.8\" font-family=\"Helvetica,sans-Serif\" font-size=\"14.00\">friedman_mse = 0.182</text>\n",
       "<text text-anchor=\"start\" x=\"365\" y=\"-22.8\" font-family=\"Helvetica,sans-Serif\" font-size=\"14.00\">samples = 25</text>\n",
       "<text text-anchor=\"start\" x=\"366.5\" y=\"-7.8\" font-family=\"Helvetica,sans-Serif\" font-size=\"14.00\">value = &#45;0.27</text>\n",
       "</g>\n",
       "<!-- 4&#45;&gt;5 -->\n",
       "<g id=\"edge5\" class=\"edge\">\n",
       "<title>4&#45;&gt;5</title>\n",
       "<path fill=\"none\" stroke=\"black\" d=\"M406.65,-88.95C406.56,-80.72 406.47,-71.85 406.38,-63.48\"/>\n",
       "<polygon fill=\"black\" stroke=\"black\" points=\"409.88,-63.2 406.27,-53.24 402.88,-63.27 409.88,-63.2\"/>\n",
       "</g>\n",
       "<!-- 6 -->\n",
       "<g id=\"node7\" class=\"node\">\n",
       "<title>6</title>\n",
       "<path fill=\"#ffffff\" stroke=\"black\" d=\"M627,-53C627,-53 513,-53 513,-53 507,-53 501,-47 501,-41 501,-41 501,-12 501,-12 501,-6 507,0 513,0 513,0 627,0 627,0 633,0 639,-6 639,-12 639,-12 639,-41 639,-41 639,-47 633,-53 627,-53\"/>\n",
       "<text text-anchor=\"start\" x=\"509\" y=\"-37.8\" font-family=\"Helvetica,sans-Serif\" font-size=\"14.00\">friedman_mse = 0.0</text>\n",
       "<text text-anchor=\"start\" x=\"532.5\" y=\"-22.8\" font-family=\"Helvetica,sans-Serif\" font-size=\"14.00\">samples = 8</text>\n",
       "<text text-anchor=\"start\" x=\"526.5\" y=\"-7.8\" font-family=\"Helvetica,sans-Serif\" font-size=\"14.00\">value = &#45;0.994</text>\n",
       "</g>\n",
       "<!-- 4&#45;&gt;6 -->\n",
       "<g id=\"edge6\" class=\"edge\">\n",
       "<title>4&#45;&gt;6</title>\n",
       "<path fill=\"none\" stroke=\"black\" d=\"M464.01,-88.95C481.29,-78.93 500.18,-67.98 517.17,-58.13\"/>\n",
       "<polygon fill=\"black\" stroke=\"black\" points=\"518.97,-61.13 525.87,-53.09 515.46,-55.07 518.97,-61.13\"/>\n",
       "</g>\n",
       "</g>\n",
       "</svg>\n"
      ],
      "text/plain": [
       "<graphviz.files.Source at 0x12d820100>"
      ]
     },
     "execution_count": 835,
     "metadata": {},
     "output_type": "execute_result"
    }
   ],
   "source": [
    "dot_data = tree.export_graphviz(clf_gb.estimators_[0, 0], out_file=None, \n",
    "                              feature_names=X_train.columns,  \n",
    "                              class_names=y_train.apply(str),  \n",
    "                              filled=True, rounded=True,  \n",
    "                              special_characters=True)\n",
    "\n",
    "graph = graphviz.Source(dot_data) \n",
    "\n",
    "graph "
   ]
  },
  {
   "cell_type": "code",
   "execution_count": 836,
   "metadata": {},
   "outputs": [
    {
     "name": "stdout",
     "output_type": "stream",
     "text": [
      "Confusion matrix\n",
      "\n",
      " [[4 1 2]\n",
      " [4 1 2]\n",
      " [1 2 5]]\n"
     ]
    }
   ],
   "source": [
    "cm = confusion_matrix(y_test, y_pred_gb)\n",
    "\n",
    "print('Confusion matrix\\n\\n', cm)"
   ]
  },
  {
   "cell_type": "code",
   "execution_count": 616,
   "metadata": {},
   "outputs": [
    {
     "data": {
      "text/plain": [
       "[Text(0, 0.5, '2'), Text(0, 1.5, '3'), Text(0, 2.5, '1')]"
      ]
     },
     "execution_count": 616,
     "metadata": {},
     "output_type": "execute_result"
    },
    {
     "data": {
      "image/png": "[encoded data removed]",
      "text/plain": [
       "<Figure size 1440x720 with 2 Axes>"
      ]
     },
     "metadata": {
      "needs_background": "light"
     },
     "output_type": "display_data"
    }
   ],
   "source": [
    "plt.figure(figsize=(20,10))\n",
    "ax= plt.subplot()\n",
    "sns.heatmap(cm, annot=True, ax = ax)  #annot=True to annotate cells\n",
    "\n",
    "# labels, title and ticks\n",
    "ax.set_xlabel('Predicted labels')\n",
    "ax.set_ylabel('True labels')\n",
    "ax.set_title('Confusion Matrix')\n",
    "ax.xaxis.set_ticklabels(pd.unique(y_test.values.ravel()))\n",
    "ax.yaxis.set_ticklabels(pd.unique(y_test.values.ravel()))"
   ]
  },
  {
   "cell_type": "code",
   "execution_count": 837,
   "metadata": {},
   "outputs": [
    {
     "name": "stdout",
     "output_type": "stream",
     "text": [
      "              precision    recall  f1-score   support\n",
      "\n",
      "           1       0.44      0.57      0.50         7\n",
      "           2       0.25      0.14      0.18         7\n",
      "           3       0.56      0.62      0.59         8\n",
      "\n",
      "    accuracy                           0.45        22\n",
      "   macro avg       0.42      0.45      0.42        22\n",
      "weighted avg       0.42      0.45      0.43        22\n",
      "\n"
     ]
    }
   ],
   "source": [
    "print(classification_report(y_test, y_pred_gb))"
   ]
  },
  {
   "cell_type": "markdown",
   "metadata": {},
   "source": [
    "<h1 id=\"XGB\">\n",
    "5. XGBOOST\n",
    "<a class=\"anchor-link\" href=\"https://www.kaggle.com/johnmantios/travel-review-ratings-dataset/edit/run/47115230#XGB\">¶</a>\n",
    "</h1"
   ]
  },
  {
   "cell_type": "code",
   "execution_count": 838,
   "metadata": {},
   "outputs": [],
   "source": [
    "import xgboost as xgb"
   ]
  },
  {
   "cell_type": "code",
   "execution_count": 839,
   "metadata": {},
   "outputs": [
    {
     "name": "stderr",
     "output_type": "stream",
     "text": [
      "/Library/Frameworks/Python.framework/Versions/3.8/lib/python3.8/site-packages/xgboost/sklearn.py:888: UserWarning:\n",
      "\n",
      "The use of label encoder in XGBClassifier is deprecated and will be removed in a future release. To remove this warning, do the following: 1) Pass option use_label_encoder=False when constructing XGBClassifier object; and 2) Encode your labels (y) as integers starting with 0, i.e. 0, 1, 2, ..., [num_class - 1].\n",
      "\n"
     ]
    },
    {
     "name": "stdout",
     "output_type": "stream",
     "text": [
      "[22:47:47] WARNING: xgboost/src/learner.cc:1061: Starting in XGBoost 1.3.0, the default evaluation metric used with the objective 'multi:softprob' was changed from 'merror' to 'mlogloss'. Explicitly set eval_metric if you'd like to restore the old behavior.\n"
     ]
    },
    {
     "name": "stderr",
     "output_type": "stream",
     "text": [
      "/Library/Frameworks/Python.framework/Versions/3.8/lib/python3.8/site-packages/xgboost/sklearn.py:888: UserWarning:\n",
      "\n",
      "The use of label encoder in XGBClassifier is deprecated and will be removed in a future release. To remove this warning, do the following: 1) Pass option use_label_encoder=False when constructing XGBClassifier object; and 2) Encode your labels (y) as integers starting with 0, i.e. 0, 1, 2, ..., [num_class - 1].\n",
      "\n"
     ]
    },
    {
     "name": "stdout",
     "output_type": "stream",
     "text": [
      "[22:47:48] WARNING: xgboost/src/learner.cc:1061: Starting in XGBoost 1.3.0, the default evaluation metric used with the objective 'multi:softprob' was changed from 'merror' to 'mlogloss'. Explicitly set eval_metric if you'd like to restore the old behavior.\n"
     ]
    },
    {
     "name": "stderr",
     "output_type": "stream",
     "text": [
      "/Library/Frameworks/Python.framework/Versions/3.8/lib/python3.8/site-packages/xgboost/sklearn.py:888: UserWarning:\n",
      "\n",
      "The use of label encoder in XGBClassifier is deprecated and will be removed in a future release. To remove this warning, do the following: 1) Pass option use_label_encoder=False when constructing XGBClassifier object; and 2) Encode your labels (y) as integers starting with 0, i.e. 0, 1, 2, ..., [num_class - 1].\n",
      "\n"
     ]
    },
    {
     "name": "stdout",
     "output_type": "stream",
     "text": [
      "[22:47:48] WARNING: xgboost/src/learner.cc:1061: Starting in XGBoost 1.3.0, the default evaluation metric used with the objective 'multi:softprob' was changed from 'merror' to 'mlogloss'. Explicitly set eval_metric if you'd like to restore the old behavior.\n"
     ]
    },
    {
     "name": "stderr",
     "output_type": "stream",
     "text": [
      "/Library/Frameworks/Python.framework/Versions/3.8/lib/python3.8/site-packages/xgboost/sklearn.py:888: UserWarning:\n",
      "\n",
      "The use of label encoder in XGBClassifier is deprecated and will be removed in a future release. To remove this warning, do the following: 1) Pass option use_label_encoder=False when constructing XGBClassifier object; and 2) Encode your labels (y) as integers starting with 0, i.e. 0, 1, 2, ..., [num_class - 1].\n",
      "\n",
      "/Library/Frameworks/Python.framework/Versions/3.8/lib/python3.8/site-packages/xgboost/sklearn.py:888: UserWarning:\n",
      "\n",
      "The use of label encoder in XGBClassifier is deprecated and will be removed in a future release. To remove this warning, do the following: 1) Pass option use_label_encoder=False when constructing XGBClassifier object; and 2) Encode your labels (y) as integers starting with 0, i.e. 0, 1, 2, ..., [num_class - 1].\n",
      "\n"
     ]
    },
    {
     "name": "stdout",
     "output_type": "stream",
     "text": [
      "[22:47:48] WARNING: xgboost/src/learner.cc:1061: Starting in XGBoost 1.3.0, the default evaluation metric used with the objective 'multi:softprob' was changed from 'merror' to 'mlogloss'. Explicitly set eval_metric if you'd like to restore the old behavior.\n",
      "[22:47:48] WARNING: xgboost/src/learner.cc:1061: Starting in XGBoost 1.3.0, the default evaluation metric used with the objective 'multi:softprob' was changed from 'merror' to 'mlogloss'. Explicitly set eval_metric if you'd like to restore the old behavior.\n"
     ]
    },
    {
     "name": "stderr",
     "output_type": "stream",
     "text": [
      "/Library/Frameworks/Python.framework/Versions/3.8/lib/python3.8/site-packages/xgboost/sklearn.py:888: UserWarning:\n",
      "\n",
      "The use of label encoder in XGBClassifier is deprecated and will be removed in a future release. To remove this warning, do the following: 1) Pass option use_label_encoder=False when constructing XGBClassifier object; and 2) Encode your labels (y) as integers starting with 0, i.e. 0, 1, 2, ..., [num_class - 1].\n",
      "\n",
      "/Library/Frameworks/Python.framework/Versions/3.8/lib/python3.8/site-packages/xgboost/sklearn.py:888: UserWarning:\n",
      "\n",
      "The use of label encoder in XGBClassifier is deprecated and will be removed in a future release. To remove this warning, do the following: 1) Pass option use_label_encoder=False when constructing XGBClassifier object; and 2) Encode your labels (y) as integers starting with 0, i.e. 0, 1, 2, ..., [num_class - 1].\n",
      "\n"
     ]
    },
    {
     "name": "stdout",
     "output_type": "stream",
     "text": [
      "[22:47:49] WARNING: xgboost/src/learner.cc:1061: Starting in XGBoost 1.3.0, the default evaluation metric used with the objective 'multi:softprob' was changed from 'merror' to 'mlogloss'. Explicitly set eval_metric if you'd like to restore the old behavior.\n",
      "[22:47:49] WARNING: xgboost/src/learner.cc:1061: Starting in XGBoost 1.3.0, the default evaluation metric used with the objective 'multi:softprob' was changed from 'merror' to 'mlogloss'. Explicitly set eval_metric if you'd like to restore the old behavior.\n"
     ]
    },
    {
     "name": "stderr",
     "output_type": "stream",
     "text": [
      "/Library/Frameworks/Python.framework/Versions/3.8/lib/python3.8/site-packages/xgboost/sklearn.py:888: UserWarning:\n",
      "\n",
      "The use of label encoder in XGBClassifier is deprecated and will be removed in a future release. To remove this warning, do the following: 1) Pass option use_label_encoder=False when constructing XGBClassifier object; and 2) Encode your labels (y) as integers starting with 0, i.e. 0, 1, 2, ..., [num_class - 1].\n",
      "\n",
      "/Library/Frameworks/Python.framework/Versions/3.8/lib/python3.8/site-packages/xgboost/sklearn.py:888: UserWarning:\n",
      "\n",
      "The use of label encoder in XGBClassifier is deprecated and will be removed in a future release. To remove this warning, do the following: 1) Pass option use_label_encoder=False when constructing XGBClassifier object; and 2) Encode your labels (y) as integers starting with 0, i.e. 0, 1, 2, ..., [num_class - 1].\n",
      "\n"
     ]
    },
    {
     "name": "stdout",
     "output_type": "stream",
     "text": [
      "[22:47:49] WARNING: xgboost/src/learner.cc:1061: Starting in XGBoost 1.3.0, the default evaluation metric used with the objective 'multi:softprob' was changed from 'merror' to 'mlogloss'. Explicitly set eval_metric if you'd like to restore the old behavior.\n",
      "[22:47:49] WARNING: xgboost/src/learner.cc:1061: Starting in XGBoost 1.3.0, the default evaluation metric used with the objective 'multi:softprob' was changed from 'merror' to 'mlogloss'. Explicitly set eval_metric if you'd like to restore the old behavior.\n",
      "[22:47:49] WARNING: xgboost/src/learner.cc:1061: Starting in XGBoost 1.3.0, the default evaluation metric used with the objective 'multi:softprob' was changed from 'merror' to 'mlogloss'. Explicitly set eval_metric if you'd like to restore the old behavior.\n"
     ]
    },
    {
     "name": "stderr",
     "output_type": "stream",
     "text": [
      "/Library/Frameworks/Python.framework/Versions/3.8/lib/python3.8/site-packages/xgboost/sklearn.py:888: UserWarning:\n",
      "\n",
      "The use of label encoder in XGBClassifier is deprecated and will be removed in a future release. To remove this warning, do the following: 1) Pass option use_label_encoder=False when constructing XGBClassifier object; and 2) Encode your labels (y) as integers starting with 0, i.e. 0, 1, 2, ..., [num_class - 1].\n",
      "\n"
     ]
    }
   ],
   "source": [
    "training_loss = []\n",
    "test_loss = []\n",
    "\n",
    "def tree_scores(i):\n",
    "    clf_xgb = xgb.XGBClassifier( max_depth=i, random_state = 42, n_jobs = 4)\n",
    "    \n",
    "    \n",
    "    clf_xgb.fit(standardized_X_train, y_train.values.ravel())\n",
    "    y_pred_xgb = clf_xgb.predict_proba(standardized_X_test)\n",
    "    y_pred_train_xgb = clf_xgb.predict_proba(standardized_X_train)\n",
    "    \n",
    "     \n",
    "    #print('Max Depth:' ,i)    \n",
    "    #print('Training set score: {:.4f}'.format(clf_xgb.score(standardized_X_train, y_train)))\n",
    "    training_loss.append(log_loss(y_train, y_pred_train_xgb))\n",
    "\n",
    "    #print('Test set score: {:.4f}'.format(clf_xgb.score(standardized_X_test, y_test)))\n",
    "    test_loss.append(log_loss(y_test, y_pred_xgb))\n",
    "     \n",
    "        \n",
    "for i in range(1,11):\n",
    "    tree_scores(i)"
   ]
  },
  {
   "cell_type": "code",
   "execution_count": 840,
   "metadata": {},
   "outputs": [
    {
     "data": {
      "image/png": "[encoded data removed]",
      "text/plain": [
       "<Figure size 432x288 with 1 Axes>"
      ]
     },
     "metadata": {
      "needs_background": "light"
     },
     "output_type": "display_data"
    }
   ],
   "source": [
    "y = [1,2,3,4,5,6,7,8,9,10]\n",
    "\n",
    "# plotting the line 1 points \n",
    "plt.plot(y, training_loss, label = \"training loss \")\n",
    "\n",
    "# plotting the line 2 points \n",
    "plt.plot(y, test_loss, label = \"test loss \")\n",
    "plt.xlabel('Max Depth')\n",
    "# Set the y axis label of the current axis.\n",
    "plt.ylabel('Log-Loss')\n",
    "# Set a title of the current axes.\n",
    "plt.title('Log-Loss plot ')\n",
    "# show a legend on the plot\n",
    "plt.legend()\n",
    "# Display a figure.\n",
    "plt.show()"
   ]
  },
  {
   "cell_type": "code",
   "execution_count": 841,
   "metadata": {},
   "outputs": [
    {
     "name": "stderr",
     "output_type": "stream",
     "text": [
      "/Library/Frameworks/Python.framework/Versions/3.8/lib/python3.8/site-packages/xgboost/sklearn.py:888: UserWarning:\n",
      "\n",
      "The use of label encoder in XGBClassifier is deprecated and will be removed in a future release. To remove this warning, do the following: 1) Pass option use_label_encoder=False when constructing XGBClassifier object; and 2) Encode your labels (y) as integers starting with 0, i.e. 0, 1, 2, ..., [num_class - 1].\n",
      "\n"
     ]
    },
    {
     "name": "stdout",
     "output_type": "stream",
     "text": [
      "[22:48:19] WARNING: xgboost/src/learner.cc:1061: Starting in XGBoost 1.3.0, the default evaluation metric used with the objective 'multi:softprob' was changed from 'merror' to 'mlogloss'. Explicitly set eval_metric if you'd like to restore the old behavior.\n",
      "0.3522875816993464 {'max_depth': 1}\n"
     ]
    }
   ],
   "source": [
    "parameters = {'max_depth':range(1,11)}\n",
    "clf = GridSearchCV(xgb.XGBClassifier( max_depth=i, random_state = 42),  parameters, n_jobs=4)\n",
    "clf.fit(X=standardized_X_train, y=y_train.values.ravel())\n",
    "tree_model = clf.best_estimator_\n",
    "print (clf.best_score_, clf.best_params_) "
   ]
  },
  {
   "cell_type": "code",
   "execution_count": 843,
   "metadata": {},
   "outputs": [
    {
     "name": "stderr",
     "output_type": "stream",
     "text": [
      "/Library/Frameworks/Python.framework/Versions/3.8/lib/python3.8/site-packages/xgboost/sklearn.py:888: UserWarning:\n",
      "\n",
      "The use of label encoder in XGBClassifier is deprecated and will be removed in a future release. To remove this warning, do the following: 1) Pass option use_label_encoder=False when constructing XGBClassifier object; and 2) Encode your labels (y) as integers starting with 0, i.e. 0, 1, 2, ..., [num_class - 1].\n",
      "\n"
     ]
    },
    {
     "name": "stdout",
     "output_type": "stream",
     "text": [
      "[22:48:28] WARNING: xgboost/src/learner.cc:1061: Starting in XGBoost 1.3.0, the default evaluation metric used with the objective 'multi:softprob' was changed from 'merror' to 'mlogloss'. Explicitly set eval_metric if you'd like to restore the old behavior.\n",
      "[22:48:28] WARNING: xgboost/src/learner.cc:1061: Starting in XGBoost 1.3.0, the default evaluation metric used with the objective 'multi:softprob' was changed from 'merror' to 'mlogloss'. Explicitly set eval_metric if you'd like to restore the old behavior.\n",
      "[22:48:28] WARNING: xgboost/src/learner.cc:1061: Starting in XGBoost 1.3.0, the default evaluation metric used with the objective 'multi:softprob' was changed from 'merror' to 'mlogloss'. Explicitly set eval_metric if you'd like to restore the old behavior.\n",
      "[22:48:28] WARNING: xgboost/src/learner.cc:1061: Starting in XGBoost 1.3.0, the default evaluation metric used with the objective 'multi:softprob' was changed from 'merror' to 'mlogloss'. Explicitly set eval_metric if you'd like to restore the old behavior.\n",
      "[22:48:28] WARNING: xgboost/src/learner.cc:1061: Starting in XGBoost 1.3.0, the default evaluation metric used with the objective 'multi:softprob' was changed from 'merror' to 'mlogloss'. Explicitly set eval_metric if you'd like to restore the old behavior.\n",
      "[22:48:29] WARNING: xgboost/src/learner.cc:1061: Starting in XGBoost 1.3.0, the default evaluation metric used with the objective 'multi:softprob' was changed from 'merror' to 'mlogloss'. Explicitly set eval_metric if you'd like to restore the old behavior.\n",
      "[22:48:29] WARNING: xgboost/src/learner.cc:1061: Starting in XGBoost 1.3.0, the default evaluation metric used with the objective 'multi:softprob' was changed from 'merror' to 'mlogloss'. Explicitly set eval_metric if you'd like to restore the old behavior.\n",
      "[22:48:29] WARNING: xgboost/src/learner.cc:1061: Starting in XGBoost 1.3.0, the default evaluation metric used with the objective 'multi:softprob' was changed from 'merror' to 'mlogloss'. Explicitly set eval_metric if you'd like to restore the old behavior.\n",
      "[22:48:29] WARNING: xgboost/src/learner.cc:1061: Starting in XGBoost 1.3.0, the default evaluation metric used with the objective 'multi:softprob' was changed from 'merror' to 'mlogloss'. Explicitly set eval_metric if you'd like to restore the old behavior.\n",
      "[22:48:30] WARNING: xgboost/src/learner.cc:1061: Starting in XGBoost 1.3.0, the default evaluation metric used with the objective 'multi:softprob' was changed from 'merror' to 'mlogloss'. Explicitly set eval_metric if you'd like to restore the old behavior.\n",
      "Cross-Validation Score: 0.3833333333333333\n"
     ]
    }
   ],
   "source": [
    "clf_xgb = xgb.XGBClassifier( max_depth=1, random_state = 42)\n",
    "\n",
    "print('Cross-Validation Score:',np.mean(cross_val_score(clf_xgb, standardized_X_train, y_train.values.ravel(), cv=kfold)))"
   ]
  },
  {
   "cell_type": "code",
   "execution_count": 847,
   "metadata": {},
   "outputs": [
    {
     "name": "stdout",
     "output_type": "stream",
     "text": [
      "[22:48:40] WARNING: xgboost/src/learner.cc:1061: Starting in XGBoost 1.3.0, the default evaluation metric used with the objective 'multi:softprob' was changed from 'merror' to 'mlogloss'. Explicitly set eval_metric if you'd like to restore the old behavior.\n"
     ]
    },
    {
     "data": {
      "text/plain": [
       "XGBClassifier(base_score=0.5, booster='gbtree', colsample_bylevel=1,\n",
       "              colsample_bynode=1, colsample_bytree=1, eta=0.8, gamma=2,\n",
       "              gpu_id=-1, importance_type='gain', interaction_constraints='',\n",
       "              learning_rate=0.800000012, max_delta_step=0, max_depth=1,\n",
       "              min_child_weight=1, missing=nan, monotone_constraints='()',\n",
       "              n_estimators=100, n_jobs=4, num_parallel_tree=1,\n",
       "              objective='multi:softprob', random_state=0, reg_alpha=0.5,\n",
       "              reg_lambda=0.5, scale_pos_weight=None, subsample=1,\n",
       "              tree_method='exact', validate_parameters=1, verbosity=None)"
      ]
     },
     "execution_count": 847,
     "metadata": {},
     "output_type": "execute_result"
    }
   ],
   "source": [
    "clf_xgb = xgb.XGBClassifier( \n",
    "    max_depth=1,\n",
    "    gamma=2,\n",
    "    eta=0.8,\n",
    "    reg_alpha=0.5,\n",
    "    reg_lambda=0.5\n",
    ")\n",
    "\n",
    "clf_xgb.fit(standardized_X_train, y_train.values.ravel())\n"
   ]
  },
  {
   "cell_type": "code",
   "execution_count": 848,
   "metadata": {},
   "outputs": [],
   "source": [
    "y_pred_xgb = clf_xgb.predict(standardized_X_test)"
   ]
  },
  {
   "cell_type": "code",
   "execution_count": 849,
   "metadata": {},
   "outputs": [
    {
     "name": "stdout",
     "output_type": "stream",
     "text": [
      "Training set score: 0.5227\n",
      "Test set score: 0.4545\n"
     ]
    }
   ],
   "source": [
    "# print the scores on training and test set\n",
    "\n",
    "print('Training set score: {:.4f}'.format(clf_xgb.score(standardized_X_train, y_train)))\n",
    "\n",
    "print('Test set score: {:.4f}'.format(clf_xgb.score(standardized_X_test, y_test)))"
   ]
  },
  {
   "cell_type": "code",
   "execution_count": 545,
   "metadata": {},
   "outputs": [
    {
     "data": {
      "image/png": "[encoded data removed]",
      "text/plain": [
       "<Figure size 2160x2160 with 1 Axes>"
      ]
     },
     "metadata": {
      "needs_background": "light"
     },
     "output_type": "display_data"
    }
   ],
   "source": [
    "fig, ax = plt.subplots(figsize=(30, 30))\n",
    "xgb.plot_tree(clf_xgb, num_trees=2, ax=ax)\n",
    "plt.show()"
   ]
  },
  {
   "cell_type": "code",
   "execution_count": 850,
   "metadata": {},
   "outputs": [
    {
     "name": "stdout",
     "output_type": "stream",
     "text": [
      "Confusion matrix\n",
      "\n",
      " [[6 1 0]\n",
      " [4 2 1]\n",
      " [2 4 2]]\n"
     ]
    }
   ],
   "source": [
    "cm = confusion_matrix(y_test, y_pred_xgb)\n",
    "\n",
    "print('Confusion matrix\\n\\n', cm)"
   ]
  },
  {
   "cell_type": "code",
   "execution_count": 851,
   "metadata": {},
   "outputs": [
    {
     "data": {
      "text/plain": [
       "[Text(0, 0.5, '2'), Text(0, 1.5, '3'), Text(0, 2.5, '1')]"
      ]
     },
     "execution_count": 851,
     "metadata": {},
     "output_type": "execute_result"
    },
    {
     "data": {
      "image/png": "[encoded data removed]",
      "text/plain": [
       "<Figure size 1440x720 with 2 Axes>"
      ]
     },
     "metadata": {
      "needs_background": "light"
     },
     "output_type": "display_data"
    }
   ],
   "source": [
    "plt.figure(figsize=(20,10))\n",
    "ax= plt.subplot()\n",
    "sns.heatmap(cm, annot=True, ax = ax)  #annot=True to annotate cells\n",
    "\n",
    "# labels, title and ticks\n",
    "ax.set_xlabel('Predicted labels')\n",
    "ax.set_ylabel('True labels')\n",
    "ax.set_title('Confusion Matrix')\n",
    "ax.xaxis.set_ticklabels(pd.unique(y_test.values.ravel()))\n",
    "ax.yaxis.set_ticklabels(pd.unique(y_test.values.ravel()))"
   ]
  },
  {
   "cell_type": "code",
   "execution_count": 852,
   "metadata": {},
   "outputs": [
    {
     "name": "stdout",
     "output_type": "stream",
     "text": [
      "              precision    recall  f1-score   support\n",
      "\n",
      "           1       0.50      0.86      0.63         7\n",
      "           2       0.29      0.29      0.29         7\n",
      "           3       0.67      0.25      0.36         8\n",
      "\n",
      "    accuracy                           0.45        22\n",
      "   macro avg       0.48      0.46      0.43        22\n",
      "weighted avg       0.49      0.45      0.42        22\n",
      "\n"
     ]
    }
   ],
   "source": [
    "print(classification_report(y_test, y_pred_xgb))"
   ]
  },
  {
   "cell_type": "markdown",
   "metadata": {},
   "source": [
    "<h1 id=\"Random_Forest\">\n",
    "6. Random Forest\n",
    "<a class=\"anchor-link\" href=\"https://www.kaggle.com/johnmantios/travel-review-ratings-dataset/edit/run/47115230#Random_Forest\">¶</a>\n",
    "</h1>"
   ]
  },
  {
   "cell_type": "code",
   "execution_count": 853,
   "metadata": {},
   "outputs": [],
   "source": [
    "from sklearn.ensemble import RandomForestClassifier\n",
    "\n",
    "training_loss = []\n",
    "test_loss = []\n",
    "\n",
    "def tree_scores(i):\n",
    "    #X_train, X_test, y_train, y_test = train_test_split(X, y, test_size = 0.3, random_state = 42, stratify = y)\n",
    "    clf_rf = RandomForestClassifier( max_depth=i, random_state = 42, n_jobs = 4, n_estimators = 300, criterion = 'entropy')\n",
    "    \n",
    "    \n",
    "    clf_rf.fit(X_train, y_train.values.ravel())\n",
    "    y_pred_rf = clf_rf.predict_proba(X_test)\n",
    "    y_pred_train_rf = clf_rf.predict_proba(X_train)\n",
    "    \n",
    "     \n",
    "    #print('Max Depth:' ,i)    \n",
    "    #print('Training set score: {:.4f}'.format(clf_rf.score(X_train, y_train)))\n",
    "    training_loss.append(log_loss(y_train, y_pred_train_rf))\n",
    "\n",
    "    #print('Test set score: {:.4f}'.format(clf_rf.score(X_test, y_test)))\n",
    "    test_loss.append(log_loss(y_test, y_pred_rf))\n",
    "     \n",
    "        \n",
    "for i in range(1,11):\n",
    "    tree_scores(i)"
   ]
  },
  {
   "cell_type": "code",
   "execution_count": 854,
   "metadata": {},
   "outputs": [
    {
     "data": {
      "image/png": "[encoded data removed]",
      "text/plain": [
       "<Figure size 432x288 with 1 Axes>"
      ]
     },
     "metadata": {
      "needs_background": "light"
     },
     "output_type": "display_data"
    }
   ],
   "source": [
    "y = [1,2,3,4,5,6,7,8,9,10]\n",
    "\n",
    "# plotting the line 1 points \n",
    "plt.plot(y, training_loss, label = \"training loss \")\n",
    "\n",
    "# plotting the line 2 points \n",
    "plt.plot(y, test_loss, label = \"test loss \")\n",
    "plt.xlabel('Max Depth')\n",
    "# Set the y axis label of the current axis.\n",
    "plt.ylabel('Log-Loss')\n",
    "# Set a title of the current axes.\n",
    "plt.title('Log-Loss plot ')\n",
    "# show a legend on the plot\n",
    "plt.legend()\n",
    "# Display a figure.\n",
    "plt.show()"
   ]
  },
  {
   "cell_type": "code",
   "execution_count": 855,
   "metadata": {},
   "outputs": [
    {
     "name": "stdout",
     "output_type": "stream",
     "text": [
      "0.4647058823529412 {'max_depth': 2, 'n_estimators': 10}\n"
     ]
    }
   ],
   "source": [
    "parameters = [{'max_depth':range(1,6), 'n_estimators' : [10,100,200,300,400]}]\n",
    "clf = GridSearchCV(RandomForestClassifier(criterion = 'entropy',  random_state = 42),  parameters, n_jobs=-1)\n",
    "clf.fit(X=standardized_X_train, y=y_train.values.ravel())\n",
    "tree_model = clf.best_estimator_\n",
    "print (clf.best_score_, clf.best_params_) "
   ]
  },
  {
   "cell_type": "code",
   "execution_count": 856,
   "metadata": {},
   "outputs": [
    {
     "name": "stdout",
     "output_type": "stream",
     "text": [
      "Cross-Validation Score: 0.42777777777777776\n"
     ]
    }
   ],
   "source": [
    "clf_rf = RandomForestClassifier( max_depth=2, random_state = 42, n_estimators = 300, criterion = 'entropy', max_leaf_nodes = 2)\n",
    "\n",
    "print('Cross-Validation Score:',np.mean(cross_val_score(clf_rf, standardized_X_train, y_train.values.ravel(), cv=kfold)))"
   ]
  },
  {
   "cell_type": "code",
   "execution_count": 857,
   "metadata": {},
   "outputs": [
    {
     "data": {
      "text/plain": [
       "RandomForestClassifier(criterion='entropy', max_depth=2, max_leaf_nodes=2,\n",
       "                       n_estimators=300, random_state=42)"
      ]
     },
     "execution_count": 857,
     "metadata": {},
     "output_type": "execute_result"
    }
   ],
   "source": [
    "clf_rf = RandomForestClassifier(max_depth=2, random_state = 42, n_estimators = 300, criterion = 'entropy', max_leaf_nodes=2)\n",
    "\n",
    "clf_rf.fit(standardized_X_train, y_train.values.ravel())"
   ]
  },
  {
   "cell_type": "code",
   "execution_count": 858,
   "metadata": {},
   "outputs": [],
   "source": [
    "y_pred_rf = clf_rf.predict(standardized_X_test)"
   ]
  },
  {
   "cell_type": "code",
   "execution_count": 859,
   "metadata": {},
   "outputs": [
    {
     "name": "stdout",
     "output_type": "stream",
     "text": [
      "Training set score: 0.6023\n",
      "Test set score: 0.5455\n"
     ]
    }
   ],
   "source": [
    "# print the scores on training and test set\n",
    "\n",
    "print('Training set score: {:.4f}'.format(clf_rf.score(standardized_X_train, y_train)))\n",
    "\n",
    "print('Test set score: {:.4f}'.format(clf_rf.score(standardized_X_test, y_test)))"
   ]
  },
  {
   "cell_type": "code",
   "execution_count": 860,
   "metadata": {},
   "outputs": [
    {
     "name": "stdout",
     "output_type": "stream",
     "text": [
      "Confusion matrix\n",
      "\n",
      " [[7 0 0]\n",
      " [5 1 1]\n",
      " [0 4 4]]\n"
     ]
    }
   ],
   "source": [
    "cm = confusion_matrix(y_test, y_pred_rf)\n",
    "\n",
    "print('Confusion matrix\\n\\n', cm)"
   ]
  },
  {
   "cell_type": "code",
   "execution_count": 861,
   "metadata": {},
   "outputs": [
    {
     "data": {
      "text/plain": [
       "[Text(0, 0.5, '2'), Text(0, 1.5, '3'), Text(0, 2.5, '1')]"
      ]
     },
     "execution_count": 861,
     "metadata": {},
     "output_type": "execute_result"
    },
    {
     "data": {
      "image/png": "[encoded data removed]",
      "text/plain": [
       "<Figure size 1440x720 with 2 Axes>"
      ]
     },
     "metadata": {
      "needs_background": "light"
     },
     "output_type": "display_data"
    }
   ],
   "source": [
    "plt.figure(figsize=(20,10))\n",
    "ax= plt.subplot()\n",
    "sns.heatmap(cm, annot=True, ax = ax)  #annot=True to annotate cells\n",
    "\n",
    "# labels, title and ticks\n",
    "ax.set_xlabel('Predicted labels')\n",
    "ax.set_ylabel('True labels')\n",
    "ax.set_title('Confusion Matrix')\n",
    "ax.xaxis.set_ticklabels(pd.unique(y_test.values.ravel()))\n",
    "ax.yaxis.set_ticklabels(pd.unique(y_test.values.ravel()))"
   ]
  },
  {
   "cell_type": "code",
   "execution_count": 862,
   "metadata": {},
   "outputs": [
    {
     "name": "stdout",
     "output_type": "stream",
     "text": [
      "              precision    recall  f1-score   support\n",
      "\n",
      "           1       0.58      1.00      0.74         7\n",
      "           2       0.20      0.14      0.17         7\n",
      "           3       0.80      0.50      0.62         8\n",
      "\n",
      "    accuracy                           0.55        22\n",
      "   macro avg       0.53      0.55      0.51        22\n",
      "weighted avg       0.54      0.55      0.51        22\n",
      "\n"
     ]
    }
   ],
   "source": [
    "print(classification_report(y_test, y_pred_rf))"
   ]
  }
 ],
 "metadata": {
  "kernelspec": {
   "display_name": "Python 3",
   "language": "python",
   "name": "python3"
  },
  "language_info": {
   "codemirror_mode": {
    "name": "ipython",
    "version": 3
   },
   "file_extension": ".py",
   "mimetype": "text/x-python",
   "name": "python",
   "nbconvert_exporter": "python",
   "pygments_lexer": "ipython3",
   "version": "3.8.5"
  }
 },
 "nbformat": 4,
 "nbformat_minor": 4
}
